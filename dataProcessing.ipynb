{
 "cells": [
  {
   "cell_type": "markdown",
   "id": "8fbf6081",
   "metadata": {},
   "source": [
    "# Data Processing\n",
    "In this notebook, we process our dataset data. For each table, we made various operations, for example, drop unimportant columns, transform columns to more convenient ones, deal with missing values and outliers, extract new columns from the aggregation of the existing ones, etc. In the end, we merge all the tables into a final one, so that it's easier to use the data in the application of the machine learning models."
   ]
  },
  {
   "cell_type": "markdown",
   "id": "c76cd050",
   "metadata": {},
   "source": [
    "## Tables Preprocessing\n",
    "In this section, we preprocess the data of each relation of our dataset."
   ]
  },
  {
   "cell_type": "markdown",
   "id": "040e9aa5",
   "metadata": {},
   "source": [
    "### Account Relation Data Preprocessing\n",
    "For the account relation, we transform the `date` column to a new one called `year_since_acc_open`. The new column corresponds to the number of years since the account was open. Because the dataset is a little bit old, we are not computing the number of years in relation to today. Instead, we are considering the year 2003, to be consistent with the date we choose in the client relation. To see why who choose the year 2003, please check the client relation preprocessing section."
   ]
  },
  {
   "cell_type": "code",
   "execution_count": 9,
   "id": "1a0fc62f-4d0b-46f9-90ea-665c7778c8e1",
   "metadata": {},
   "outputs": [],
   "source": [
    "import pandas as pd\n",
    "from datetime import datetime\n",
    "from dateutil.relativedelta import relativedelta\n",
    "\n",
    "def transform_df_with_date(df, columnName, newColumnName):\n",
    "  df[columnName] = df[columnName].apply(normalize_date)\n",
    "  df.rename(columns={columnName: newColumnName}, inplace = True)\n",
    "\n",
    "def normalize_date(accountDate):\n",
    "  original_date = datetime.strptime(str(accountDate), '%y%m%d')\n",
    "  date_in_2003 = datetime.strptime(\"01-01-2003\", \"%m-%d-%Y\")\n",
    "  return relativedelta(date_in_2003, original_date).years\n",
    "\n",
    "account_data = pd.read_csv(\"./files/account.csv\", sep=\";\", index_col=0)\n",
    "transform_df_with_date(account_data, \"date\", \"years_since_acc_open\")\n",
    "account_data.to_csv(\"./preprocessed/account.csv\")"
   ]
  },
  {
   "cell_type": "markdown",
   "id": "43714252",
   "metadata": {},
   "source": [
    "### Client Relation Data Preprocessing\n",
    "For the client relation, we make some operations in the `birth_number` column. This column contains the birthday and the sex of the client, which is a number that is in the form YYMMDD for men and in the form YYMM+50DD for women, where YYMMDD is the date of birth. To make it easier to see the values of the sex and birthday, we transform this column to two new ones: `gender` and `age`. Note that we are using age instead of the original birth date, because it's easier to use integer numbers than dates, both in the data understanding and in the model application phases. As in the account relation data processing phase, we are considering the date 2003 instead of today. This is the year from which the minimum age of the clients is 18, the legal age from when a person can ask for a loan."
   ]
  },
  {
   "cell_type": "code",
   "execution_count": 14,
   "id": "83dbe159-28e9-4277-a75e-3c6dcf5808e0",
   "metadata": {},
   "outputs": [
    {
     "data": {
      "text/plain": [
       "Text(0.5, 1.0, 'Distribution of Client Ages')"
      ]
     },
     "execution_count": 14,
     "metadata": {},
     "output_type": "execute_result"
    },
    {
     "data": {
      "image/png": "[encoded data removed]",
      "text/plain": [
       "<Figure size 432x288 with 1 Axes>"
      ]
     },
     "metadata": {
      "needs_background": "light"
     },
     "output_type": "display_data"
    }
   ],
   "source": [
    "import re\n",
    "import seaborn as sb\n",
    "\n",
    "client_data = pd.read_csv(\"./files/client.csv\", sep=\";\", index_col=0)\n",
    "\n",
    "clientGenders = []\n",
    "clientAge = []\n",
    "\n",
    "def normalize_birthNumber(clientBirthNumber):\n",
    "  dateSearch = re.search('(\\d{2})(\\d{2})(\\d{2})', str(clientBirthNumber))\n",
    "  years = int(dateSearch.group(1))\n",
    "  months = int(dateSearch.group(2))\n",
    "  days = int(dateSearch.group(3))\n",
    "  \n",
    "  gender = \"M\"\n",
    "  if months > 12:\n",
    "    gender = \"F\"\n",
    "    months = months - 50\n",
    "\n",
    "  original_date = datetime.strptime(f\"19{years}-{months}-{days}\", '%Y-%m-%d')\n",
    "  date_in_2003 = datetime.strptime(\"01-01-2003\", \"%m-%d-%Y\")\n",
    "  age = relativedelta(date_in_2003, original_date).years\n",
    "\n",
    "  clientGenders.append(gender)\n",
    "  clientAge.append(age)\n",
    "\n",
    "\n",
    "client_data.birth_number = client_data.birth_number.apply(normalize_birthNumber)\n",
    "client_data['gender'] = clientGenders\n",
    "client_data['age'] = clientAge\n",
    "\n",
    "sb.histplot(data=client_data, x=\"age\",).set_title(\"Distribution of Client Ages\")"
   ]
  },
  {
   "cell_type": "markdown",
   "id": "5d57d974",
   "metadata": {},
   "source": [
    "As we can see in the plot above, the age distribution of the clients can vary, depending on the age group. In order to divide the ages of the clients into age groups, we implemented a age equal-frequency discretization, so that we have age groups with approximately the same number of samples. "
   ]
  },
  {
   "cell_type": "code",
   "execution_count": 3,
   "id": "dedc3ea1",
   "metadata": {},
   "outputs": [
    {
     "name": "stdout",
     "output_type": "stream",
     "text": [
      "After Discretization: \n",
      "\n"
     ]
    },
    {
     "data": {
      "image/png": "[encoded data removed]",
      "text/plain": [
       "<Figure size 432x288 with 1 Axes>"
      ]
     },
     "metadata": {
      "needs_background": "light"
     },
     "output_type": "display_data"
    }
   ],
   "source": [
    "import matplotlib.pyplot as plt\n",
    "from sklearn.preprocessing import KBinsDiscretizer\n",
    "\n",
    "# Equal-Frequency Discretization\n",
    "number_bins = 5\n",
    "\n",
    "client_age_data = client_data['age'].values.reshape(-1,1)\n",
    "discretizer = KBinsDiscretizer(n_bins=number_bins, encode='ordinal', strategy='quantile')\n",
    "client_data['age_group'] = discretizer.fit_transform(client_age_data)\n",
    "\n",
    "# Discretization meaning\n",
    "bins = []\n",
    "values = client_data['age_group'].tolist().count(0.0), client_data['age_group'].tolist().count(1.0), \\\n",
    "  client_data['age_group'].tolist().count(2.0), client_data['age_group'].tolist().count(3.0), \\\n",
    "  client_data['age_group'].tolist().count(4.0)\n",
    "\n",
    "print(\"After Discretization: \\n\")\n",
    "for i in range(0, 5):\n",
    "  limits = f\"{discretizer.bin_edges_[0][i]:.0f} - {(discretizer.bin_edges_[0][i + 1] - 1):.0f}\"\n",
    "  bins.append(limits)\n",
    "  \n",
    "fig = plt.figure()\n",
    "ax = fig.add_axes([0,0,1,1])\n",
    "ax.bar(bins, values)\n",
    "plt.title('Age group discretization')\n",
    "plt.xlabel('Ages')\n",
    "plt.ylabel('Count')\n",
    "plt.show()\n",
    "\n",
    "client_data.drop(columns = ['birth_number', 'age'], inplace = True)\n",
    "client_data.to_csv(\"./preprocessed/client.csv\")"
   ]
  },
  {
   "cell_type": "markdown",
   "id": "f5089d98",
   "metadata": {},
   "source": [
    "### Card Relation Data Preprocessing"
   ]
  },
  {
   "cell_type": "code",
   "execution_count": 4,
   "id": "36645287",
   "metadata": {},
   "outputs": [],
   "source": [
    "card_test_data = pd.read_csv(\"./files/card_test.csv\", sep=\";\", index_col=0)\n",
    "card_train_data = pd.read_csv(\"./files/card_train.csv\", sep=\";\", index_col=0)\n",
    "\n",
    "transform_df_with_date(card_test_data, \"issued\", \"years_since_issued\")\n",
    "transform_df_with_date(card_train_data, \"issued\", \"years_since_issued\")\n",
    "\n",
    "card_test_data.to_csv(\"./preprocessed/card_test.csv\")\n",
    "card_train_data.to_csv(\"./preprocessed/card_train.csv\")   "
   ]
  },
  {
   "cell_type": "markdown",
   "id": "afc04e26",
   "metadata": {},
   "source": [
    "### Loan Relation Data Preprocessing"
   ]
  },
  {
   "cell_type": "code",
   "execution_count": 5,
   "id": "843457e0",
   "metadata": {},
   "outputs": [
    {
     "data": {
      "image/png": "[encoded data removed]",
      "text/plain": [
       "<Figure size 360x360 with 1 Axes>"
      ]
     },
     "metadata": {
      "needs_background": "light"
     },
     "output_type": "display_data"
    },
    {
     "data": {
      "image/png": "[encoded data removed]",
      "text/plain": [
       "<Figure size 360x360 with 1 Axes>"
      ]
     },
     "metadata": {
      "needs_background": "light"
     },
     "output_type": "display_data"
    }
   ],
   "source": [
    "def plot_distribution(df, column_name):\n",
    "    sb.displot(df, x=column_name)\n",
    "\n",
    "loan_test_data = pd.read_csv(\"./files/loan_test.csv\", sep=\";\")\n",
    "loan_train_data = pd.read_csv(\"./files/loan_train.csv\", sep=\";\")\n",
    "\n",
    "transform_df_with_date(loan_train_data, \"date\", \"years_since_loan\")\n",
    "transform_df_with_date(loan_test_data, \"date\", \"years_since_loan\")\n",
    "\n",
    "plot_distribution(loan_test_data, \"amount\")\n",
    "plot_distribution(loan_test_data, \"payments\")\n",
    "\n",
    "loan_test_data.to_csv(\"./preprocessed/loan_test_data.csv\")\n",
    "loan_train_data.to_csv(\"./preprocessed/loan_train_data.csv\")\n",
    "\n",
    "# TO DO\n",
    "# Categorizar \"amount\" e \"payments\""
   ]
  },
  {
   "cell_type": "markdown",
   "id": "97bcf000",
   "metadata": {},
   "source": [
    "### Transational Relation Data Preprocessing"
   ]
  },
  {
   "cell_type": "code",
   "execution_count": 6,
   "id": "de7d6a64",
   "metadata": {},
   "outputs": [
    {
     "name": "stderr",
     "output_type": "stream",
     "text": [
      "/home/tiago/.local/lib/python3.8/site-packages/IPython/core/interactiveshell.py:3441: DtypeWarning: Columns (8) have mixed types.Specify dtype option on import or set low_memory=False.\n",
      "  exec(code_obj, self.user_global_ns, self.user_ns)\n"
     ]
    },
    {
     "name": "stdout",
     "output_type": "stream",
     "text": [
      "      account_id        type     type_mean  type_count  type_max  type_min  \\\n",
      "0              1      credit   1992.602000          50   12600.0      19.2   \n",
      "1              1  withdrawal  -1380.479365          63     -14.6   -7500.0   \n",
      "2              2      credit  10394.786364          22   30354.0      13.5   \n",
      "3              2  withdrawal  -6276.393750          32     -14.6  -22400.0   \n",
      "4              4      credit   3348.264706          17    5553.0      66.6   \n",
      "...          ...         ...           ...         ...       ...       ...   \n",
      "6459       11359  withdrawal  -6149.507843         102     -14.6  -30100.0   \n",
      "6460       11362      credit   8811.758621          29   24212.0      50.1   \n",
      "6461       11362  withdrawal  -2965.915385          78     -14.6  -16100.0   \n",
      "6462       11382      credit  11086.665306          49   46248.0      36.3   \n",
      "6463       11382  withdrawal -10324.820000          50      -1.0  -36000.0   \n",
      "\n",
      "          type_std  \n",
      "0      2298.080022  \n",
      "1      1463.225675  \n",
      "2     11457.269613  \n",
      "3      6011.475327  \n",
      "4      2721.128176  \n",
      "...            ...  \n",
      "6459   7074.538169  \n",
      "6460   9224.068085  \n",
      "6461   3683.659373  \n",
      "6462  16299.472136  \n",
      "6463  10117.912422  \n",
      "\n",
      "[6464 rows x 7 columns]\n",
      "     account_id        type     type_mean  type_count  type_max  type_min  \\\n",
      "0            25      credit  19787.319608          51   49734.0     134.8   \n",
      "1            25  withdrawal  -8650.720354         113     -14.6  -62900.0   \n",
      "2            37      credit  13979.996875          32   47785.0      49.5   \n",
      "3            37  withdrawal  -5130.857143          84      -0.4  -43200.0   \n",
      "4            38      credit   6452.334783          23   20762.0      48.2   \n",
      "..          ...         ...           ...         ...       ...       ...   \n",
      "702       11317  withdrawal -10552.077895          95     -14.6  -61700.0   \n",
      "703       11327      credit  10715.865217          23   30462.0      49.4   \n",
      "704       11327  withdrawal  -5946.632258          31     -14.6  -23600.0   \n",
      "705       11328      credit   9510.687234          47   44135.0      64.3   \n",
      "706       11328  withdrawal  -7045.745763          59     -14.6  -61000.0   \n",
      "\n",
      "         type_std  \n",
      "0    17103.918602  \n",
      "1    13588.107670  \n",
      "2    16888.143676  \n",
      "3     8069.273290  \n",
      "4     6989.250899  \n",
      "..            ...  \n",
      "702  14541.424296  \n",
      "703  11534.956698  \n",
      "704   6670.995132  \n",
      "705  12211.875286  \n",
      "706   9638.872313  \n",
      "\n",
      "[707 rows x 7 columns]\n"
     ]
    }
   ],
   "source": [
    "import numpy as np\n",
    "\n",
    "def stdDeviation_trans_data(df):\n",
    "  test_df = df.sort_values(by=['account_id'])\n",
    "  test_df = test_df.groupby(['account_id']).first()\n",
    "  \n",
    "  # Get different account_ids\n",
    "  account_ids = test_df.index\n",
    "  itr_per_account = []\n",
    "\n",
    "  # Compute Standard Deviation for every account_id\n",
    "  for account_id in account_ids:\n",
    "    q3, q1 = np.percentile(df.loc[lambda df: df['account_id'] == account_id]['balance'], [75 ,25])\n",
    "    itr_per_account.append(q3 - q1)\n",
    "\n",
    "  return itr_per_account\n",
    "\n",
    "\n",
    "def preprocess_transaction(df):\n",
    "  itr_per_account = stdDeviation_trans_data(df)\n",
    "\n",
    "  # Types of withdrawal in cash = withdrawal\n",
    "  df.loc[df[\"type\"] == \"withdrawal in cash\", \"type\"] = \"withdrawal\"\n",
    "\n",
    "  # Withdrawals have negative balance\n",
    "  df.loc[df[\"type\"] == \"withdrawal\", \"amount\"] *= -1\n",
    "\n",
    "  # Null Operation values are equivalent to Interest Credited as in k_symbol\n",
    "  df[\"operation\"].fillna('IC', inplace=True)\n",
    "\n",
    "  # Renaming operations\n",
    "  df.loc[df[\"operation\"] == \"collection from another bank\", \"operation\"] = \"CAB\"\n",
    "  df.loc[df[\"operation\"] == \"remittance to another bank\", \"operation\"] = \"RAB\"\n",
    "  df.loc[df[\"operation\"] == \"withdrawal in cash\", \"operation\"] = \"WC\"\n",
    "  df.loc[df[\"operation\"] == \"credit card withdrawal\", \"operation\"] = \"CCW\"\n",
    "  df.loc[df[\"operation\"] == \"credit in cash\", \"operation\"] = \"CC\"\n",
    "  \n",
    "  first = lambda df: df.iloc[0]\n",
    "  last = lambda df: df.iloc[-1]\n",
    "\n",
    "  # Handling Transaction balances\n",
    "  agg_balance = df.sort_values(by=['account_id', 'date'], ascending=[True, False]) \\\n",
    "                    .groupby(['account_id']) \\\n",
    "                    .agg({\n",
    "                        'balance': ['mean', 'max', 'min', 'std', first, last],\n",
    "                        'date': first,\n",
    "                        'amount': first\n",
    "                    }) \\\n",
    "                    .reset_index()\n",
    "  \n",
    "  agg_balance.columns = ['account_id', 'balance_mean', 'balance_max', 'balance_min', 'balance_std',\n",
    "                          'last_balance', 'first_balance', 'last_trans_date', 'last_trans_amount']\n",
    "  \n",
    "  # Feature reached_negative_balance\n",
    "  agg_balance['reached_negative_balance'] = agg_balance['balance_min']\n",
    "  agg_balance.loc[agg_balance[\"balance_min\"] >= 0, \"reached_negative_balance\"] = 1\n",
    "  agg_balance.loc[agg_balance[\"balance_min\"] < 0, \"reached_negative_balance\"] = -1\n",
    "\n",
    "  # Handlign credits and withdrawals\n",
    "  agg_types = df.sort_values(by=['account_id'], ascending=[True]) \\\n",
    "                            .groupby(['account_id', 'type']) \\\n",
    "                            .agg({\n",
    "                                'amount': ['mean', 'count', 'max', 'min', 'std'],\n",
    "                            }) \\\n",
    "                            .reset_index()\n",
    "\n",
    "  agg_types.columns = ['account_id', 'type', 'type_mean', 'type_count', 'type_max', 'type_min', 'type_std']\n",
    "  \n",
    "  print(agg_types)\n",
    "\n",
    "  agg_credits = agg_types[agg_types['type'] == 'credit']\n",
    "  agg_credits.columns = ['account_id', 'type', 'credit_mean', 'credit_count', 'credit_max', 'credit_min', 'credit_std']\n",
    "  agg_credits.drop(['type'], axis=1)\n",
    "  \n",
    "  agg_withdrawals = agg_types[agg_types['type'] == 'withdrawal']\n",
    "  agg_withdrawals.columns = ['account_id', 'type', 'withdrawal_mean', 'withdrawal_count', 'withdrawal_max', 'withdrawal_min', 'withdrawal_std']\n",
    "  agg_withdrawals.drop(['type'], axis=1)\n",
    "\n",
    "  # Merging aggregated datasets - balance, credits and withdrawals\n",
    "  agg_df = agg_balance.merge(agg_credits, on='account_id', how='left').merge(agg_withdrawals, on='account_id', how='left')\n",
    "\n",
    "  # Clean missing values\n",
    "  agg_df.fillna(0, inplace=True)\n",
    "\n",
    "  # Cleaning nulls and performing aggreggation on table containing operations\n",
    "  operations = df.groupby(['account_id', 'operation']) \\\n",
    "                          .agg({\n",
    "                              'amount': ['count', 'mean', 'sum', 'max', 'std', 'min'],\n",
    "                          }) \\\n",
    "                          .reset_index()\n",
    "\n",
    "  operations.columns = ['account_id', 'operation', 'amount_count', 'amount_mean', 'amount_sum', 'amount_max', 'amount_std', 'amount_min']\n",
    "  \n",
    "  # IC\n",
    "  ic = operations[operations['operation'] == 'IC']\n",
    "  ic.columns = ['account_id', 'operation', 'IC', 'IC_mean', 'IC_sum', 'IC_max', 'IC_std', 'IC_min']\n",
    "  ic = ic.drop(['operation'], axis=1)\n",
    "\n",
    "  # CC\n",
    "  cc = operations[operations['operation'] == 'CC']\n",
    "  cc.columns = ['account_id', 'operation', 'CC', 'CC_mean', 'CC_sum', 'CC_max', 'CC_std', 'CC_min']\n",
    "  cc = cc.drop(['operation'], axis=1)\n",
    "  \n",
    "  # CAB\n",
    "  cab = operations[operations['operation'] == 'CAB']\n",
    "  cab.columns = ['account_id', 'operation', 'CAB', 'CAB_mean', 'CAB_sum', 'CAB_max', 'CAB_std', 'CAB_min']\n",
    "  cab =cab.drop(['operation'], axis=1)\n",
    "  \n",
    "  # WC\n",
    "  wc = operations[operations['operation'] == 'WC']\n",
    "  wc.columns = ['account_id', 'operation', 'WC', 'WC_mean', 'WC_sum', 'WC_max', 'WC_std', 'WC_min']\n",
    "  wc = wc.drop(['operation'], axis=1)\n",
    "  \n",
    "  # RAB\n",
    "  rab = operations[operations['operation'] == 'RAB']\n",
    "  rab.columns = ['account_id', 'operation', 'RAB', 'RAB_mean', 'RAB_sum', 'RAB_max', 'RAB_std', 'RAB_min']\n",
    "  rab = rab.drop(['operation'], axis=1)\n",
    "  \n",
    "  # CCW\n",
    "  ccw = operations[operations['operation'] == 'CCW']\n",
    "  ccw.columns = ['account_id', 'operation', 'CCW', 'CCW_mean', 'CCW_sum', 'CCW_max', 'CCW_std', 'CCW_min']\n",
    "  ccw = ccw.drop(['operation'], axis=1)\n",
    "  \n",
    "  # Joining all the operations\n",
    "  operations_df = cc.merge(cab, on='account_id', how='left') \\\n",
    "                    .merge(ic, on='account_id', how='left') \\\n",
    "                    .merge(wc, on='account_id', how='left') \\\n",
    "                    .merge(rab, on='account_id', how='left') \\\n",
    "                    .merge(ccw, on='account_id', how='left')\n",
    "  \n",
    "  # Clean missing values\n",
    "  operations_df.fillna(0, inplace=True)\n",
    "\n",
    "  # Mergind balance, types & operations\n",
    "  new_df = agg_df.merge(operations_df, on='account_id', how='left')\n",
    "\n",
    "  # Preprocess date to years since transaction\n",
    "  transform_df_with_date(new_df, \"last_trans_date\", \"years_since_transaction\")\n",
    "\n",
    "  # Adding extra columns\n",
    "  new_df['total_ops'] = new_df['CC'] + new_df['CAB'] + new_df['WC'] + new_df['RAB'] + new_df['CCW'] + new_df['IC']\n",
    "  new_df['credit_ratio'] = new_df['credit_count'] / new_df['total_ops']\n",
    "  new_df['withdrawal_ratio'] = new_df['withdrawal_count'] / new_df['total_ops']\n",
    "  new_df['mean_trans_profit'] = new_df['credit_mean'] + new_df['withdrawal_mean']\n",
    "  new_df['itr_balance_per_account'] = itr_per_account\n",
    "  new_df['balance_range'] = new_df['balance_max'] - new_df['balance_min']\n",
    "  new_df['last_first_balance_ratio'] = new_df['last_balance'] / new_df['first_balance']\n",
    "  new_df['last_max_balance_ratio'] = new_df['last_balance'] / new_df['balance_max']\n",
    "\n",
    "  # OPs as ratios\n",
    "  new_df['ratio_IC'] = new_df['IC'] / new_df['total_ops']\n",
    "  new_df['ratio_CC'] = new_df['CC'] / new_df['total_ops']\n",
    "  new_df['ratio_CAB'] = new_df['CAB'] / new_df['total_ops']\n",
    "  new_df['ratio_WC'] = new_df['WC'] / new_df['total_ops']\n",
    "  new_df['ratio_RAB'] = new_df['RAB'] / new_df['total_ops']\n",
    "  new_df['ratio_CCW'] = new_df['CCW'] / new_df['total_ops']\n",
    "\n",
    "  return new_df\n",
    "# plot_distribution(trans_test_data, \"balance\")\n",
    "\n",
    "trans_test_data = pd.read_csv(\"./files/trans_test.csv\", sep=\";\", index_col=0)\n",
    "trans_train_data = pd.read_csv(\"./files/trans_train.csv\", sep=\";\", index_col=0)\n",
    "\n",
    "trans_train_data = preprocess_transaction(trans_train_data)\n",
    "trans_test_data = preprocess_transaction(trans_test_data)\n",
    "\n",
    "trans_test_data.to_csv(\"./preprocessed/trans_test_data.csv\")  \n",
    "trans_train_data.to_csv(\"./preprocessed/trans_train_data.csv\") "
   ]
  },
  {
   "cell_type": "markdown",
   "id": "4cfba9c9",
   "metadata": {},
   "source": [
    "### District Relation Data Preprocessing\n",
    "- Compute the average variation of North Moravia region regarding the unemployment rate in 95' and 96' and use it to substitute the \"?\" in \"unemployment rate '95\" column.\n",
    "- Compute the average variation of North Moravia region regarding the number of commited crimes in 95' and 96' and use it to substitute the \"?\" in \"no. of commited crimes '95\" column.\n",
    "- Sum and computed average of \"unemploymant rate '95\" e \"unemploymant rate '96\" columns and create new unemployment_rate column.\n",
    "- Sum and computed average of \"no. of commited crimes '95\" e \"no. of commited crimes '96\" columns and create new no. of commited crimes column.\n",
    "- Sum \"no. of municipalities with inhabitants 500-1999\" with \"no. of municipalities with inhabitants 2000-9999\" and create \"no. of municipalities with inhabitants > 2000\" column.\n",
    "- Remove name column."
   ]
  },
  {
   "cell_type": "code",
   "execution_count": 7,
   "id": "5360b308",
   "metadata": {},
   "outputs": [
    {
     "name": "stderr",
     "output_type": "stream",
     "text": [
      "/tmp/ipykernel_212113/3968718439.py:5: SettingWithCopyWarning: \n",
      "A value is trying to be set on a copy of a slice from a DataFrame.\n",
      "Try using .loc[row_indexer,col_indexer] = value instead\n",
      "\n",
      "See the caveats in the documentation: https://pandas.pydata.org/pandas-docs/stable/user_guide/indexing.html#returning-a-view-versus-a-copy\n",
      "  validDistrictData[first_col] = pd.to_numeric(validDistrictData[first_col])\n",
      "/tmp/ipykernel_212113/3968718439.py:6: SettingWithCopyWarning: \n",
      "A value is trying to be set on a copy of a slice from a DataFrame.\n",
      "Try using .loc[row_indexer,col_indexer] = value instead\n",
      "\n",
      "See the caveats in the documentation: https://pandas.pydata.org/pandas-docs/stable/user_guide/indexing.html#returning-a-view-versus-a-copy\n",
      "  validDistrictData[second_col] = pd.to_numeric(validDistrictData[second_col])\n"
     ]
    }
   ],
   "source": [
    "district_data = pd.read_csv(\"./files/district.csv\", index_col=None)\n",
    "validDistrictData = district_data.loc[lambda df: (df[\"unemploymant rate '95 \"] != \"?\") & (df[\"no. of commited crimes '95 \"] != \"?\")] # The region where the \"?\" is located.\n",
    "\n",
    "def avgVariationNMoravia(first_col, second_col):\n",
    "  validDistrictData[first_col] = pd.to_numeric(validDistrictData[first_col])\n",
    "  validDistrictData[second_col] = pd.to_numeric(validDistrictData[second_col])\n",
    "  variationAll = np.subtract(validDistrictData[second_col], validDistrictData[first_col])\n",
    "\n",
    "  return np.array([-y / x for x, y in zip(validDistrictData[second_col], variationAll)]).mean()\n",
    "\n",
    "avgUnemploymentVariation = avgVariationNMoravia(\"unemploymant rate '95 \", \"unemploymant rate '96 \")\n",
    "avgCommitedCrimesVariation = avgVariationNMoravia(\"no. of commited crimes '95 \", \"no. of commited crimes '96 \")\n",
    "\n",
    "# Calculate \"?\" value in columns \"unemploymant rate '95\" and \"no. of commited crimes '95\"\n",
    "knownUnemployment96 = district_data.loc[lambda df: df[\"unemploymant rate '95 \"] == \"?\"][\"unemploymant rate '96 \"].item()\n",
    "newUnemployment95 = (knownUnemployment96 + (knownUnemployment96 * avgUnemploymentVariation))\n",
    "knownCommitedCrime96 = district_data.loc[lambda df: df[\"no. of commited crimes '95 \"] == \"?\"][\"no. of commited crimes '96 \"].item()\n",
    "newCommitedCrime95 = int(knownCommitedCrime96 + (knownCommitedCrime96 * avgCommitedCrimesVariation))\n",
    "\n",
    "def replaceMissingVal(district_data, col, newValue):\n",
    "  district_data[col].replace({\"?\": newValue}, inplace=True)\n",
    "\n",
    "  return district_data\n",
    "\n",
    "district_data = replaceMissingVal(district_data, \"unemploymant rate '95 \", newUnemployment95)\n",
    "district_data = replaceMissingVal(district_data, \"no. of commited crimes '95 \", newCommitedCrime95)\n",
    "\n",
    "# Convertion of columns to int/float:\n",
    "district_data['unemploymant rate \\'95 '] = district_data['unemploymant rate \\'95 '].astype(float)\n",
    "district_data['unemploymant rate \\'96 '] = district_data['unemploymant rate \\'96 '].astype(float)\n",
    "district_data['no. of commited crimes \\'95 '] = pd.to_numeric(district_data['no. of commited crimes \\'95 '])\n",
    "district_data['no. of commited crimes \\'96 '] = pd.to_numeric(district_data['no. of commited crimes \\'96 '])\n",
    "district_data['ratio of urban inhabitants '] = district_data['ratio of urban inhabitants '].astype(float)\n",
    "district_data['no. of enterpreneurs per 1000 inhabitants '] = pd.to_numeric(district_data['no. of enterpreneurs per 1000 inhabitants '])\n",
    "\n",
    "# Creating new features:\n",
    "district_data['ratio entrepeneurs'] = district_data['no. of enterpreneurs per 1000 inhabitants '] / 1000\n",
    "district_data['criminality_growth'] = (district_data['no. of commited crimes \\'96 '] - district_data['no. of commited crimes \\'95 ']) /\\\n",
    "                                       district_data['no. of inhabitants']\n",
    "district_data['unemploymant_growth'] = district_data['unemploymant rate \\'96 '] - district_data['unemploymant rate \\'95 ']\n",
    "    \n",
    "district_data[\"no. of municipalities with inhabitants 500-1999\"] = pd.to_numeric(district_data[\"no. of municipalities with inhabitants 500-1999\"])\n",
    "district_data[\"no. of municipalities with inhabitants 2000-9999 \"] = pd.to_numeric(district_data[\"no. of municipalities with inhabitants 2000-9999 \"])\n",
    "district_data[\"no. of municipalities with inhabitants > 2000\"] = np.add(district_data[\"no. of municipalities with inhabitants 500-1999\"], district_data[\"no. of municipalities with inhabitants 2000-9999 \"])\n",
    "\n",
    "district_data.drop(columns = [\n",
    "    \"unemploymant rate '95 \",\n",
    "    \"unemploymant rate '96 \",\n",
    "    \"no. of municipalities with inhabitants 2000-9999 \",\n",
    "    \"no. of municipalities with inhabitants >10000 \",\n",
    "    \"no. of commited crimes '95 \",\n",
    "    \"no. of commited crimes '96 \",\n",
    "    \"name\"\n",
    "], inplace = True)\n",
    "\n",
    "district_data.to_csv(\"./preprocessed/district.csv\")"
   ]
  },
  {
   "cell_type": "markdown",
   "id": "2aeca529",
   "metadata": {},
   "source": [
    "# Merging datasets\n",
    "Merge all datasets and then compute train and test datasets. Funny fact: the loan_train is smaller than the loan_test.\n",
    "\n",
    "### **TO DO: REFACTOR**"
   ]
  },
  {
   "cell_type": "code",
   "execution_count": 8,
   "id": "da306241",
   "metadata": {},
   "outputs": [],
   "source": [
    "# Train Data\n",
    "merged_data_train = pd.merge(loan_train_data, trans_train_data, on=\"account_id\")\n",
    "merged_data_train = pd.merge(merged_data_train, account_data, on=\"account_id\")\n",
    "\n",
    "#district_data = pd.read_csv(\"./files/district.csv\", index_col=None)\n",
    "district_data.rename(columns={\"code\": \"district_id\"}, inplace=True)\n",
    "merged_data_train = pd.merge(merged_data_train, district_data, how=\"left\", on=\"district_id\")\n",
    "\n",
    "disp_data = pd.read_csv(\"./files/disp.csv\", sep=\";\")\n",
    "merged_data_train = pd.merge(merged_data_train, disp_data, on=\"account_id\")\n",
    "\n",
    "# Remove rows with DISPONENT clients (because only owners can ask for a loan)\n",
    "merged_data_train = merged_data_train.loc[lambda df: df['type'] != 'DISPONENT']\n",
    "\n",
    "merged_data_train = pd.merge(merged_data_train, client_data, on=\"client_id\")\n",
    "# merged_data_train = pd.merge(merged_data_train, card_train_data, how=\"left\", on=\"disp_id\")\n",
    "\n",
    "# Considerations:\n",
    "# The merge with card data doesn't provide much data here. What should we do? Create UNKNOWN State?\n",
    "\n",
    "merged_data_train.drop(columns = ['account_id', 'district_id_x', 'district_id_y', 'disp_id', 'client_id'], inplace = True)\n",
    "\n",
    "# Test Data\n",
    "merged_data_test = pd.merge(loan_test_data, trans_test_data, on=\"account_id\")\n",
    "merged_data_test = pd.merge(merged_data_test, account_data, on=\"account_id\")\n",
    "\n",
    "#district_data = pd.read_csv(\"./files/district.csv\", index_col=None)\n",
    "district_data.rename(columns={\"code\": \"district_id\"}, inplace=True)\n",
    "merged_data_test = pd.merge(merged_data_test, district_data, how=\"left\", on=\"district_id\")\n",
    "\n",
    "disp_data = pd.read_csv(\"./files/disp.csv\", sep=\";\")\n",
    "merged_data_test = pd.merge(merged_data_test, disp_data, on=\"account_id\")\n",
    "\n",
    "# Remove rows with DISPONENT clients (because only owners can ask for a loan)\n",
    "merged_data_test = merged_data_test.loc[lambda df: df['type'] != 'DISPONENT']\n",
    "\n",
    "merged_data_test = pd.merge(merged_data_test, client_data, on=\"client_id\")\n",
    "# merged_data_test = pd.merge(merged_data_test, card_test_data, how=\"left\", on=\"disp_id\")\n",
    "\n",
    "# Considerations:\n",
    "# The merge with card data doesn't provide much data here. What should we do? Create UNKNOWN State?\n",
    "merged_data_test.drop(columns = ['account_id', 'district_id_x', 'district_id_y', 'disp_id', 'client_id'], inplace = True)"
   ]
  },
  {
   "cell_type": "markdown",
   "id": "e5d4759e",
   "metadata": {},
   "source": [
    "# Handling outliers\n",
    "To remove the outliers, we use Z Score, which indicates how many standard deviation away a data point is, and box plots, removing the data points that lie above or below IQR (Inter Quartile Range) * 1.5."
   ]
  },
  {
   "cell_type": "markdown",
   "id": "8391906d",
   "metadata": {},
   "source": [
    "## Z Score"
   ]
  },
  {
   "cell_type": "code",
   "execution_count": 9,
   "id": "3c73c98a",
   "metadata": {},
   "outputs": [],
   "source": [
    "from scipy import stats\n",
    "\n",
    "def remove_outliers_with_z_score(df, to_remove=None):\n",
    "    if to_remove is None:\n",
    "        to_remove = [\"amount\", \"payments\", \"itr_balance_per_account\", \\\n",
    "        \"average salary \", \"criminality_growth\", \"unemploymant_growth\", \\\n",
    "        \"mean_trans_profit\", \"balance_range\"\n",
    "        ]\n",
    "\n",
    "    z = np.abs(stats.zscore(df[to_remove]))\n",
    "\n",
    "    df = df[(z < 3).all(axis=1)]\n",
    "\n",
    "    return df\n",
    "\n",
    "#number_of_rows = merged_data_train.shape[0]\n",
    "\n",
    "#merged_data_train = remove_outliers_with_z_score(merged_data_train)\n",
    "\n",
    "#print(f\"Removed {number_of_rows - merged_data_train.shape[0]} outliers\")"
   ]
  },
  {
   "cell_type": "markdown",
   "id": "91939e7a",
   "metadata": {},
   "source": [
    "## Box Plots"
   ]
  },
  {
   "cell_type": "code",
   "execution_count": 10,
   "id": "feb8a5be",
   "metadata": {},
   "outputs": [],
   "source": [
    "import matplotlib.pyplot as plt\n",
    "\n",
    "# figure, axis = plt.subplots(10, 9,figsize=(100,100))\n",
    "\n",
    "# def draw_box_plot(axis, i, j, df, column):\n",
    "#     axis[i, j].boxplot(df[column])\n",
    "#     axis[i, j].set_title(column)\n",
    "\n",
    "# columns = list(merged_data_train._get_numeric_data().columns)\n",
    "# columns_to_remove = [\"loan_id\"]\n",
    "\n",
    "# columns = list(filter(lambda x: x not in columns_to_remove, columns))\n",
    "\n",
    "# number_of_columns = len(columns)\n",
    "\n",
    "# i, j, column_index = 0, 0, 0\n",
    "\n",
    "# for i in range(10):\n",
    "#     for j in range(9):\n",
    "\n",
    "#         if (column_index >= number_of_columns):\n",
    "#             break\n",
    "\n",
    "#         draw_box_plot(axis, i, j, merged_data_train, columns[column_index])\n",
    "#         column_index += 1\n",
    "\n",
    "# plt.tight_layout()\n",
    "# plt.show()"
   ]
  },
  {
   "cell_type": "markdown",
   "id": "4fb004ab",
   "metadata": {},
   "source": [
    "As we can see in the box plots, there are some columns that contain outliers. An outlier is any data point that lies above or below 1.5 * IRQ, as we can see in the image below:\n",
    "![](images/box_plot_outliers.png)\n",
    "\n",
    "Next, we're going to implement a function to remove these data points:"
   ]
  },
  {
   "cell_type": "code",
   "execution_count": 11,
   "id": "f46d7c82",
   "metadata": {},
   "outputs": [],
   "source": [
    "def remove_column_outliers_IQR(df, column):\n",
    "    Q1 = df[column].quantile(0.25)\n",
    "    Q3 = df[column].quantile(0.75)\n",
    "    IQR = Q3 - Q1\n",
    "\n",
    "    filter = (df[column] < (Q1 - 1.5 * IQR)) | (df[column] > (Q3 - 1.5 * IQR))\n",
    "\n",
    "    return df.loc[filter]\n",
    "\n",
    "# rows_before = len(merged_data_train.index)\n",
    "\n",
    "# columns = [\"amount\", \"payments\", \"last_balance\", \"no. of inhabitants\"]\n",
    "\n",
    "# for column in columns:\n",
    "#     merged_data_train = remove_column_outliers_IQR(merged_data_train, column)\n",
    "\n",
    "# rows_after = len(merged_data_train.index)\n",
    "\n",
    "# print(f\"Removed {rows_before - rows_after} outliers\")"
   ]
  },
  {
   "cell_type": "code",
   "execution_count": 12,
   "id": "9841b9d9",
   "metadata": {},
   "outputs": [
    {
     "name": "stdout",
     "output_type": "stream",
     "text": [
      "Removed 0 outliers\n"
     ]
    },
    {
     "data": {
      "image/png": "[encoded data removed]",
      "text/plain": [
       "<Figure size 1440x720 with 2 Axes>"
      ]
     },
     "metadata": {
      "needs_background": "light"
     },
     "output_type": "display_data"
    }
   ],
   "source": [
    "figure, axis = plt.subplots(1, 2,figsize=(20,10))\n",
    "\n",
    "axis[0].boxplot(merged_data_train[\"amount\"])\n",
    "axis[0].set_title(\"Amount with outliers\")\n",
    "\n",
    "rows_before = len(merged_data_train.index)\n",
    "columns = [\"amount\", \"payments\", \"last_balance\", \"no. of inhabitants\"]\n",
    "# for column in columns:\n",
    "#      merged_data_train = remove_column_outliers_IQR(merged_data_train, column)\n",
    "\n",
    "#merged_data_train = remove_outliers_with_z_score(merged_data_train)\n",
    "    \n",
    "rows_after = len(merged_data_train.index)\n",
    "print(f\"Removed {rows_before - rows_after} outliers\")\n",
    "\n",
    "axis[1].boxplot(merged_data_train[\"amount\"])\n",
    "axis[1].set_title(\"Amount without outliers\")\n",
    "\n",
    "plt.tight_layout()\n",
    "plt.show()\n",
    "\n",
    "#merged_data_train = remove_column_outliers_IQR(merged_data_train, \"amount\")"
   ]
  },
  {
   "cell_type": "markdown",
   "id": "6044eaf0",
   "metadata": {},
   "source": [
    "# Feature Selection\n",
    "\n",
    "For the feature selection, we used SelectKBest, from sklearn.feature_selection, with the f_classif score function, which computes the ANOVA F-value between label/feature. The F value is a value on the F distribution. The F value is used in analysis of variance (ANOVA). This calculation determines the ratio of explained variance to unexplained variance. This gives us the features with the highest scores."
   ]
  },
  {
   "cell_type": "code",
   "execution_count": 13,
   "id": "08841eff",
   "metadata": {},
   "outputs": [
    {
     "name": "stdout",
     "output_type": "stream",
     "text": [
      "Selected features:\n",
      "['reached_negative_balance', 'RAB_mean', 'RAB_min', 'RAB_max', 'ratio_RAB', 'balance_min', 'IC_mean', 'withdrawal_ratio', 'credit_ratio', 'ratio_CC', 'CC_std', 'RAB_sum', 'balance_mean', 'mean_trans_profit', 'RAB', 'CC_max', 'IC_min', 'payments', 'CAB_min', 'CAB_mean']\n"
     ]
    },
    {
     "name": "stderr",
     "output_type": "stream",
     "text": [
      "/home/tiago/.local/lib/python3.8/site-packages/sklearn/utils/validation.py:985: DataConversionWarning: A column-vector y was passed when a 1d array was expected. Please change the shape of y to (n_samples, ), for example using ravel().\n",
      "  y = column_or_1d(y, warn=True)\n",
      "/home/tiago/.local/lib/python3.8/site-packages/sklearn/feature_selection/_univariate_selection.py:112: UserWarning: Features [14 89] are constant.\n",
      "  warnings.warn(\"Features %s are constant.\" % constant_features_idx, UserWarning)\n",
      "/home/tiago/.local/lib/python3.8/site-packages/sklearn/feature_selection/_univariate_selection.py:113: RuntimeWarning: invalid value encountered in true_divide\n",
      "  f = msb / msw\n"
     ]
    }
   ],
   "source": [
    "from numpy import set_printoptions\n",
    "from sklearn.feature_selection import SelectKBest\n",
    "from sklearn.feature_selection import f_classif\n",
    "from sklearn.preprocessing import LabelEncoder\n",
    "import math\n",
    "\n",
    "def encode_df(df):\n",
    "  columnsToEncode = list(df.select_dtypes(include=['object']))\n",
    "  le = LabelEncoder()\n",
    "  for feature in columnsToEncode:\n",
    "      try:\n",
    "          df[feature] = le.fit_transform(df[feature])\n",
    "      except:\n",
    "          df.drop(columns = [feature], inplace = True)\n",
    "  return df\n",
    "\n",
    "merged_data_train = encode_df(merged_data_train)\n",
    "\n",
    "features = list(merged_data_train.columns)\n",
    "features = list(filter(lambda x: x != \"status\", features))\n",
    "\n",
    "X = merged_data_train[features]\n",
    "Y = merged_data_train[['status']]\n",
    "\n",
    "number_of_features = 20\n",
    "\n",
    "# feature extraction\n",
    "test = SelectKBest(score_func=f_classif, k=number_of_features)\n",
    "fit = test.fit(X, Y)\n",
    "\n",
    "# summarize scores\n",
    "set_printoptions(precision=3)\n",
    "\n",
    "fit.transform(X)\n",
    "\n",
    "scores = list(fit.scores_)\n",
    "\n",
    "features_scores = {}\n",
    "\n",
    "for i in range(len(scores)):\n",
    "  features_scores[features[i]] = scores[i] if not math.isnan(scores[i]) else 0\n",
    "  \n",
    "best_features = []\n",
    "\n",
    "# Get number_of_features best features\n",
    "selected = sorted(features_scores, key=features_scores.get, reverse=True)[:number_of_features]\n",
    "\n",
    "print(\"Selected features:\")\n",
    "print(selected)"
   ]
  },
  {
   "cell_type": "markdown",
   "id": "ad226074",
   "metadata": {},
   "source": [
    "## Feature Selection using Random Forest algorithm\n",
    "Random forests consist of 4 –12 hundred decision trees, each of them built over a random extraction of the observations from the dataset and a random extraction of the features. Not every tree sees all the features or all the observations, and this guarantees that the trees are de-correlated and therefore less prone to over-fitting. Each tree is also a sequence of yes-no questions based on a single or combination of features. At each node (this is at each question), the three divides the dataset into 2 buckets, each of them hosting observations that are more similar among themselves and different from the ones in the other bucket. Therefore, the importance of each feature is derived from how \"pure\" each of the buckets is."
   ]
  },
  {
   "cell_type": "code",
   "execution_count": 14,
   "id": "356de280",
   "metadata": {},
   "outputs": [
    {
     "name": "stdout",
     "output_type": "stream",
     "text": [
      "Selected features:\n",
      "['amount', 'payments', 'status', 'balance_mean', 'last_balance', 'reached_negative_balance', 'CC_max', 'IC_mean', 'WC_max', 'RAB', 'RAB_mean', 'RAB_sum', 'RAB_max', 'RAB_min', 'mean_trans_profit', 'last_first_balance_ratio', 'ratio_RAB', 'balance_min', 'balance_std', 'last_trans_amount', 'credit_min', 'IC_min', 'credit_ratio', 'withdrawal_ratio', 'last_max_balance_ratio', 'ratio_CC', 'credit_mean', 'CC_std', 'IC_max']\n"
     ]
    }
   ],
   "source": [
    "from sklearn.model_selection import StratifiedKFold\n",
    "from sklearn.feature_selection import SelectFromModel\n",
    "from sklearn.ensemble import RandomForestClassifier\n",
    "\n",
    "selected_features = []\n",
    "\n",
    "def select_features_RF(origin_df):\n",
    "    df = origin_df.drop(['loan_id'], axis=1)\n",
    "    y = origin_df[\"status\"]\n",
    "    features = list(df.columns)\n",
    "    X = df[features]\n",
    "    cv = StratifiedKFold(n_splits=5, random_state=0, shuffle=True)\n",
    "\n",
    "    for train_index, _ in cv.split(X, y):\n",
    "        X_train = X.iloc[train_index]\n",
    "        y_train = y.iloc[train_index]\n",
    "\n",
    "        sel = SelectFromModel(\n",
    "            RandomForestClassifier(\n",
    "                n_estimators = 250,\n",
    "                class_weight = 'balanced_subsample',\n",
    "                max_features=\"sqrt\",\n",
    "                criterion = 'entropy',\n",
    "                random_state=0\n",
    "                )\n",
    "            )\n",
    "        sel.fit(X_train, y_train)\n",
    "\n",
    "        # Save selected columns\n",
    "        for col in X_train.columns[(sel.get_support())]:\n",
    "            if col not in selected_features:\n",
    "                selected_features.append(col)\n",
    "\n",
    "\n",
    "    print(\"Selected features:\")\n",
    "    print(selected_features)\n",
    "\n",
    "select_features_RF(merged_data_train)"
   ]
  },
  {
   "cell_type": "markdown",
   "id": "b8145273",
   "metadata": {},
   "source": [
    "# Export preprocessed data"
   ]
  },
  {
   "cell_type": "code",
   "execution_count": 15,
   "id": "adec9a37",
   "metadata": {},
   "outputs": [],
   "source": [
    "merged_data_train.to_csv(\"./preprocessed/mergedTrainData.csv\", index=None)\n",
    "merged_data_test.to_csv(\"./preprocessed/mergedTestData.csv\", index=None)"
   ]
  }
 ],
 "metadata": {
  "interpreter": {
   "hash": "916dbcbb3f70747c44a77c7bcd40155683ae19c65e1c03b4aa3499c5328201f1"
  },
  "kernelspec": {
   "display_name": "Python 3.9.2 64-bit",
   "name": "python3"
  },
  "language_info": {
   "codemirror_mode": {
    "name": "ipython",
    "version": 3
   },
   "file_extension": ".py",
   "mimetype": "text/x-python",
   "name": "python",
   "nbconvert_exporter": "python",
   "pygments_lexer": "ipython3",
   "version": "3.8.10"
  }
 },
 "nbformat": 4,
 "nbformat_minor": 5
}
