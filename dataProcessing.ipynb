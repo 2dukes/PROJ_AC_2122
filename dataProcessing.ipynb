{
 "cells": [
  {
   "cell_type": "markdown",
   "metadata": {},
   "source": [
    "### Account Relation Data Preprocessing"
   ]
  },
  {
   "cell_type": "code",
   "execution_count": 41,
   "id": "1a0fc62f-4d0b-46f9-90ea-665c7778c8e1",
   "metadata": {},
   "outputs": [],
   "source": [
    "import pandas as pd\n",
    "from datetime import datetime\n",
    "from dateutil.relativedelta import relativedelta\n",
    "\n",
    "account_data = pd.read_csv(\"./files/account.csv\", sep=\";\", index_col=0)\n",
    "\n",
    "def normalize_accountDate(accountDateStr):\n",
    "  dateObj = datetime.strptime(str(accountDateStr), '%y%m%d')\n",
    "  return relativedelta(datetime.now(), dateObj).years\n",
    "\n",
    "account_data.date = account_data.date.apply(normalize_accountDate)\n",
    "account_data.rename(columns={'date':'years_since_acc_open'}, inplace = True)\n",
    "account_data.to_csv(\"./prepocessed/account.csv\")"
   ]
  },
  {
   "cell_type": "markdown",
   "metadata": {},
   "source": [
    "### Client Relation Data Preprocessing"
   ]
  },
  {
   "cell_type": "code",
   "execution_count": 62,
   "id": "83dbe159-28e9-4277-a75e-3c6dcf5808e0",
   "metadata": {},
   "outputs": [],
   "source": [
    "import re\n",
    "\n",
    "client_data = pd.read_csv(\"./files/client.csv\", sep=\";\", index_col=0)\n",
    "\n",
    "clientGenders = []\n",
    "clientAgeGroup = []\n",
    "\n",
    "def normalize_birthNumber(clientBirthNumberStr):\n",
    "  dateSearch = re.search('(\\d{2})(\\d{2})(\\d{2})', str(clientBirthNumberStr))\n",
    "  years = int(dateSearch.group(1))\n",
    "  months = int(dateSearch.group(2))\n",
    "  days = int(dateSearch.group(3))\n",
    "\n",
    "  gender = \"M\"\n",
    "  if months > 12:\n",
    "    gender = \"F\"\n",
    "    months = months - 50\n",
    "\n",
    "  dateObj = datetime.strptime(f\"19{years}-{months}-{days}\", '%Y-%m-%d')\n",
    "\n",
    "  age = relativedelta(datetime.now(), dateObj).years\n",
    "\n",
    "  if (age >= 80):\n",
    "    age_group = \"forth-age\"\n",
    "  elif (age >= 65):\n",
    "    age_group = \"third-age\"\n",
    "  elif (age >= 40):\n",
    "    age_group = \"half-age\"\n",
    "  elif (age >= 26):\n",
    "    age_group = \"adolthood\"\n",
    "  elif (age >= 20):\n",
    "    age_group = \"post-teenager\"\n",
    "  elif(age >= 15):\n",
    "    age_group = \"teenager\"\n",
    "\n",
    "  clientGenders.append(gender)\n",
    "  clientAgeGroup.append(age_group)\n",
    "\n",
    "\n",
    "client_data.birth_number = client_data.birth_number.apply(normalize_birthNumber)\n",
    "client_data['gender'] = clientGenders\n",
    "client_data['age_group'] = clientAgeGroup\n",
    "\n",
    "client_data.drop(columns = ['birth_number'], inplace = True)\n",
    "client_data.to_csv(\"./prepocessed/client.csv\")"
   ]
  }
 ],
 "metadata": {
  "interpreter": {
   "hash": "916dbcbb3f70747c44a77c7bcd40155683ae19c65e1c03b4aa3499c5328201f1"
  },
  "kernelspec": {
   "display_name": "Python 3.9.2 64-bit",
   "name": "python3"
  },
  "language_info": {
   "codemirror_mode": {
    "name": "ipython",
    "version": 3
   },
   "file_extension": ".py",
   "mimetype": "text/x-python",
   "name": "python",
   "nbconvert_exporter": "python",
   "pygments_lexer": "ipython3",
   "version": "3.9.2"
  }
 },
 "nbformat": 4,
 "nbformat_minor": 5
}
