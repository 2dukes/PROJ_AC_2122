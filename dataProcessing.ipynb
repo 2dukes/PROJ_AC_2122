{
 "cells": [
  {
   "cell_type": "markdown",
   "id": "040e9aa5",
   "metadata": {},
   "source": [
    "### Account Relation Data Preprocessing"
   ]
  },
  {
   "cell_type": "code",
   "execution_count": 1,
   "id": "1a0fc62f-4d0b-46f9-90ea-665c7778c8e1",
   "metadata": {},
   "outputs": [],
   "source": [
    "import pandas as pd\n",
    "from datetime import datetime\n",
    "from dateutil.relativedelta import relativedelta\n",
    "\n",
    "def transform_df_with_date(df, columnName, newColumnName):\n",
    "  df[columnName] = df[columnName].apply(normalize_date)\n",
    "  df.rename(columns={columnName: newColumnName}, inplace = True)\n",
    "\n",
    "def normalize_date(accountDate):\n",
    "  dateObj = datetime.strptime(str(accountDate), '%y%m%d')\n",
    "  return relativedelta(datetime.now(), dateObj).years\n",
    "\n",
    "account_data = pd.read_csv(\"./files/account.csv\", sep=\";\", index_col=0)\n",
    "transform_df_with_date(account_data, \"date\", \"years_since_acc_open\")\n",
    "account_data.to_csv(\"./preprocessed/account.csv\")"
   ]
  },
  {
   "cell_type": "markdown",
   "id": "43714252",
   "metadata": {},
   "source": [
    "### Client Relation Data Preprocessing"
   ]
  },
  {
   "cell_type": "code",
   "execution_count": 2,
   "id": "83dbe159-28e9-4277-a75e-3c6dcf5808e0",
   "metadata": {},
   "outputs": [],
   "source": [
    "import re\n",
    "\n",
    "client_data = pd.read_csv(\"./files/client.csv\", sep=\";\", index_col=0)\n",
    "\n",
    "clientGenders = []\n",
    "clientAgeGroup = []\n",
    "\n",
    "def normalize_birthNumber(clientBirthNumber):\n",
    "  dateSearch = re.search('(\\d{2})(\\d{2})(\\d{2})', str(clientBirthNumber))\n",
    "  years = int(dateSearch.group(1))\n",
    "  months = int(dateSearch.group(2))\n",
    "  days = int(dateSearch.group(3))\n",
    "  \n",
    "  gender = \"M\"\n",
    "  if months > 12:\n",
    "    gender = \"F\"\n",
    "    months = months - 50\n",
    "\n",
    "  dateObj = datetime.strptime(f\"19{years}-{months}-{days}\", '%Y-%m-%d')\n",
    "\n",
    "  age = relativedelta(datetime.now(), dateObj).years\n",
    "\n",
    "  if (age >= 80):\n",
    "    age_group = \"forth-age\"\n",
    "  elif (age >= 65):\n",
    "    age_group = \"third-age\"\n",
    "  elif (age >= 40):\n",
    "    age_group = \"half-age\"\n",
    "  elif (age >= 26):\n",
    "    age_group = \"adolthood\"\n",
    "  elif (age >= 20):\n",
    "    age_group = \"post-teenager\"\n",
    "  elif(age >= 15):\n",
    "    age_group = \"teenager\"\n",
    "\n",
    "  clientGenders.append(gender)\n",
    "  clientAgeGroup.append(age_group)\n",
    "\n",
    "\n",
    "client_data.birth_number = client_data.birth_number.apply(normalize_birthNumber)\n",
    "client_data['gender'] = clientGenders\n",
    "client_data['age_group'] = clientAgeGroup\n",
    "\n",
    "client_data.drop(columns = ['birth_number'], inplace = True)\n",
    "client_data.to_csv(\"./preprocessed/client.csv\")"
   ]
  },
  {
   "cell_type": "markdown",
   "id": "f5089d98",
   "metadata": {},
   "source": [
    "### Card Relation Data Preprocessing"
   ]
  },
  {
   "cell_type": "code",
   "execution_count": 3,
   "id": "36645287",
   "metadata": {},
   "outputs": [],
   "source": [
    "card_test_data = pd.read_csv(\"./files/card_test.csv\", sep=\";\", index_col=0)\n",
    "card_train_data = pd.read_csv(\"./files/card_train.csv\", sep=\";\", index_col=0)\n",
    "\n",
    "transform_df_with_date(card_test_data, \"issued\", \"years_since_issued\")\n",
    "transform_df_with_date(card_train_data, \"issued\", \"years_since_issued\")\n",
    "\n",
    "card_test_data.to_csv(\"./preprocessed/card_test.csv\")\n",
    "card_train_data.to_csv(\"./preprocessed/card_train.csv\")   "
   ]
  },
  {
   "cell_type": "markdown",
   "id": "afc04e26",
   "metadata": {},
   "source": [
    "### Loan Relation Data Preprocessing"
   ]
  },
  {
   "cell_type": "code",
   "execution_count": 4,
   "id": "843457e0",
   "metadata": {},
   "outputs": [
    {
     "data": {
      "image/png": "[encoded data removed]",
      "text/plain": [
       "<Figure size 360x360 with 1 Axes>"
      ]
     },
     "metadata": {
      "needs_background": "light"
     },
     "output_type": "display_data"
    },
    {
     "data": {
      "image/png": "[encoded data removed]",
      "text/plain": [
       "<Figure size 360x360 with 1 Axes>"
      ]
     },
     "metadata": {
      "needs_background": "light"
     },
     "output_type": "display_data"
    }
   ],
   "source": [
    "import seaborn as sb\n",
    "\n",
    "def plot_distribution(df, column_name):\n",
    "    sb.displot(df, x=column_name)\n",
    "\n",
    "# def normalize_duration(duration):\n",
    "#     duration = int(duration)\n",
    "\n",
    "#     if duration >= 60:\n",
    "#         durationLabel = \"very_long\"\n",
    "#     elif duration >= 48:\n",
    "#         durationLabel = \"long\"\n",
    "#     elif duration >= 36:\n",
    "#         durationLabel = \"medium\"\n",
    "#     elif duration >= 24:\n",
    "#         durationLabel = \"short\"\n",
    "#     elif duration < 24:\n",
    "#         durationLabel = \"very_short\"\n",
    "\n",
    "#     return durationLabel\n",
    "\n",
    "loan_test_data = pd.read_csv(\"./files/loan_test.csv\", sep=\";\")\n",
    "loan_train_data = pd.read_csv(\"./files/loan_train.csv\", sep=\";\")\n",
    "\n",
    "transform_df_with_date(loan_test_data, \"date\", \"years_since_loan\")\n",
    "transform_df_with_date(loan_train_data, \"date\", \"years_since_loan\")\n",
    "# loan_test_data.duration = loan_test_data.duration.apply(normalize_duration)\n",
    "# loan_train_data.duration = loan_train_data.duration.apply(normalize_duration)\n",
    "\n",
    "plot_distribution(loan_test_data, \"amount\")\n",
    "plot_distribution(loan_test_data, \"payments\")\n",
    "\n",
    "loan_test_data.to_csv(\"./preprocessed/loan_test_data.csv\")   \n",
    "loan_train_data.to_csv(\"./preprocessed/loan_train_data.csv\")   \n",
    "\n",
    "# TO DO\n",
    "# Categorizar \"amount\" e \"payments\""
   ]
  },
  {
   "cell_type": "markdown",
   "id": "97bcf000",
   "metadata": {},
   "source": [
    "### Transational Relation Data Preprocessing"
   ]
  },
  {
   "cell_type": "code",
   "execution_count": 1,
   "id": "de7d6a64",
   "metadata": {},
   "outputs": [
    {
     "name": "stderr",
     "output_type": "stream",
     "text": [
      "/Users/davidferreira/Library/Python/3.8/lib/python/site-packages/IPython/core/interactiveshell.py:3444: DtypeWarning: Columns (8) have mixed types.Specify dtype option on import or set low_memory=False.\n",
      "  exec(code_obj, self.user_global_ns, self.user_ns)\n"
     ]
    },
    {
     "data": {
      "image/png": "[encoded data removed]",
      "text/plain": [
       "<Figure size 360x360 with 1 Axes>"
      ]
     },
     "metadata": {
      "needs_background": "light"
     },
     "output_type": "display_data"
    },
    {
     "data": {
      "image/png": "[encoded data removed]",
      "text/plain": [
       "<Figure size 360x360 with 1 Axes>"
      ]
     },
     "metadata": {
      "needs_background": "light"
     },
     "output_type": "display_data"
    }
   ],
   "source": [
    "def preprocess_trans_data(df):\n",
    "  df = df.sort_values(by=['date'], ascending=False)\n",
    "  df = df.groupby(['account_id']).first()\n",
    "\n",
    "  df.drop(columns = [\n",
    "    'type',\n",
    "    'operation',\n",
    "    'amount',\n",
    "    'k_symbol',\n",
    "    'bank',\n",
    "    'account',\n",
    "    'date'\n",
    "  ], inplace = True)\n",
    "  \n",
    "  return df\n",
    "\n",
    "def checkIfBalanceIsPositive(row):\n",
    "  if row['balance'] >= 0:\n",
    "    return '1'\n",
    "  else:\n",
    "    return '-1'\n",
    "\n",
    "trans_test_data = pd.read_csv(\"./files/trans_test.csv\", sep=\";\", index_col=0)\n",
    "trans_train_data = pd.read_csv(\"./files/trans_train.csv\", sep=\";\", index_col=0)\n",
    "\n",
    "trans_test_data = preprocess_trans_data(trans_test_data)\n",
    "trans_train_data = preprocess_trans_data(trans_train_data)\n",
    "\n",
    "trans_test_data['balance_is_positive'] = trans_test_data.apply(lambda row: checkIfBalanceIsPositive(row), axis=1)\n",
    "trans_train_data['balance_is_positive'] = trans_train_data.apply(lambda row: checkIfBalanceIsPositive(row), axis=1)\n",
    "\n",
    "plot_distribution(trans_test_data, \"balance\")\n",
    "plot_distribution(trans_test_data, \"balance_is_positive\")\n",
    "\n",
    "trans_test_data.to_csv(\"./preprocessed/trans_test_data.csv\")  \n",
    "trans_train_data.to_csv(\"./preprocessed/trans_train_data.csv\") "
   ]
  },
  {
   "cell_type": "markdown",
   "id": "4cfba9c9",
   "metadata": {},
   "source": [
    "### District Relation Data Preprocessing\n",
    "- Compute the average variation of North Moravia region regarding the unemployment rate in 95' and 96' and use it to substitute the \"?\" in \"unemployment rate '95\" column.\n",
    "- Compute the average variation of North Moravia region regarding the number of commited crimes in 95' and 96' and use it to substitute the \"?\" in \"no. of commited crimes '95\" column.\n",
    "- Sum and computed average of \"unemploymant rate '95\" e \"unemploymant rate '96\" columns and create new unemployment_rate column.\n",
    "- Sum and computed average of \"no. of commited crimes '95\" e \"no. of commited crimes '96\" columns and create new no. of commited crimes column.\n",
    "- Sum \"no. of municipalities with inhabitants 500-1999\" with \"no. of municipalities with inhabitants 2000-9999\" and create \"no. of municipalities with inhabitants > 2000\" column.\n",
    "- Remove name column."
   ]
  },
  {
   "cell_type": "code",
   "execution_count": 6,
   "id": "5360b308",
   "metadata": {},
   "outputs": [
    {
     "name": "stderr",
     "output_type": "stream",
     "text": [
      "/tmp/ipykernel_318000/1142561627.py:7: SettingWithCopyWarning: \n",
      "A value is trying to be set on a copy of a slice from a DataFrame.\n",
      "Try using .loc[row_indexer,col_indexer] = value instead\n",
      "\n",
      "See the caveats in the documentation: https://pandas.pydata.org/pandas-docs/stable/user_guide/indexing.html#returning-a-view-versus-a-copy\n",
      "  validDistrictData[first_col] = pd.to_numeric(validDistrictData[first_col])\n",
      "/tmp/ipykernel_318000/1142561627.py:8: SettingWithCopyWarning: \n",
      "A value is trying to be set on a copy of a slice from a DataFrame.\n",
      "Try using .loc[row_indexer,col_indexer] = value instead\n",
      "\n",
      "See the caveats in the documentation: https://pandas.pydata.org/pandas-docs/stable/user_guide/indexing.html#returning-a-view-versus-a-copy\n",
      "  validDistrictData[second_col] = pd.to_numeric(validDistrictData[second_col])\n"
     ]
    }
   ],
   "source": [
    "import numpy as np\n",
    "\n",
    "district_data = pd.read_csv(\"./files/district.csv\", index_col=None)\n",
    "validDistrictData = district_data.loc[lambda df: (df[\"unemploymant rate '95 \"] != \"?\") & (df[\"no. of commited crimes '95 \"] != \"?\")] # The region where the \"?\" is located.\n",
    "\n",
    "def avgVariationNMoravia(first_col, second_col):\n",
    "  validDistrictData[first_col] = pd.to_numeric(validDistrictData[first_col])\n",
    "  validDistrictData[second_col] = pd.to_numeric(validDistrictData[second_col])\n",
    "  variationAll = np.subtract(validDistrictData[second_col], validDistrictData[first_col])\n",
    "\n",
    "  return np.array([-y / x for x, y in zip(validDistrictData[second_col], variationAll)]).mean()\n",
    "\n",
    "avgUnemploymentVariation = avgVariationNMoravia(\"unemploymant rate '95 \", \"unemploymant rate '96 \")\n",
    "avgCommitedCrimesVariation = avgVariationNMoravia(\"no. of commited crimes '95 \", \"no. of commited crimes '96 \")\n",
    "\n",
    "# Calculate \"?\" value in columns \"unemploymant rate '95\" and \"no. of commited crimes '95\"\n",
    "knownUnemployment96 = district_data.loc[lambda df: df[\"unemploymant rate '95 \"] == \"?\"][\"unemploymant rate '96 \"].item()\n",
    "newUnemployment95 = (knownUnemployment96 + (knownUnemployment96 * avgUnemploymentVariation))\n",
    "knownCommitedCrime96 = district_data.loc[lambda df: df[\"no. of commited crimes '95 \"] == \"?\"][\"no. of commited crimes '96 \"].item()\n",
    "newCommitedCrime95 = int(knownCommitedCrime96 + (knownCommitedCrime96 * avgCommitedCrimesVariation))\n",
    "\n",
    "def computeTwoColumnsMean(district_data, first_col, second_col, final_col, newValue):\n",
    "  district_data[first_col].replace({\"?\": newValue}, inplace=True)\n",
    "  district_data[first_col] = pd.to_numeric(district_data[first_col])\n",
    "  district_data[second_col] = pd.to_numeric(district_data[second_col])\n",
    "  district_data[final_col] = np.add(district_data[first_col], district_data[second_col]).apply(lambda x: x / 2)\n",
    "  \n",
    "  return district_data\n",
    "\n",
    "district_data = computeTwoColumnsMean(district_data, \"unemploymant rate '95 \", \"unemploymant rate '96 \", \"unemployment_rate\", newUnemployment95)\n",
    "district_data = computeTwoColumnsMean(district_data, \"no. of commited crimes '95 \", \"no. of commited crimes '96 \", \"no. of commited crimes\", newCommitedCrime95)\n",
    "\n",
    "district_data[\"no. of municipalities with inhabitants 500-1999\"] = pd.to_numeric(district_data[\"no. of municipalities with inhabitants 500-1999\"])\n",
    "district_data[\"no. of municipalities with inhabitants 2000-9999 \"] = pd.to_numeric(district_data[\"no. of municipalities with inhabitants 2000-9999 \"])\n",
    "district_data[\"no. of municipalities with inhabitants > 2000\"] = np.add(district_data[\"no. of municipalities with inhabitants 500-1999\"], district_data[\"no. of municipalities with inhabitants 2000-9999 \"])\n",
    "\n",
    "district_data.drop(columns = [\n",
    "    \"unemploymant rate '95 \",\n",
    "    \"unemploymant rate '96 \",\n",
    "    \"no. of municipalities with inhabitants 2000-9999 \",\n",
    "    \"no. of municipalities with inhabitants >10000 \",\n",
    "    \"no. of commited crimes '95 \",\n",
    "    \"no. of commited crimes '96 \",\n",
    "    \"name\"\n",
    "], inplace = True)\n",
    "\n",
    "district_data.to_csv(\"./preprocessed/district.csv\")"
   ]
  },
  {
   "cell_type": "markdown",
   "id": "2aeca529",
   "metadata": {},
   "source": [
    "# Merging datasets\n",
    "Merge all datasets and then compute train and test datasets. Funny fact: the loan_train is smaller than the loan_test.\n",
    "\n",
    "### **TO DO: REFACTOR**"
   ]
  },
  {
   "cell_type": "code",
   "execution_count": 7,
   "id": "da306241",
   "metadata": {},
   "outputs": [],
   "source": [
    "# Train Data\n",
    "merged_data_train = pd.merge(loan_train_data, trans_train_data, on=\"account_id\")\n",
    "merged_data_train = pd.merge(merged_data_train, account_data, on=\"account_id\")\n",
    "\n",
    "#district_data = pd.read_csv(\"./files/district.csv\", index_col=None)\n",
    "district_data.rename(columns={\"code\": \"district_id\"}, inplace=True)\n",
    "merged_data_train = pd.merge(merged_data_train, district_data, how=\"left\", on=\"district_id\")\n",
    "\n",
    "disp_data = pd.read_csv(\"./files/disp.csv\", sep=\";\")\n",
    "merged_data_train = pd.merge(merged_data_train, disp_data, on=\"account_id\")\n",
    "\n",
    "# Remove rows with DISPONENT clients (because only owners can ask for a loan)\n",
    "merged_data_train = merged_data_train.loc[lambda df: df['type'] != 'DISPONENT']\n",
    "\n",
    "merged_data_train = pd.merge(merged_data_train, client_data, on=\"client_id\")\n",
    "# merged_data_train = pd.merge(merged_data_train, card_train_data, how=\"left\", on=\"disp_id\")\n",
    "\n",
    "# Considerations:\n",
    "# The merge with card data doesn't provide much data here. What should we do? Create UNKNOWN State?\n",
    "\n",
    "merged_data_train.drop(columns = ['account_id', 'district_id_x', 'district_id_y', 'disp_id', 'client_id'], inplace = True)\n",
    "\n",
    "# Test Data\n",
    "merged_data_test = pd.merge(loan_test_data, trans_test_data, on=\"account_id\")\n",
    "merged_data_test = pd.merge(merged_data_test, account_data, on=\"account_id\")\n",
    "\n",
    "#district_data = pd.read_csv(\"./files/district.csv\", index_col=None)\n",
    "district_data.rename(columns={\"code\": \"district_id\"}, inplace=True)\n",
    "merged_data_test = pd.merge(merged_data_test, district_data, how=\"left\", on=\"district_id\")\n",
    "\n",
    "disp_data = pd.read_csv(\"./files/disp.csv\", sep=\";\")\n",
    "merged_data_test = pd.merge(merged_data_test, disp_data, on=\"account_id\")\n",
    "\n",
    "# Remove rows with DISPONENT clients (because only owners can ask for a loan)\n",
    "merged_data_test = merged_data_test.loc[lambda df: df['type'] != 'DISPONENT']\n",
    "\n",
    "merged_data_test = pd.merge(merged_data_test, client_data, on=\"client_id\")\n",
    "# merged_data_test = pd.merge(merged_data_test, card_test_data, how=\"left\", on=\"disp_id\")\n",
    "\n",
    "# Considerations:\n",
    "# The merge with card data doesn't provide much data here. What should we do? Create UNKNOWN State?\n",
    "merged_data_test.drop(columns = ['account_id', 'district_id_x', 'district_id_y', 'disp_id', 'client_id'], inplace = True)"
   ]
  },
  {
   "cell_type": "markdown",
   "id": "e5d4759e",
   "metadata": {},
   "source": [
    "# Handling outliers\n",
    "To remove the outlier, we use Z Score, which indicates how many standard deviation away a data point is."
   ]
  },
  {
   "cell_type": "code",
   "execution_count": 8,
   "id": "3c73c98a",
   "metadata": {},
   "outputs": [
    {
     "name": "stdout",
     "output_type": "stream",
     "text": [
      "Removed 11 outliers\n"
     ]
    }
   ],
   "source": [
    "from scipy import stats\n",
    "\n",
    "def remove_outliers(df):\n",
    "    z = np.abs(stats.zscore(df.select_dtypes(exclude=['object'])))\n",
    "\n",
    "    df = df[(z < 3.2).all(axis=1)] # TODO: test with z < 3\n",
    "\n",
    "    return df\n",
    "\n",
    "number_of_rows = merged_data_train.shape[0]\n",
    "\n",
    "merged_data_train = remove_outliers(merged_data_train)\n",
    "\n",
    "print(f\"Removed {number_of_rows - merged_data_train.shape[0]} outliers\")"
   ]
  },
  {
   "cell_type": "markdown",
   "id": "b8145273",
   "metadata": {},
   "source": [
    "# Export preprocessed data"
   ]
  },
  {
   "cell_type": "code",
   "execution_count": 9,
   "id": "adec9a37",
   "metadata": {},
   "outputs": [],
   "source": [
    "merged_data_train.to_csv(\"./preprocessed/mergedTrainData.csv\", index=None)\n",
    "merged_data_test.to_csv(\"./preprocessed/mergedTestData.csv\", index=None)"
   ]
  }
 ],
 "metadata": {
  "interpreter": {
   "hash": "916dbcbb3f70747c44a77c7bcd40155683ae19c65e1c03b4aa3499c5328201f1"
  },
  "kernelspec": {
   "display_name": "Python 3.9.2 64-bit",
   "name": "python3"
  },
  "language_info": {
   "codemirror_mode": {
    "name": "ipython",
    "version": 3
   },
   "file_extension": ".py",
   "mimetype": "text/x-python",
   "name": "python",
   "nbconvert_exporter": "python",
   "pygments_lexer": "ipython3",
   "version": "3.8.9"
  }
 },
 "nbformat": 4,
 "nbformat_minor": 5
}
