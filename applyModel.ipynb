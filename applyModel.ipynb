{
 "cells": [
  {
   "cell_type": "markdown",
   "metadata": {},
   "source": [
    "## Logistic Regression\n",
    "Logistic Regression is a Machine Learning classification algorithm that is used to predict the probability of a categorical dependent variable. In logistic regression, the dependent variable is a binary variable that contains data coded as 1 (yes, success, etc.) or 0 (no, failure, etc.). In other words, the logistic regression model predicts P(Y=1) as a function of X."
   ]
  },
  {
   "cell_type": "code",
   "execution_count": 1,
   "metadata": {},
   "outputs": [],
   "source": [
    "from sklearn.preprocessing import LabelEncoder\n",
    "from sklearn.linear_model import LogisticRegression\n",
    "import pandas as pd\n",
    "\n",
    "def encode_df(df):\n",
    "  columnsToEncode = list(df.select_dtypes(include=['object']))\n",
    "  le = LabelEncoder()\n",
    "  for feature in columnsToEncode:\n",
    "      try:\n",
    "          df[feature] = le.fit_transform(df[feature])\n",
    "      except:\n",
    "          print('Error encoding ' + feature)\n",
    "  return df\n",
    "\n",
    "X_train_full = pd.read_csv(\"./preprocessed/mergedTrainData.csv\")\n",
    "X_test_full = pd.read_csv(\"./preprocessed/mergedTestData.csv\")\n",
    "\n",
    "X_train_full = encode_df(X_train_full)\n",
    "X_test_full = encode_df(X_test_full)\n",
    "\n",
    "# Obtain target and predictors\n",
    "features = [\"years_since_loan\",\"amount\",\"duration\",\"payments\",\"balance\",\"frequency\",\"years_since_acc_open\",\"region\",\"no. of inhabitants\",\"no. of municipalities with inhabitants < 499 \",\"no. of municipalities with inhabitants 500-1999\",\"no. of municipalities with inhabitants > 2000\",\"no. of cities \",\"ratio of urban inhabitants \",\"average salary \",\"unemployment_rate\",\"no. of enterpreneurs per 1000 inhabitants \",\"no. of commited crimes\",\"type\",\"gender\",\"age_group\"]\n",
    "\n",
    "y_train = X_train_full.status\n",
    "X_train = X_train_full[features]\n",
    "X_test = X_test_full[features]\n",
    "\n",
    "# Step 3: Create a model and train it\n",
    "model = LogisticRegression(solver='liblinear', C=10.0, random_state=0)\n",
    "model.fit(X_train, y_train)\n",
    "\n",
    "# Step 4: Evaluate the model\n",
    "p_pred = model.predict_proba(X_test)\n",
    "\n",
    "resultData = {'Id': X_test_full['loan_id'], 'Predicted': p_pred[:,1]}\n",
    "result = pd.DataFrame(data=resultData)\n",
    "result.to_csv(\"./results/newLogisticRegression.csv\", index=None)"
   ]
  }
 ],
 "metadata": {
  "interpreter": {
   "hash": "916dbcbb3f70747c44a77c7bcd40155683ae19c65e1c03b4aa3499c5328201f1"
  },
  "kernelspec": {
   "display_name": "Python 3.8.10 64-bit",
   "language": "python",
   "name": "python3"
  },
  "language_info": {
   "codemirror_mode": {
    "name": "ipython",
    "version": 3
   },
   "file_extension": ".py",
   "mimetype": "text/x-python",
   "name": "python",
   "nbconvert_exporter": "python",
   "pygments_lexer": "ipython3",
   "version": "3.8.10"
  },
  "orig_nbformat": 4
 },
 "nbformat": 4,
 "nbformat_minor": 2
}
