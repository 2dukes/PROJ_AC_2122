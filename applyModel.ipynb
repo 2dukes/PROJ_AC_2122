{
 "cells": [
  {
   "cell_type": "code",
   "execution_count": 39,
   "metadata": {},
   "outputs": [],
   "source": [
    "from sklearn.preprocessing import LabelEncoder\n",
    "from sklearn.metrics import RocCurveDisplay, PrecisionRecallDisplay\n",
    "from sklearn.model_selection import train_test_split\n",
    "from sklearn.linear_model import LogisticRegression\n",
    "from sklearn.model_selection import RepeatedStratifiedKFold\n",
    "from imblearn.pipeline import Pipeline\n",
    "import lightgbm as lgb\n",
    "from sklearn.decomposition import PCA\n",
    "from sklearn.svm import SVC\n",
    "from sklearn.model_selection import GridSearchCV\n",
    "from sklearn.preprocessing import StandardScaler\n",
    "from imblearn.under_sampling import RandomUnderSampler\n",
    "from sklearn.ensemble import RandomForestClassifier\n",
    "from imblearn.over_sampling import SMOTE\n",
    "from sklearn.metrics import precision_score, make_scorer\n",
    "from statistics import mean\n",
    "import matplotlib.pyplot as plt\n",
    "import plotly.express as px\n",
    "import numpy as np\n",
    "import pandas as pd"
   ]
  },
  {
   "cell_type": "code",
   "execution_count": 40,
   "metadata": {},
   "outputs": [],
   "source": [
    "SAMPLING = True\n",
    "\n",
    "X_test_full = pd.read_csv(\"./preprocessed/mergedTestData.csv\")\n",
    "\n",
    "algorithms = []\n",
    "metrics = {}\n",
    "plots_data = {}\n",
    "\n",
    "scoring = {\n",
    "  \"precision_score\": make_scorer(precision_score, zero_division=0),\n",
    "  \"recall_score\": \"recall\",\n",
    "  \"roc_auc_score\": \"roc_auc\",\n",
    "  \"f1_score\": \"f1\",\n",
    "  \"accuracy_score\": \"accuracy\",\n",
    "}\n",
    "\n",
    "def run_model(pipeline, param_grid, X_train, y_train, X_test_pred, clfName, X_test=[], y_test=[]):\n",
    "  global algorithms, metrics, plots_data\n",
    "  \n",
    "  # Define evaluation procedure\n",
    "  cv = RepeatedStratifiedKFold(n_splits=10, n_repeats=3, random_state=1)\n",
    "\n",
    "  grid = GridSearchCV(estimator=pipeline, param_grid=param_grid, \n",
    "    scoring=scoring, n_jobs=-1, cv=cv, refit=\"roc_auc_score\")\n",
    "\n",
    "  grid_result = grid.fit(X_train, y_train)\n",
    "  print('Best: %f using %s' % (grid_result.best_score_, grid_result.best_params_))\n",
    "\n",
    "  # Evaluate the model\n",
    "  p_pred = grid_result.predict_proba(X_test_pred)\n",
    "\n",
    "  # ROC Curve & PR \n",
    "  estimator = grid_result.best_estimator_\n",
    "\n",
    "  if SAMPLING:\n",
    "    plots_data[clfName] = [estimator, X_test, y_test]\n",
    "    \n",
    "    RocCurveDisplay.from_estimator(estimator, X_test, y_test)\n",
    "    PrecisionRecallDisplay.from_estimator(estimator, X_test, y_test)\n",
    "  else:\n",
    "    plots_data[clfName] = [estimator, X_train, y_train]\n",
    "    \n",
    "    RocCurveDisplay.from_estimator(estimator, X_train, y_train)\n",
    "    PrecisionRecallDisplay.from_estimator(estimator, X_train, y_train)\n",
    "  \n",
    "  mean_fit_time = mean(grid_result.cv_results_.get('mean_fit_time'))\n",
    "  mean_accuracy_score = mean(grid_result.cv_results_.get('mean_test_accuracy_score'))\n",
    "  mean_precision_score = mean(grid_result.cv_results_.get('mean_test_precision_score'))\n",
    "  mean_recall_score = mean(grid_result.cv_results_.get('mean_test_recall_score'))\n",
    "  mean_roc_auc_score = mean(grid_result.cv_results_.get('mean_test_roc_auc_score'))\n",
    "  mean_f1_score = mean(grid_result.cv_results_.get('mean_test_f1_score'))\n",
    "\n",
    "  algorithms.append(clfName)\n",
    "  metrics[clfName] = {}\n",
    "  \n",
    "  metrics[clfName][\"fit_time\"] = mean_fit_time\n",
    "  metrics[clfName][\"accuracy\"] = mean_accuracy_score\n",
    "  metrics[clfName][\"precision\"] = mean_precision_score\n",
    "  metrics[clfName][\"recall\"] = mean_recall_score\n",
    "  metrics[clfName][\"roc_auc\"] = mean_roc_auc_score\n",
    "  metrics[clfName][\"f1\"] = mean_f1_score\n",
    "\n",
    "  print(\"----------------- Metrics: -----------------\")\n",
    "  print(\"Mean Fit Time: \" + str(mean_fit_time))\n",
    "  print(\"Mean Accuracy Score: \" + str(mean_accuracy_score))\n",
    "  print(\"Mean Precision Score: \" + str(mean_precision_score))\n",
    "  print(\"Mean Recall Score: \" + str(mean_recall_score))\n",
    "  print(\"Mean Roc-Auc Score: \" + str(mean_roc_auc_score))\n",
    "  print(\"Mean F1 Score: \" + str(mean_f1_score))\n",
    "\n",
    "  resultData = {'Id': X_test_full['loan_id'], 'Predicted': p_pred[:,1]}\n",
    "  result = pd.DataFrame(data=resultData)\n",
    "  return result\n",
    "\n",
    "def encode_df(df):\n",
    "  columnsToEncode = list(df.select_dtypes(include=['object']))\n",
    "  le = LabelEncoder()\n",
    "  for feature in columnsToEncode:\n",
    "      try:\n",
    "          df[feature] = le.fit_transform(df[feature])\n",
    "      except:\n",
    "          print('Error encoding ' + feature)\n",
    "  return df\n",
    "\n",
    "def load_data():\n",
    "  X_train_full = pd.read_csv(\"./preprocessed/mergedTrainData.csv\")\n",
    "\n",
    "  # Obtain target and predictors\n",
    "  # features = ['reached_negative_balance', 'RAB_mean', 'RAB_min', 'ratio_RAB', 'RAB_max', 'credit_ratio', 'withdrawal_ratio', 'IC_mean', 'balance_min', 'RAB_sum', 'mean_trans_profit', 'RAB', 'balance_mean', 'ratio_CC', 'CC_std', 'IC_min', 'CC_max', 'ratio_IC']\n",
    " \n",
    "  # Used for best submission\n",
    "  features = ['reached_negative_balance', 'RAB_mean', 'ratio_RAB', 'credit_ratio', 'balance_min', 'RAB_sum', 'mean_trans_profit', 'balance_mean', 'ratio_CC', 'CC_std', 'IC_min', 'CC_max', 'ratio_IC', 'withdrawal_max', 'WC_max', 'last_balance', 'CAB_mean']\n",
    "  # features = ['reached_negative_balance', 'RAB_mean', 'RAB_min', 'ratio_RAB', 'RAB_max', 'credit_ratio', 'withdrawal_ratio', 'IC_mean', 'balance_min', 'RAB_sum', 'mean_trans_profit', 'RAB', 'balance_mean', 'ratio_CC', 'CC_std', 'IC_min', 'CC_max', 'ratio_IC', 'withdrawal_max', 'WC_max']\n",
    "\n",
    "  X_train = X_train_full[features]\n",
    "  X_test_pred = X_test_full[features]\n",
    "  \n",
    "  # Positive class now is 1 and negative class now is 0\n",
    "  X_train_full.loc[X_train_full[\"status\"] == 1, \"status\"] = 0\n",
    "  X_train_full.loc[X_train_full[\"status\"] == -1, \"status\"] = 1\n",
    "  \n",
    "  y_train = X_train_full.status\n",
    "  \n",
    "  if SAMPLING:\n",
    "    X_train, X_test, y_train, y_test = train_test_split(X_train, y_train, test_size=0.25, stratify=y_train, random_state=0)\n",
    "    return [X_train, X_test, X_test_pred, y_train, y_test]\n",
    "  else:\n",
    "    return [X_train, X_test_pred, y_train]"
   ]
  },
  {
   "cell_type": "markdown",
   "metadata": {},
   "source": [
    "## Logistic Regression\n",
    "Logistic Regression is a Machine Learning classification algorithm that is used to predict the probability of a categorical dependent variable. In logistic regression, the dependent variable is a binary variable that contains data coded as 1 (yes, success, etc.) or 0 (no, failure, etc.). In other words, the logistic regression model predicts P(Y=1) as a function of X."
   ]
  },
  {
   "cell_type": "code",
   "execution_count": 41,
   "metadata": {},
   "outputs": [
    {
     "name": "stdout",
     "output_type": "stream",
     "text": [
      "------- WITH UNDERSAMPLING -------\n",
      "Best: 0.908029 using {'classification__C': 0.05, 'classification__class_weight': 'balanced', 'classification__penalty': 'l2', 'classification__solver': 'liblinear', 'under__sampling_strategy': 0.2}\n",
      "----------------- Metrics: -----------------\n",
      "Mean Fit Time: 0.0468265690311553\n",
      "Mean Accuracy Score: 0.8441323038877387\n",
      "Mean Precision Score: 0.5199637602256649\n",
      "Mean Recall Score: 0.7244444444444444\n",
      "Mean Roc-Auc Score: 0.8900002204585538\n",
      "Mean F1 Score: 0.5604190961155247\n"
     ]
    },
    {
     "data": {
      "image/png": "[encoded data removed]",
      "text/plain": [
       "<Figure size 432x288 with 1 Axes>"
      ]
     },
     "metadata": {
      "needs_background": "light"
     },
     "output_type": "display_data"
    },
    {
     "data": {
      "image/png": "[encoded data removed]",
      "text/plain": [
       "<Figure size 432x288 with 1 Axes>"
      ]
     },
     "metadata": {
      "needs_background": "light"
     },
     "output_type": "display_data"
    }
   ],
   "source": [
    "# Load data\n",
    "if SAMPLING: \n",
    "  [X_train, X_test, X_test_pred, y_train, y_test] = load_data() \n",
    "  X_test = encode_df(X_test)\n",
    "else:\n",
    "  [X_train, X_test_pred, y_train] = load_data()\n",
    "\n",
    "X_train = encode_df(X_train)\n",
    "\n",
    "# With Undersampling\n",
    "print(\"------- WITH UNDERSAMPLING -------\")\n",
    "pipeline = Pipeline([('under', RandomUnderSampler(random_state=0)), ('scaler', StandardScaler()), ('classification', LogisticRegression(random_state=0, max_iter=10000))])\n",
    "\n",
    "param_grid = {'under__sampling_strategy': [0.2, 0.25, 0.5, 0.75, 0.9, 0.99, 'majority'],\n",
    "          'classification__penalty': ['l2'],\n",
    "          'classification__C': [0.01, 0.05, 0.1, 0.2, 0.5, 1.0],\n",
    "          'classification__solver': ['liblinear', 'newton-cg', 'lbfgs', 'sag', 'saga'],\n",
    "          'classification__class_weight': [\"balanced\", None]}\n",
    "\n",
    "results_df = run_model(pipeline, param_grid, X_train, y_train, X_test_pred, \"LogisticRegression_Undersampling\", X_test=X_test, y_test=y_test)\n",
    "results_df.to_csv(\"./results/logisticRegressionUndersampling.csv\", index=None)"
   ]
  },
  {
   "cell_type": "code",
   "execution_count": 42,
   "metadata": {},
   "outputs": [
    {
     "name": "stdout",
     "output_type": "stream",
     "text": [
      "------- WITHOUT OVERSAMPLING & UNDERSAMPLING -------\n",
      "Best: 0.912011 using {'classification__C': 0.01, 'classification__class_weight': None, 'classification__penalty': 'l2', 'classification__solver': 'liblinear'}\n",
      "----------------- Metrics: -----------------\n",
      "Mean Fit Time: 0.023583076265123154\n",
      "Mean Accuracy Score: 0.8688425925925927\n",
      "Mean Precision Score: 0.5853686853270187\n",
      "Mean Recall Score: 0.5867592592592593\n",
      "Mean Roc-Auc Score: 0.9021949955908289\n",
      "Mean F1 Score: 0.5164331085581085\n"
     ]
    },
    {
     "data": {
      "image/png": "[encoded data removed]",
      "text/plain": [
       "<Figure size 432x288 with 1 Axes>"
      ]
     },
     "metadata": {
      "needs_background": "light"
     },
     "output_type": "display_data"
    },
    {
     "data": {
      "image/png": "[encoded data removed]",
      "text/plain": [
       "<Figure size 432x288 with 1 Axes>"
      ]
     },
     "metadata": {
      "needs_background": "light"
     },
     "output_type": "display_data"
    }
   ],
   "source": [
    "# Without Oversampling & Undersampling\n",
    "print(\"------- WITHOUT OVERSAMPLING & UNDERSAMPLING -------\")\n",
    "pipeline = Pipeline([('scaler', StandardScaler()), ('classification', LogisticRegression(random_state=0, max_iter=10000))])\n",
    "\n",
    "param_grid = {'classification__penalty': ['l2'],\n",
    "          'classification__C': [0.01, 0.05, 0.1, 0.2, 0.5, 1.0],\n",
    "          'classification__solver': ['liblinear', 'newton-cg', 'lbfgs', 'sag', 'saga'],\n",
    "          'classification__class_weight': [\"balanced\", None]}\n",
    "\n",
    "results_df = run_model(pipeline, param_grid, X_train, y_train, X_test_pred, \"LogisticRegression\", X_test=X_test, y_test=y_test)\n",
    "results_df.to_csv(\"./results/logisticRegression.csv\", index=None)\n"
   ]
  },
  {
   "cell_type": "code",
   "execution_count": 43,
   "metadata": {},
   "outputs": [
    {
     "name": "stdout",
     "output_type": "stream",
     "text": [
      "------- WITH OVERSAMPLING -------\n"
     ]
    },
    {
     "name": "stderr",
     "output_type": "stream",
     "text": [
      "exception calling callback for <Future at 0x7f4abc735940 state=finished returned list>\n",
      "Traceback (most recent call last):\n",
      "  File \"/home/dukes/.local/lib/python3.9/site-packages/joblib/externals/loky/_base.py\", line 625, in _invoke_callbacks\n",
      "    callback(self)\n",
      "  File \"/home/dukes/.local/lib/python3.9/site-packages/joblib/parallel.py\", line 359, in __call__\n",
      "    self.parallel.dispatch_next()\n",
      "  File \"/home/dukes/.local/lib/python3.9/site-packages/joblib/parallel.py\", line 794, in dispatch_next\n",
      "    if not self.dispatch_one_batch(self._original_iterator):\n",
      "  File \"/home/dukes/.local/lib/python3.9/site-packages/joblib/parallel.py\", line 861, in dispatch_one_batch\n",
      "    self._dispatch(tasks)\n",
      "  File \"/home/dukes/.local/lib/python3.9/site-packages/joblib/parallel.py\", line 779, in _dispatch\n",
      "    job = self._backend.apply_async(batch, callback=cb)\n",
      "  File \"/home/dukes/.local/lib/python3.9/site-packages/joblib/_parallel_backends.py\", line 531, in apply_async\n",
      "    future = self._workers.submit(SafeFunction(func))\n",
      "AttributeError: 'NoneType' object has no attribute 'submit'\n",
      "exception calling callback for <Future at 0x7f4ab37b2ac0 state=finished raised PicklingError>\n",
      "Traceback (most recent call last):\n",
      "  File \"/home/dukes/.local/lib/python3.9/site-packages/joblib/externals/loky/backend/queues.py\", line 153, in _feed\n",
      "    obj_ = dumps(obj, reducers=reducers)\n",
      "  File \"/home/dukes/.local/lib/python3.9/site-packages/joblib/externals/loky/backend/reduction.py\", line 271, in dumps\n",
      "    dump(obj, buf, reducers=reducers, protocol=protocol)\n",
      "  File \"/home/dukes/.local/lib/python3.9/site-packages/joblib/externals/loky/backend/reduction.py\", line 264, in dump\n",
      "    _LokyPickler(file, reducers=reducers, protocol=protocol).dump(obj)\n",
      "  File \"/home/dukes/.local/lib/python3.9/site-packages/joblib/externals/cloudpickle/cloudpickle_fast.py\", line 602, in dump\n",
      "    return Pickler.dump(self, obj)\n",
      "  File \"/home/dukes/.local/lib/python3.9/site-packages/joblib/parallel.py\", line 267, in __reduce__\n",
      "    self._reducer_callback()\n",
      "  File \"/home/dukes/.local/lib/python3.9/site-packages/joblib/parallel.py\", line 988, in _batched_calls_reducer_callback\n",
      "    self._backend._workers._temp_folder_manager.set_current_context(  # noqa\n",
      "AttributeError: 'NoneType' object has no attribute '_temp_folder_manager'\n",
      "\n",
      "During handling of the above exception, another exception occurred:\n",
      "\n",
      "Traceback (most recent call last):\n",
      "  File \"/home/dukes/.local/lib/python3.9/site-packages/joblib/externals/loky/_base.py\", line 625, in _invoke_callbacks\n",
      "    callback(self)\n",
      "  File \"/home/dukes/.local/lib/python3.9/site-packages/joblib/parallel.py\", line 359, in __call__\n",
      "    self.parallel.dispatch_next()\n",
      "  File \"/home/dukes/.local/lib/python3.9/site-packages/joblib/parallel.py\", line 794, in dispatch_next\n",
      "    if not self.dispatch_one_batch(self._original_iterator):\n",
      "  File \"/home/dukes/.local/lib/python3.9/site-packages/joblib/parallel.py\", line 861, in dispatch_one_batch\n",
      "    self._dispatch(tasks)\n",
      "  File \"/home/dukes/.local/lib/python3.9/site-packages/joblib/parallel.py\", line 779, in _dispatch\n",
      "    job = self._backend.apply_async(batch, callback=cb)\n",
      "  File \"/home/dukes/.local/lib/python3.9/site-packages/joblib/_parallel_backends.py\", line 531, in apply_async\n",
      "    future = self._workers.submit(SafeFunction(func))\n",
      "AttributeError: 'NoneType' object has no attribute 'submit'\n",
      "exception calling callback for <Future at 0x7f4abc8264f0 state=finished raised WorkerInterrupt>\n",
      "Traceback (most recent call last):\n",
      "  File \"/home/dukes/.local/lib/python3.9/site-packages/joblib/externals/loky/_base.py\", line 625, in _invoke_callbacks\n",
      "    callback(self)\n",
      "  File \"/home/dukes/.local/lib/python3.9/site-packages/joblib/parallel.py\", line 359, in __call__\n",
      "    self.parallel.dispatch_next()\n",
      "  File \"/home/dukes/.local/lib/python3.9/site-packages/joblib/parallel.py\", line 794, in dispatch_next\n",
      "    if not self.dispatch_one_batch(self._original_iterator):\n",
      "  File \"/home/dukes/.local/lib/python3.9/site-packages/joblib/parallel.py\", line 861, in dispatch_one_batch\n",
      "    self._dispatch(tasks)\n",
      "  File \"/home/dukes/.local/lib/python3.9/site-packages/joblib/parallel.py\", line 779, in _dispatch\n",
      "    job = self._backend.apply_async(batch, callback=cb)\n",
      "  File \"/home/dukes/.local/lib/python3.9/site-packages/joblib/_parallel_backends.py\", line 531, in apply_async\n",
      "    future = self._workers.submit(SafeFunction(func))\n",
      "AttributeError: 'NoneType' object has no attribute 'submit'\n",
      "exception calling callback for <Future at 0x7f4abc716490 state=finished raised PicklingError>\n",
      "Traceback (most recent call last):\n",
      "  File \"/home/dukes/.local/lib/python3.9/site-packages/joblib/externals/loky/backend/queues.py\", line 153, in _feed\n",
      "    obj_ = dumps(obj, reducers=reducers)\n",
      "  File \"/home/dukes/.local/lib/python3.9/site-packages/joblib/externals/loky/backend/reduction.py\", line 271, in dumps\n",
      "    dump(obj, buf, reducers=reducers, protocol=protocol)\n",
      "  File \"/home/dukes/.local/lib/python3.9/site-packages/joblib/externals/loky/backend/reduction.py\", line 264, in dump\n",
      "    _LokyPickler(file, reducers=reducers, protocol=protocol).dump(obj)\n",
      "  File \"/home/dukes/.local/lib/python3.9/site-packages/joblib/externals/cloudpickle/cloudpickle_fast.py\", line 602, in dump\n",
      "    return Pickler.dump(self, obj)\n",
      "  File \"/home/dukes/.local/lib/python3.9/site-packages/joblib/parallel.py\", line 267, in __reduce__\n",
      "    self._reducer_callback()\n",
      "  File \"/home/dukes/.local/lib/python3.9/site-packages/joblib/parallel.py\", line 988, in _batched_calls_reducer_callback\n",
      "    self._backend._workers._temp_folder_manager.set_current_context(  # noqa\n",
      "AttributeError: 'NoneType' object has no attribute '_temp_folder_manager'\n",
      "\n",
      "During handling of the above exception, another exception occurred:\n",
      "\n",
      "Traceback (most recent call last):\n",
      "  File \"/home/dukes/.local/lib/python3.9/site-packages/joblib/externals/loky/_base.py\", line 625, in _invoke_callbacks\n",
      "    callback(self)\n",
      "  File \"/home/dukes/.local/lib/python3.9/site-packages/joblib/parallel.py\", line 359, in __call__\n",
      "    self.parallel.dispatch_next()\n",
      "  File \"/home/dukes/.local/lib/python3.9/site-packages/joblib/parallel.py\", line 794, in dispatch_next\n",
      "    if not self.dispatch_one_batch(self._original_iterator):\n",
      "  File \"/home/dukes/.local/lib/python3.9/site-packages/joblib/parallel.py\", line 861, in dispatch_one_batch\n",
      "    self._dispatch(tasks)\n",
      "  File \"/home/dukes/.local/lib/python3.9/site-packages/joblib/parallel.py\", line 779, in _dispatch\n",
      "    job = self._backend.apply_async(batch, callback=cb)\n",
      "  File \"/home/dukes/.local/lib/python3.9/site-packages/joblib/_parallel_backends.py\", line 531, in apply_async\n",
      "    future = self._workers.submit(SafeFunction(func))\n",
      "AttributeError: 'NoneType' object has no attribute 'submit'\n",
      "exception calling callback for <Future at 0x7f4abc8f6e80 state=finished raised WorkerInterrupt>\n",
      "Traceback (most recent call last):\n",
      "  File \"/home/dukes/.local/lib/python3.9/site-packages/joblib/externals/loky/_base.py\", line 625, in _invoke_callbacks\n",
      "    callback(self)\n",
      "  File \"/home/dukes/.local/lib/python3.9/site-packages/joblib/parallel.py\", line 359, in __call__\n",
      "    self.parallel.dispatch_next()\n",
      "  File \"/home/dukes/.local/lib/python3.9/site-packages/joblib/parallel.py\", line 794, in dispatch_next\n",
      "    if not self.dispatch_one_batch(self._original_iterator):\n",
      "  File \"/home/dukes/.local/lib/python3.9/site-packages/joblib/parallel.py\", line 861, in dispatch_one_batch\n",
      "    self._dispatch(tasks)\n",
      "  File \"/home/dukes/.local/lib/python3.9/site-packages/joblib/parallel.py\", line 779, in _dispatch\n",
      "    job = self._backend.apply_async(batch, callback=cb)\n",
      "  File \"/home/dukes/.local/lib/python3.9/site-packages/joblib/_parallel_backends.py\", line 531, in apply_async\n",
      "    future = self._workers.submit(SafeFunction(func))\n",
      "AttributeError: 'NoneType' object has no attribute 'submit'\n",
      "exception calling callback for <Future at 0x7f4abc71d4f0 state=finished raised PicklingError>\n",
      "Traceback (most recent call last):\n",
      "  File \"/home/dukes/.local/lib/python3.9/site-packages/joblib/externals/loky/backend/queues.py\", line 153, in _feed\n",
      "    obj_ = dumps(obj, reducers=reducers)\n",
      "  File \"/home/dukes/.local/lib/python3.9/site-packages/joblib/externals/loky/backend/reduction.py\", line 271, in dumps\n",
      "    dump(obj, buf, reducers=reducers, protocol=protocol)\n",
      "  File \"/home/dukes/.local/lib/python3.9/site-packages/joblib/externals/loky/backend/reduction.py\", line 264, in dump\n",
      "    _LokyPickler(file, reducers=reducers, protocol=protocol).dump(obj)\n",
      "  File \"/home/dukes/.local/lib/python3.9/site-packages/joblib/externals/cloudpickle/cloudpickle_fast.py\", line 602, in dump\n",
      "    return Pickler.dump(self, obj)\n",
      "  File \"/home/dukes/.local/lib/python3.9/site-packages/joblib/parallel.py\", line 267, in __reduce__\n",
      "    self._reducer_callback()\n",
      "  File \"/home/dukes/.local/lib/python3.9/site-packages/joblib/parallel.py\", line 988, in _batched_calls_reducer_callback\n",
      "    self._backend._workers._temp_folder_manager.set_current_context(  # noqa\n",
      "AttributeError: 'NoneType' object has no attribute '_temp_folder_manager'\n",
      "\n",
      "During handling of the above exception, another exception occurred:\n",
      "\n",
      "Traceback (most recent call last):\n",
      "  File \"/home/dukes/.local/lib/python3.9/site-packages/joblib/externals/loky/_base.py\", line 625, in _invoke_callbacks\n",
      "    callback(self)\n",
      "  File \"/home/dukes/.local/lib/python3.9/site-packages/joblib/parallel.py\", line 359, in __call__\n",
      "    self.parallel.dispatch_next()\n",
      "  File \"/home/dukes/.local/lib/python3.9/site-packages/joblib/parallel.py\", line 794, in dispatch_next\n",
      "    if not self.dispatch_one_batch(self._original_iterator):\n",
      "  File \"/home/dukes/.local/lib/python3.9/site-packages/joblib/parallel.py\", line 861, in dispatch_one_batch\n",
      "    self._dispatch(tasks)\n",
      "  File \"/home/dukes/.local/lib/python3.9/site-packages/joblib/parallel.py\", line 779, in _dispatch\n",
      "    job = self._backend.apply_async(batch, callback=cb)\n",
      "  File \"/home/dukes/.local/lib/python3.9/site-packages/joblib/_parallel_backends.py\", line 531, in apply_async\n",
      "    future = self._workers.submit(SafeFunction(func))\n",
      "AttributeError: 'NoneType' object has no attribute 'submit'\n",
      "exception calling callback for <Future at 0x7f4a9af2c9d0 state=finished raised WorkerInterrupt>\n",
      "Traceback (most recent call last):\n",
      "  File \"/home/dukes/.local/lib/python3.9/site-packages/joblib/externals/loky/_base.py\", line 625, in _invoke_callbacks\n",
      "    callback(self)\n",
      "  File \"/home/dukes/.local/lib/python3.9/site-packages/joblib/parallel.py\", line 359, in __call__\n",
      "    self.parallel.dispatch_next()\n",
      "  File \"/home/dukes/.local/lib/python3.9/site-packages/joblib/parallel.py\", line 794, in dispatch_next\n",
      "    if not self.dispatch_one_batch(self._original_iterator):\n",
      "  File \"/home/dukes/.local/lib/python3.9/site-packages/joblib/parallel.py\", line 861, in dispatch_one_batch\n",
      "    self._dispatch(tasks)\n",
      "  File \"/home/dukes/.local/lib/python3.9/site-packages/joblib/parallel.py\", line 779, in _dispatch\n",
      "    job = self._backend.apply_async(batch, callback=cb)\n",
      "  File \"/home/dukes/.local/lib/python3.9/site-packages/joblib/_parallel_backends.py\", line 531, in apply_async\n",
      "    future = self._workers.submit(SafeFunction(func))\n",
      "AttributeError: 'NoneType' object has no attribute 'submit'\n",
      "exception calling callback for <Future at 0x7f4abc71d340 state=finished raised PicklingError>\n",
      "Traceback (most recent call last):\n",
      "  File \"/home/dukes/.local/lib/python3.9/site-packages/joblib/externals/loky/backend/queues.py\", line 153, in _feed\n",
      "    obj_ = dumps(obj, reducers=reducers)\n",
      "  File \"/home/dukes/.local/lib/python3.9/site-packages/joblib/externals/loky/backend/reduction.py\", line 271, in dumps\n",
      "    dump(obj, buf, reducers=reducers, protocol=protocol)\n",
      "  File \"/home/dukes/.local/lib/python3.9/site-packages/joblib/externals/loky/backend/reduction.py\", line 264, in dump\n",
      "    _LokyPickler(file, reducers=reducers, protocol=protocol).dump(obj)\n",
      "  File \"/home/dukes/.local/lib/python3.9/site-packages/joblib/externals/cloudpickle/cloudpickle_fast.py\", line 602, in dump\n",
      "    return Pickler.dump(self, obj)\n",
      "  File \"/home/dukes/.local/lib/python3.9/site-packages/joblib/parallel.py\", line 267, in __reduce__\n",
      "    self._reducer_callback()\n",
      "  File \"/home/dukes/.local/lib/python3.9/site-packages/joblib/parallel.py\", line 988, in _batched_calls_reducer_callback\n",
      "    self._backend._workers._temp_folder_manager.set_current_context(  # noqa\n",
      "AttributeError: 'NoneType' object has no attribute '_temp_folder_manager'\n",
      "\n",
      "During handling of the above exception, another exception occurred:\n",
      "\n",
      "Traceback (most recent call last):\n",
      "  File \"/home/dukes/.local/lib/python3.9/site-packages/joblib/externals/loky/_base.py\", line 625, in _invoke_callbacks\n",
      "    callback(self)\n",
      "  File \"/home/dukes/.local/lib/python3.9/site-packages/joblib/parallel.py\", line 359, in __call__\n",
      "    self.parallel.dispatch_next()\n",
      "  File \"/home/dukes/.local/lib/python3.9/site-packages/joblib/parallel.py\", line 794, in dispatch_next\n",
      "    if not self.dispatch_one_batch(self._original_iterator):\n",
      "  File \"/home/dukes/.local/lib/python3.9/site-packages/joblib/parallel.py\", line 861, in dispatch_one_batch\n",
      "    self._dispatch(tasks)\n",
      "  File \"/home/dukes/.local/lib/python3.9/site-packages/joblib/parallel.py\", line 779, in _dispatch\n",
      "    job = self._backend.apply_async(batch, callback=cb)\n",
      "  File \"/home/dukes/.local/lib/python3.9/site-packages/joblib/_parallel_backends.py\", line 531, in apply_async\n",
      "    future = self._workers.submit(SafeFunction(func))\n",
      "AttributeError: 'NoneType' object has no attribute 'submit'\n",
      "exception calling callback for <Future at 0x7f4abc44c0d0 state=finished raised WorkerInterrupt>\n",
      "Traceback (most recent call last):\n",
      "  File \"/home/dukes/.local/lib/python3.9/site-packages/joblib/externals/loky/_base.py\", line 625, in _invoke_callbacks\n",
      "    callback(self)\n",
      "  File \"/home/dukes/.local/lib/python3.9/site-packages/joblib/parallel.py\", line 359, in __call__\n",
      "    self.parallel.dispatch_next()\n",
      "  File \"/home/dukes/.local/lib/python3.9/site-packages/joblib/parallel.py\", line 794, in dispatch_next\n",
      "    if not self.dispatch_one_batch(self._original_iterator):\n",
      "  File \"/home/dukes/.local/lib/python3.9/site-packages/joblib/parallel.py\", line 861, in dispatch_one_batch\n",
      "    self._dispatch(tasks)\n",
      "  File \"/home/dukes/.local/lib/python3.9/site-packages/joblib/parallel.py\", line 779, in _dispatch\n",
      "    job = self._backend.apply_async(batch, callback=cb)\n",
      "  File \"/home/dukes/.local/lib/python3.9/site-packages/joblib/_parallel_backends.py\", line 531, in apply_async\n",
      "    future = self._workers.submit(SafeFunction(func))\n",
      "AttributeError: 'NoneType' object has no attribute 'submit'\n",
      "exception calling callback for <Future at 0x7f4abc73bcd0 state=finished raised PicklingError>\n",
      "Traceback (most recent call last):\n",
      "  File \"/home/dukes/.local/lib/python3.9/site-packages/joblib/externals/loky/backend/queues.py\", line 153, in _feed\n",
      "    obj_ = dumps(obj, reducers=reducers)\n",
      "  File \"/home/dukes/.local/lib/python3.9/site-packages/joblib/externals/loky/backend/reduction.py\", line 271, in dumps\n",
      "    dump(obj, buf, reducers=reducers, protocol=protocol)\n",
      "  File \"/home/dukes/.local/lib/python3.9/site-packages/joblib/externals/loky/backend/reduction.py\", line 264, in dump\n",
      "    _LokyPickler(file, reducers=reducers, protocol=protocol).dump(obj)\n",
      "  File \"/home/dukes/.local/lib/python3.9/site-packages/joblib/externals/cloudpickle/cloudpickle_fast.py\", line 602, in dump\n",
      "    return Pickler.dump(self, obj)\n",
      "  File \"/home/dukes/.local/lib/python3.9/site-packages/joblib/parallel.py\", line 267, in __reduce__\n",
      "    self._reducer_callback()\n",
      "  File \"/home/dukes/.local/lib/python3.9/site-packages/joblib/parallel.py\", line 988, in _batched_calls_reducer_callback\n",
      "    self._backend._workers._temp_folder_manager.set_current_context(  # noqa\n",
      "AttributeError: 'NoneType' object has no attribute '_temp_folder_manager'\n",
      "\n",
      "During handling of the above exception, another exception occurred:\n",
      "\n",
      "Traceback (most recent call last):\n",
      "  File \"/home/dukes/.local/lib/python3.9/site-packages/joblib/externals/loky/_base.py\", line 625, in _invoke_callbacks\n",
      "    callback(self)\n",
      "  File \"/home/dukes/.local/lib/python3.9/site-packages/joblib/parallel.py\", line 359, in __call__\n",
      "    self.parallel.dispatch_next()\n",
      "  File \"/home/dukes/.local/lib/python3.9/site-packages/joblib/parallel.py\", line 794, in dispatch_next\n",
      "    if not self.dispatch_one_batch(self._original_iterator):\n",
      "  File \"/home/dukes/.local/lib/python3.9/site-packages/joblib/parallel.py\", line 861, in dispatch_one_batch\n",
      "    self._dispatch(tasks)\n",
      "  File \"/home/dukes/.local/lib/python3.9/site-packages/joblib/parallel.py\", line 779, in _dispatch\n",
      "    job = self._backend.apply_async(batch, callback=cb)\n",
      "  File \"/home/dukes/.local/lib/python3.9/site-packages/joblib/_parallel_backends.py\", line 531, in apply_async\n",
      "    future = self._workers.submit(SafeFunction(func))\n",
      "AttributeError: 'NoneType' object has no attribute 'submit'\n",
      "exception calling callback for <Future at 0x7f4abc70cdf0 state=finished raised WorkerInterrupt>\n",
      "Traceback (most recent call last):\n",
      "  File \"/home/dukes/.local/lib/python3.9/site-packages/joblib/externals/loky/_base.py\", line 625, in _invoke_callbacks\n",
      "    callback(self)\n",
      "  File \"/home/dukes/.local/lib/python3.9/site-packages/joblib/parallel.py\", line 359, in __call__\n",
      "    self.parallel.dispatch_next()\n",
      "  File \"/home/dukes/.local/lib/python3.9/site-packages/joblib/parallel.py\", line 794, in dispatch_next\n",
      "    if not self.dispatch_one_batch(self._original_iterator):\n",
      "  File \"/home/dukes/.local/lib/python3.9/site-packages/joblib/parallel.py\", line 861, in dispatch_one_batch\n",
      "    self._dispatch(tasks)\n",
      "  File \"/home/dukes/.local/lib/python3.9/site-packages/joblib/parallel.py\", line 779, in _dispatch\n",
      "    job = self._backend.apply_async(batch, callback=cb)\n",
      "  File \"/home/dukes/.local/lib/python3.9/site-packages/joblib/_parallel_backends.py\", line 531, in apply_async\n",
      "    future = self._workers.submit(SafeFunction(func))\n",
      "AttributeError: 'NoneType' object has no attribute 'submit'\n",
      "exception calling callback for <Future at 0x7f4abc5e21c0 state=finished raised WorkerInterrupt>\n",
      "Traceback (most recent call last):\n",
      "  File \"/home/dukes/.local/lib/python3.9/site-packages/joblib/externals/loky/_base.py\", line 625, in _invoke_callbacks\n",
      "    callback(self)\n",
      "  File \"/home/dukes/.local/lib/python3.9/site-packages/joblib/parallel.py\", line 359, in __call__\n",
      "    self.parallel.dispatch_next()\n",
      "  File \"/home/dukes/.local/lib/python3.9/site-packages/joblib/parallel.py\", line 794, in dispatch_next\n",
      "    if not self.dispatch_one_batch(self._original_iterator):\n",
      "  File \"/home/dukes/.local/lib/python3.9/site-packages/joblib/parallel.py\", line 861, in dispatch_one_batch\n",
      "    self._dispatch(tasks)\n",
      "  File \"/home/dukes/.local/lib/python3.9/site-packages/joblib/parallel.py\", line 779, in _dispatch\n",
      "    job = self._backend.apply_async(batch, callback=cb)\n",
      "  File \"/home/dukes/.local/lib/python3.9/site-packages/joblib/_parallel_backends.py\", line 531, in apply_async\n",
      "    future = self._workers.submit(SafeFunction(func))\n",
      "AttributeError: 'NoneType' object has no attribute 'submit'\n",
      "exception calling callback for <Future at 0x7f4abcf1ac10 state=finished raised WorkerInterrupt>\n",
      "Traceback (most recent call last):\n",
      "  File \"/home/dukes/.local/lib/python3.9/site-packages/joblib/externals/loky/_base.py\", line 625, in _invoke_callbacks\n",
      "    callback(self)\n",
      "  File \"/home/dukes/.local/lib/python3.9/site-packages/joblib/parallel.py\", line 359, in __call__\n",
      "    self.parallel.dispatch_next()\n",
      "  File \"/home/dukes/.local/lib/python3.9/site-packages/joblib/parallel.py\", line 794, in dispatch_next\n",
      "    if not self.dispatch_one_batch(self._original_iterator):\n",
      "  File \"/home/dukes/.local/lib/python3.9/site-packages/joblib/parallel.py\", line 861, in dispatch_one_batch\n",
      "    self._dispatch(tasks)\n",
      "  File \"/home/dukes/.local/lib/python3.9/site-packages/joblib/parallel.py\", line 779, in _dispatch\n",
      "    job = self._backend.apply_async(batch, callback=cb)\n",
      "  File \"/home/dukes/.local/lib/python3.9/site-packages/joblib/_parallel_backends.py\", line 531, in apply_async\n",
      "    future = self._workers.submit(SafeFunction(func))\n",
      "AttributeError: 'NoneType' object has no attribute 'submit'\n",
      "exception calling callback for <Future at 0x7f4abc5e2c10 state=finished raised WorkerInterrupt>\n",
      "Traceback (most recent call last):\n",
      "  File \"/home/dukes/.local/lib/python3.9/site-packages/joblib/externals/loky/_base.py\", line 625, in _invoke_callbacks\n",
      "    callback(self)\n",
      "  File \"/home/dukes/.local/lib/python3.9/site-packages/joblib/parallel.py\", line 359, in __call__\n",
      "    self.parallel.dispatch_next()\n",
      "  File \"/home/dukes/.local/lib/python3.9/site-packages/joblib/parallel.py\", line 794, in dispatch_next\n",
      "    if not self.dispatch_one_batch(self._original_iterator):\n",
      "  File \"/home/dukes/.local/lib/python3.9/site-packages/joblib/parallel.py\", line 861, in dispatch_one_batch\n",
      "    self._dispatch(tasks)\n",
      "  File \"/home/dukes/.local/lib/python3.9/site-packages/joblib/parallel.py\", line 779, in _dispatch\n",
      "    job = self._backend.apply_async(batch, callback=cb)\n",
      "  File \"/home/dukes/.local/lib/python3.9/site-packages/joblib/_parallel_backends.py\", line 531, in apply_async\n",
      "    future = self._workers.submit(SafeFunction(func))\n",
      "AttributeError: 'NoneType' object has no attribute 'submit'\n",
      "exception calling callback for <Future at 0x7f4abc713760 state=finished returned list>\n",
      "Traceback (most recent call last):\n",
      "  File \"/home/dukes/.local/lib/python3.9/site-packages/joblib/externals/loky/_base.py\", line 625, in _invoke_callbacks\n",
      "    callback(self)\n",
      "  File \"/home/dukes/.local/lib/python3.9/site-packages/joblib/parallel.py\", line 359, in __call__\n",
      "    self.parallel.dispatch_next()\n",
      "  File \"/home/dukes/.local/lib/python3.9/site-packages/joblib/parallel.py\", line 794, in dispatch_next\n",
      "    if not self.dispatch_one_batch(self._original_iterator):\n",
      "  File \"/home/dukes/.local/lib/python3.9/site-packages/joblib/parallel.py\", line 861, in dispatch_one_batch\n",
      "    self._dispatch(tasks)\n",
      "  File \"/home/dukes/.local/lib/python3.9/site-packages/joblib/parallel.py\", line 779, in _dispatch\n",
      "    job = self._backend.apply_async(batch, callback=cb)\n",
      "  File \"/home/dukes/.local/lib/python3.9/site-packages/joblib/_parallel_backends.py\", line 531, in apply_async\n",
      "    future = self._workers.submit(SafeFunction(func))\n",
      "AttributeError: 'NoneType' object has no attribute 'submit'\n",
      "exception calling callback for <Future at 0x7f4abc710460 state=finished returned list>\n",
      "Traceback (most recent call last):\n",
      "  File \"/home/dukes/.local/lib/python3.9/site-packages/joblib/externals/loky/_base.py\", line 625, in _invoke_callbacks\n",
      "    callback(self)\n",
      "  File \"/home/dukes/.local/lib/python3.9/site-packages/joblib/parallel.py\", line 359, in __call__\n",
      "    self.parallel.dispatch_next()\n",
      "  File \"/home/dukes/.local/lib/python3.9/site-packages/joblib/parallel.py\", line 794, in dispatch_next\n",
      "    if not self.dispatch_one_batch(self._original_iterator):\n",
      "  File \"/home/dukes/.local/lib/python3.9/site-packages/joblib/parallel.py\", line 861, in dispatch_one_batch\n",
      "    self._dispatch(tasks)\n",
      "  File \"/home/dukes/.local/lib/python3.9/site-packages/joblib/parallel.py\", line 779, in _dispatch\n",
      "    job = self._backend.apply_async(batch, callback=cb)\n",
      "  File \"/home/dukes/.local/lib/python3.9/site-packages/joblib/_parallel_backends.py\", line 531, in apply_async\n",
      "    future = self._workers.submit(SafeFunction(func))\n",
      "AttributeError: 'NoneType' object has no attribute 'submit'\n"
     ]
    },
    {
     "ename": "KeyboardInterrupt",
     "evalue": "",
     "output_type": "error",
     "traceback": [
      "\u001b[0;31m---------------------------------------------------------------------------\u001b[0m",
      "\u001b[0;31mKeyboardInterrupt\u001b[0m                         Traceback (most recent call last)",
      "\u001b[0;32m/tmp/ipykernel_21540/1494592398.py\u001b[0m in \u001b[0;36m<module>\u001b[0;34m\u001b[0m\n\u001b[1;32m     11\u001b[0m         'classification__class_weight': [\"balanced\", None]}\n\u001b[1;32m     12\u001b[0m \u001b[0;34m\u001b[0m\u001b[0m\n\u001b[0;32m---> 13\u001b[0;31m \u001b[0mresults_df\u001b[0m \u001b[0;34m=\u001b[0m \u001b[0mrun_model\u001b[0m\u001b[0;34m(\u001b[0m\u001b[0mpipeline\u001b[0m\u001b[0;34m,\u001b[0m \u001b[0mparam_grid\u001b[0m\u001b[0;34m,\u001b[0m \u001b[0mX_train\u001b[0m\u001b[0;34m,\u001b[0m \u001b[0my_train\u001b[0m\u001b[0;34m,\u001b[0m \u001b[0mX_test_pred\u001b[0m\u001b[0;34m,\u001b[0m \u001b[0;34m\"LogisticRegression_Oversampling\"\u001b[0m\u001b[0;34m,\u001b[0m \u001b[0mX_test\u001b[0m\u001b[0;34m=\u001b[0m\u001b[0mX_test\u001b[0m\u001b[0;34m,\u001b[0m \u001b[0my_test\u001b[0m\u001b[0;34m=\u001b[0m\u001b[0my_test\u001b[0m\u001b[0;34m)\u001b[0m\u001b[0;34m\u001b[0m\u001b[0;34m\u001b[0m\u001b[0m\n\u001b[0m\u001b[1;32m     14\u001b[0m \u001b[0mresults_df\u001b[0m\u001b[0;34m.\u001b[0m\u001b[0mto_csv\u001b[0m\u001b[0;34m(\u001b[0m\u001b[0;34m\"./results/logisticRegressionWithSMOTE.csv\"\u001b[0m\u001b[0;34m,\u001b[0m \u001b[0mindex\u001b[0m\u001b[0;34m=\u001b[0m\u001b[0;32mNone\u001b[0m\u001b[0;34m)\u001b[0m\u001b[0;34m\u001b[0m\u001b[0;34m\u001b[0m\u001b[0m\n",
      "\u001b[0;32m/tmp/ipykernel_21540/3296365059.py\u001b[0m in \u001b[0;36mrun_model\u001b[0;34m(pipeline, param_grid, X_train, y_train, X_test_pred, clfName, X_test, y_test)\u001b[0m\n\u001b[1;32m     24\u001b[0m     scoring=scoring, n_jobs=-1, cv=cv, refit=\"roc_auc_score\")\n\u001b[1;32m     25\u001b[0m \u001b[0;34m\u001b[0m\u001b[0m\n\u001b[0;32m---> 26\u001b[0;31m   \u001b[0mgrid_result\u001b[0m \u001b[0;34m=\u001b[0m \u001b[0mgrid\u001b[0m\u001b[0;34m.\u001b[0m\u001b[0mfit\u001b[0m\u001b[0;34m(\u001b[0m\u001b[0mX_train\u001b[0m\u001b[0;34m,\u001b[0m \u001b[0my_train\u001b[0m\u001b[0;34m)\u001b[0m\u001b[0;34m\u001b[0m\u001b[0;34m\u001b[0m\u001b[0m\n\u001b[0m\u001b[1;32m     27\u001b[0m   \u001b[0mprint\u001b[0m\u001b[0;34m(\u001b[0m\u001b[0;34m'Best: %f using %s'\u001b[0m \u001b[0;34m%\u001b[0m \u001b[0;34m(\u001b[0m\u001b[0mgrid_result\u001b[0m\u001b[0;34m.\u001b[0m\u001b[0mbest_score_\u001b[0m\u001b[0;34m,\u001b[0m \u001b[0mgrid_result\u001b[0m\u001b[0;34m.\u001b[0m\u001b[0mbest_params_\u001b[0m\u001b[0;34m)\u001b[0m\u001b[0;34m)\u001b[0m\u001b[0;34m\u001b[0m\u001b[0;34m\u001b[0m\u001b[0m\n\u001b[1;32m     28\u001b[0m \u001b[0;34m\u001b[0m\u001b[0m\n",
      "\u001b[0;32m~/.local/lib/python3.9/site-packages/sklearn/model_selection/_search.py\u001b[0m in \u001b[0;36mfit\u001b[0;34m(self, X, y, groups, **fit_params)\u001b[0m\n\u001b[1;32m    889\u001b[0m                 \u001b[0;32mreturn\u001b[0m \u001b[0mresults\u001b[0m\u001b[0;34m\u001b[0m\u001b[0;34m\u001b[0m\u001b[0m\n\u001b[1;32m    890\u001b[0m \u001b[0;34m\u001b[0m\u001b[0m\n\u001b[0;32m--> 891\u001b[0;31m             \u001b[0mself\u001b[0m\u001b[0;34m.\u001b[0m\u001b[0m_run_search\u001b[0m\u001b[0;34m(\u001b[0m\u001b[0mevaluate_candidates\u001b[0m\u001b[0;34m)\u001b[0m\u001b[0;34m\u001b[0m\u001b[0;34m\u001b[0m\u001b[0m\n\u001b[0m\u001b[1;32m    892\u001b[0m \u001b[0;34m\u001b[0m\u001b[0m\n\u001b[1;32m    893\u001b[0m             \u001b[0;31m# multimetric is determined here because in the case of a callable\u001b[0m\u001b[0;34m\u001b[0m\u001b[0;34m\u001b[0m\u001b[0;34m\u001b[0m\u001b[0m\n",
      "\u001b[0;32m~/.local/lib/python3.9/site-packages/sklearn/model_selection/_search.py\u001b[0m in \u001b[0;36m_run_search\u001b[0;34m(self, evaluate_candidates)\u001b[0m\n\u001b[1;32m   1390\u001b[0m     \u001b[0;32mdef\u001b[0m \u001b[0m_run_search\u001b[0m\u001b[0;34m(\u001b[0m\u001b[0mself\u001b[0m\u001b[0;34m,\u001b[0m \u001b[0mevaluate_candidates\u001b[0m\u001b[0;34m)\u001b[0m\u001b[0;34m:\u001b[0m\u001b[0;34m\u001b[0m\u001b[0;34m\u001b[0m\u001b[0m\n\u001b[1;32m   1391\u001b[0m         \u001b[0;34m\"\"\"Search all candidates in param_grid\"\"\"\u001b[0m\u001b[0;34m\u001b[0m\u001b[0;34m\u001b[0m\u001b[0m\n\u001b[0;32m-> 1392\u001b[0;31m         \u001b[0mevaluate_candidates\u001b[0m\u001b[0;34m(\u001b[0m\u001b[0mParameterGrid\u001b[0m\u001b[0;34m(\u001b[0m\u001b[0mself\u001b[0m\u001b[0;34m.\u001b[0m\u001b[0mparam_grid\u001b[0m\u001b[0;34m)\u001b[0m\u001b[0;34m)\u001b[0m\u001b[0;34m\u001b[0m\u001b[0;34m\u001b[0m\u001b[0m\n\u001b[0m\u001b[1;32m   1393\u001b[0m \u001b[0;34m\u001b[0m\u001b[0m\n\u001b[1;32m   1394\u001b[0m \u001b[0;34m\u001b[0m\u001b[0m\n",
      "\u001b[0;32m~/.local/lib/python3.9/site-packages/sklearn/model_selection/_search.py\u001b[0m in \u001b[0;36mevaluate_candidates\u001b[0;34m(candidate_params, cv, more_results)\u001b[0m\n\u001b[1;32m    836\u001b[0m                     )\n\u001b[1;32m    837\u001b[0m \u001b[0;34m\u001b[0m\u001b[0m\n\u001b[0;32m--> 838\u001b[0;31m                 out = parallel(\n\u001b[0m\u001b[1;32m    839\u001b[0m                     delayed(_fit_and_score)(\n\u001b[1;32m    840\u001b[0m                         \u001b[0mclone\u001b[0m\u001b[0;34m(\u001b[0m\u001b[0mbase_estimator\u001b[0m\u001b[0;34m)\u001b[0m\u001b[0;34m,\u001b[0m\u001b[0;34m\u001b[0m\u001b[0;34m\u001b[0m\u001b[0m\n",
      "\u001b[0;32m~/.local/lib/python3.9/site-packages/joblib/parallel.py\u001b[0m in \u001b[0;36m__call__\u001b[0;34m(self, iterable)\u001b[0m\n\u001b[1;32m   1054\u001b[0m \u001b[0;34m\u001b[0m\u001b[0m\n\u001b[1;32m   1055\u001b[0m             \u001b[0;32mwith\u001b[0m \u001b[0mself\u001b[0m\u001b[0;34m.\u001b[0m\u001b[0m_backend\u001b[0m\u001b[0;34m.\u001b[0m\u001b[0mretrieval_context\u001b[0m\u001b[0;34m(\u001b[0m\u001b[0;34m)\u001b[0m\u001b[0;34m:\u001b[0m\u001b[0;34m\u001b[0m\u001b[0;34m\u001b[0m\u001b[0m\n\u001b[0;32m-> 1056\u001b[0;31m                 \u001b[0mself\u001b[0m\u001b[0;34m.\u001b[0m\u001b[0mretrieve\u001b[0m\u001b[0;34m(\u001b[0m\u001b[0;34m)\u001b[0m\u001b[0;34m\u001b[0m\u001b[0;34m\u001b[0m\u001b[0m\n\u001b[0m\u001b[1;32m   1057\u001b[0m             \u001b[0;31m# Make sure that we get a last message telling us we are done\u001b[0m\u001b[0;34m\u001b[0m\u001b[0;34m\u001b[0m\u001b[0;34m\u001b[0m\u001b[0m\n\u001b[1;32m   1058\u001b[0m             \u001b[0melapsed_time\u001b[0m \u001b[0;34m=\u001b[0m \u001b[0mtime\u001b[0m\u001b[0;34m.\u001b[0m\u001b[0mtime\u001b[0m\u001b[0;34m(\u001b[0m\u001b[0;34m)\u001b[0m \u001b[0;34m-\u001b[0m \u001b[0mself\u001b[0m\u001b[0;34m.\u001b[0m\u001b[0m_start_time\u001b[0m\u001b[0;34m\u001b[0m\u001b[0;34m\u001b[0m\u001b[0m\n",
      "\u001b[0;32m~/.local/lib/python3.9/site-packages/joblib/parallel.py\u001b[0m in \u001b[0;36mretrieve\u001b[0;34m(self)\u001b[0m\n\u001b[1;32m    928\u001b[0m             \u001b[0;31m# we empty it and Python list are not thread-safe by default hence\u001b[0m\u001b[0;34m\u001b[0m\u001b[0;34m\u001b[0m\u001b[0;34m\u001b[0m\u001b[0m\n\u001b[1;32m    929\u001b[0m             \u001b[0;31m# the use of the lock\u001b[0m\u001b[0;34m\u001b[0m\u001b[0;34m\u001b[0m\u001b[0;34m\u001b[0m\u001b[0m\n\u001b[0;32m--> 930\u001b[0;31m             \u001b[0;32mwith\u001b[0m \u001b[0mself\u001b[0m\u001b[0;34m.\u001b[0m\u001b[0m_lock\u001b[0m\u001b[0;34m:\u001b[0m\u001b[0;34m\u001b[0m\u001b[0;34m\u001b[0m\u001b[0m\n\u001b[0m\u001b[1;32m    931\u001b[0m                 \u001b[0mjob\u001b[0m \u001b[0;34m=\u001b[0m \u001b[0mself\u001b[0m\u001b[0;34m.\u001b[0m\u001b[0m_jobs\u001b[0m\u001b[0;34m.\u001b[0m\u001b[0mpop\u001b[0m\u001b[0;34m(\u001b[0m\u001b[0;36m0\u001b[0m\u001b[0;34m)\u001b[0m\u001b[0;34m\u001b[0m\u001b[0;34m\u001b[0m\u001b[0m\n\u001b[1;32m    932\u001b[0m \u001b[0;34m\u001b[0m\u001b[0m\n",
      "\u001b[0;31mKeyboardInterrupt\u001b[0m: "
     ]
    }
   ],
   "source": [
    "# With Oversampling\n",
    "print(\"------- WITH OVERSAMPLING -------\")\n",
    "pipeline = Pipeline([('smote', SMOTE(random_state=0)), ('scaler', StandardScaler()), ('classification', LogisticRegression(random_state=0, max_iter=10000))])\n",
    "\n",
    "weights = list(np.linspace(0.2, 0.9, 5)) + ['minority']\n",
    "param_grid = {\n",
    "        'smote__sampling_strategy': weights,\n",
    "        'classification__penalty': ['l2'],\n",
    "        'classification__C': [0.001, 0.01, 0.05, 0.1, 0.2, 0.5, 1.0],\n",
    "        'classification__solver': ['liblinear', 'newton-cg', 'lbfgs', 'sag', 'saga'],\n",
    "        'classification__class_weight': [\"balanced\", None]}\n",
    "\n",
    "results_df = run_model(pipeline, param_grid, X_train, y_train, X_test_pred, \"LogisticRegression_Oversampling\", X_test=X_test, y_test=y_test)\n",
    "results_df.to_csv(\"./results/logisticRegressionWithSMOTE.csv\", index=None)"
   ]
  },
  {
   "cell_type": "markdown",
   "metadata": {},
   "source": [
    "# Random Forest"
   ]
  },
  {
   "cell_type": "code",
   "execution_count": null,
   "metadata": {},
   "outputs": [
    {
     "name": "stdout",
     "output_type": "stream",
     "text": [
      "------- WITH UNDERSAMPLING -------\n",
      "Best: 0.916201 using {'classification__class_weight': None, 'classification__criterion': 'gini', 'classification__max_features': 'sqrt', 'classification__n_estimators': 250, 'under__sampling_strategy': 0.2}\n",
      "----------------- Metrics: -----------------\n",
      "Mean Fit Time: 0.7346460825867123\n",
      "Mean Accuracy Score: 0.8676938657407407\n",
      "Mean Precision Score: 0.58802387525631\n",
      "Mean Recall Score: 0.7040972222222222\n",
      "Mean Roc-Auc Score: 0.9019278181951793\n",
      "Mean F1 Score: 0.5961905458399912\n"
     ]
    },
    {
     "data": {
      "image/png": "[encoded data removed]",
      "text/plain": [
       "<Figure size 432x288 with 1 Axes>"
      ]
     },
     "metadata": {
      "needs_background": "light"
     },
     "output_type": "display_data"
    },
    {
     "data": {
      "image/png": "[encoded data removed]",
      "text/plain": [
       "<Figure size 432x288 with 1 Axes>"
      ]
     },
     "metadata": {
      "needs_background": "light"
     },
     "output_type": "display_data"
    }
   ],
   "source": [
    "# https://stackoverflow.com/questions/30814231/using-the-predict-proba-function-of-randomforestclassifier-in-the-safe-and-rig\n",
    "# https://rpmcruz.github.io/machine%20learning/2018/02/09/probabilities-trees.html\n",
    "\n",
    "# Load data\n",
    "if SAMPLING: \n",
    "  [X_train, X_test, X_test_pred, y_train, y_test] = load_data() \n",
    "  X_test = encode_df(X_test)\n",
    "else:\n",
    "  [X_train, X_test_pred, y_train] = load_data()\n",
    "\n",
    "# With Undersampling\n",
    "print(\"------- WITH UNDERSAMPLING -------\")\n",
    "pipeline = Pipeline([('under', RandomUnderSampler(random_state=0)), ('classification', RandomForestClassifier(random_state=0))])\n",
    "\n",
    "param_grid = {'under__sampling_strategy': [0.2, 0.5, 0.75, 0.9],\n",
    "            'classification__n_estimators': [50, 150, 250],\n",
    "            'classification__max_features': ['sqrt', 'auto'],\n",
    "            'classification__criterion': ['gini', 'entropy'],\n",
    "            'classification__class_weight': [\"balanced\", \"balanced_subsample\", None],}\n",
    "\n",
    "results_df = run_model(pipeline, param_grid, X_train, y_train, X_test_pred, \"RandomForest_Undersampling\", X_test=X_test, y_test=y_test)\n",
    "results_df.to_csv(\"./results/randomForestUndersampling.csv\", index=None)"
   ]
  },
  {
   "cell_type": "code",
   "execution_count": 46,
   "metadata": {},
   "outputs": [
    {
     "name": "stdout",
     "output_type": "stream",
     "text": [
      "------- WITHOUT OVERSAMPLING & UNDERSAMPLING -------\n",
      "Best: 0.907216 using {'classification__class_weight': 'balanced', 'classification__criterion': 'entropy', 'classification__max_features': 'sqrt', 'classification__n_estimators': 150}\n",
      "----------------- Metrics: -----------------\n",
      "Mean Fit Time: 0.8779041171073914\n",
      "Mean Accuracy Score: 0.9131642512077296\n",
      "Mean Precision Score: 0.7672310405643739\n",
      "Mean Recall Score: 0.44537037037037036\n",
      "Mean Roc-Auc Score: 0.8953294018224573\n",
      "Mean F1 Score: 0.5394944150499705\n"
     ]
    },
    {
     "data": {
      "image/png": "[encoded data removed]",
      "text/plain": [
       "<Figure size 432x288 with 1 Axes>"
      ]
     },
     "metadata": {
      "needs_background": "light"
     },
     "output_type": "display_data"
    },
    {
     "data": {
      "image/png": "[encoded data removed]",
      "text/plain": [
       "<Figure size 432x288 with 1 Axes>"
      ]
     },
     "metadata": {
      "needs_background": "light"
     },
     "output_type": "display_data"
    }
   ],
   "source": [
    "# Without Oversampling & Undersampling\n",
    "print(\"------- WITHOUT OVERSAMPLING & UNDERSAMPLING -------\")\n",
    "param_grid = {'classification__n_estimators': [50, 150, 250],\n",
    "              'classification__max_features': ['sqrt', 'auto'],\n",
    "              'classification__criterion': ['gini', 'entropy'],\n",
    "              'classification__class_weight': [\"balanced\", \"balanced_subsample\", None],\n",
    "            }\n",
    "\n",
    "pipeline = Pipeline([('classification', RandomForestClassifier(random_state=0))])\n",
    "results_df = run_model(pipeline, param_grid, X_train, y_train, X_test_pred, \"RandomForest\", X_test=X_test, y_test=y_test)\n",
    "results_df.to_csv(\"./results/randomForest.csv\", index=None)"
   ]
  },
  {
   "cell_type": "code",
   "execution_count": null,
   "metadata": {},
   "outputs": [
    {
     "name": "stdout",
     "output_type": "stream",
     "text": [
      "------- WITH OVERSAMPLING -------\n",
      "Best: 0.919831 using {'classification__class_weight': 'balanced', 'classification__criterion': 'gini', 'classification__max_features': 'sqrt', 'classification__n_estimators': 250, 'smote__sampling_strategy': 0.55}\n",
      "----------------- Metrics: -----------------\n",
      "Mean Fit Time: 0.7823650542232725\n",
      "Mean Accuracy Score: 0.9131228843090401\n",
      "Mean Precision Score: 0.7633940819126004\n",
      "Mean Recall Score: 0.5911111111111111\n",
      "Mean Roc-Auc Score: 0.9088946146874388\n",
      "Mean F1 Score: 0.6380671797338464\n"
     ]
    },
    {
     "data": {
      "image/png": "[encoded data removed]",
      "text/plain": [
       "<Figure size 432x288 with 1 Axes>"
      ]
     },
     "metadata": {
      "needs_background": "light"
     },
     "output_type": "display_data"
    },
    {
     "data": {
      "image/png": "[encoded data removed]",
      "text/plain": [
       "<Figure size 432x288 with 1 Axes>"
      ]
     },
     "metadata": {
      "needs_background": "light"
     },
     "output_type": "display_data"
    }
   ],
   "source": [
    "# With Oversampling\n",
    "print(\"------- WITH OVERSAMPLING -------\")\n",
    "pipeline = Pipeline([('smote', SMOTE(random_state=0)), ('classification', RandomForestClassifier(random_state=0))])\n",
    "\n",
    "weights = list(np.linspace(0.2, 0.9, 5)) + ['minority']\n",
    "param_grid['smote__sampling_strategy'] = weights\n",
    "results_df = run_model(pipeline, param_grid, X_train, y_train, X_test_pred, \"RandomForest_Oversampling\", X_test=X_test, y_test=y_test)\n",
    "results_df.to_csv(\"./results/randomForestWithSMOTE.csv\", index=None)"
   ]
  },
  {
   "cell_type": "markdown",
   "metadata": {},
   "source": [
    "# SVM\n",
    "Applying Min-Max Scaling so that values are normalized (0-1)."
   ]
  },
  {
   "cell_type": "code",
   "execution_count": 45,
   "metadata": {},
   "outputs": [],
   "source": [
    "def min_max_scaling(df, numeric_columns):\n",
    "  # copy the dataframe\n",
    "  df_norm = df.copy()\n",
    "  # apply min-max scaling\n",
    "  for column in numeric_columns:\n",
    "      df_norm[column] = (df_norm[column] - df_norm[column].min()) / (df_norm[column].max() - df_norm[column].min())\n",
    "      \n",
    "  return df_norm\n"
   ]
  },
  {
   "cell_type": "code",
   "execution_count": 48,
   "metadata": {},
   "outputs": [
    {
     "name": "stdout",
     "output_type": "stream",
     "text": [
      "------- WITH UNDERSAMPLING -------\n",
      "Best: 0.909398 using {'classification__C': 0.1, 'classification__gamma': 0.1, 'classification__kernel': 'rbf', 'under__sampling_strategy': 0.5}\n",
      "----------------- Metrics: -----------------\n",
      "Mean Fit Time: 0.04009893866947719\n",
      "Mean Accuracy Score: 0.8226840062111802\n",
      "Mean Precision Score: 0.3468148473748456\n",
      "Mean Recall Score: 0.4609484126984127\n",
      "Mean Roc-Auc Score: 0.8555900699168556\n",
      "Mean F1 Score: 0.34457450016316465\n"
     ]
    },
    {
     "data": {
      "image/png": "[encoded data removed]",
      "text/plain": [
       "<Figure size 432x288 with 1 Axes>"
      ]
     },
     "metadata": {
      "needs_background": "light"
     },
     "output_type": "display_data"
    },
    {
     "data": {
      "image/png": "[encoded data removed]",
      "text/plain": [
       "<Figure size 432x288 with 1 Axes>"
      ]
     },
     "metadata": {
      "needs_background": "light"
     },
     "output_type": "display_data"
    }
   ],
   "source": [
    "# https://towardsdatascience.com/support-vector-machine-introduction-to-machine-learning-algorithms-934a444fca47\n",
    "\n",
    "# Load data\n",
    "numeric_features = list(X_train.select_dtypes(include=['int64', 'float64']))\n",
    "\n",
    "if SAMPLING: \n",
    "  [X_train, X_test, X_test_pred, y_train, y_test] = load_data() \n",
    "  X_test = min_max_scaling(X_test, numeric_features)\n",
    "else:\n",
    "  [X_train, X_test_pred, y_train] = load_data()\n",
    "\n",
    "X_train = min_max_scaling(X_train, numeric_features)\n",
    "\n",
    "# With Undersampling\n",
    "print(\"------- WITH UNDERSAMPLING -------\")\n",
    "pipeline = Pipeline([('under', RandomUnderSampler(random_state=0)), ('classification', SVC(probability=True, random_state=0))])\n",
    "\n",
    "param_grid = {'under__sampling_strategy': [0.2, 0.25, 0.5, 0.75, 0.9, 0.99, 'majority'],\n",
    "            'classification__C': [0.1, 1, 10, 100, 1000],\n",
    "            'classification__gamma': [1, 0.1, 0.01, 0.001, 0.0001],\n",
    "            'classification__kernel': ['linear', 'poly', 'rbf', 'sigmoid']}\n",
    "\n",
    "results_df = run_model(pipeline, param_grid, X_train, y_train, X_test_pred, \"SVM_Undersampling\", X_test=X_test, y_test=y_test)\n",
    "results_df.to_csv(\"./results/SVMUndersampling.csv\", index=None)\n"
   ]
  },
  {
   "cell_type": "code",
   "execution_count": null,
   "metadata": {},
   "outputs": [
    {
     "name": "stdout",
     "output_type": "stream",
     "text": [
      "------- WITHOUT OVERSAMPLING & UNDERSAMPLING -------\n",
      "Best: 0.868979 using {'classification__C': 10, 'classification__gamma': 0.1, 'classification__kernel': 'rbf'}\n",
      "----------------- Metrics: -----------------\n",
      "Mean Fit Time: 0.04450844717025757\n",
      "Mean Accuracy Score: 0.7263565188172043\n",
      "Mean Precision Score: 0.3370589583655258\n",
      "Mean Recall Score: 0.7957333333333333\n",
      "Mean Roc-Auc Score: 0.8384342813051147\n",
      "Mean F1 Score: 0.45714686109051716\n"
     ]
    },
    {
     "data": {
      "image/png": "[encoded data removed]",
      "text/plain": [
       "<Figure size 432x288 with 1 Axes>"
      ]
     },
     "metadata": {
      "needs_background": "light"
     },
     "output_type": "display_data"
    },
    {
     "data": {
      "image/png": "[encoded data removed]",
      "text/plain": [
       "<Figure size 432x288 with 1 Axes>"
      ]
     },
     "metadata": {
      "needs_background": "light"
     },
     "output_type": "display_data"
    }
   ],
   "source": [
    "# Without Oversampling & Undersampling\n",
    "print(\"------- WITHOUT OVERSAMPLING & UNDERSAMPLING -------\")\n",
    "\n",
    "clf = Pipeline([('classification', SVC(probability=True, random_state=0))])\n",
    "\n",
    "param_grid = {'classification__C': [0.1, 1, 10, 100, 1000],\n",
    "              'classification__gamma': [1, 0.1, 0.01, 0.001, 0.0001],\n",
    "              'classification__kernel': ['linear', 'poly', 'rbf', 'sigmoid']}\n",
    "\n",
    "\n",
    "results_df = run_model(pipeline, param_grid, X_train, y_train, X_test_pred, \"SVM\", X_test=X_test, y_test=y_test)\n",
    "results_df.to_csv(\"./results/SVM.csv\", index=None)"
   ]
  },
  {
   "cell_type": "code",
   "execution_count": null,
   "metadata": {},
   "outputs": [
    {
     "name": "stdout",
     "output_type": "stream",
     "text": [
      "------- WITH OVERSAMPLING -------\n",
      "Best: 0.891966 using {'classification__C': 0.1, 'classification__gamma': 1, 'classification__kernel': 'rbf', 'smote__sampling_strategy': 0.375}\n",
      "----------------- Metrics: -----------------\n",
      "Mean Fit Time: 0.20916470877329507\n",
      "Mean Accuracy Score: 0.8477332549283154\n",
      "Mean Precision Score: 0.3920610340231064\n",
      "Mean Recall Score: 0.461675\n",
      "Mean Roc-Auc Score: 0.8507391754850089\n",
      "Mean F1 Score: 0.37545020695050874\n"
     ]
    },
    {
     "data": {
      "image/png": "[encoded data removed]",
      "text/plain": [
       "<Figure size 432x288 with 1 Axes>"
      ]
     },
     "metadata": {
      "needs_background": "light"
     },
     "output_type": "display_data"
    },
    {
     "data": {
      "image/png": "[encoded data removed]",
      "text/plain": [
       "<Figure size 432x288 with 1 Axes>"
      ]
     },
     "metadata": {
      "needs_background": "light"
     },
     "output_type": "display_data"
    }
   ],
   "source": [
    "# With Oversampling\n",
    "print(\"------- WITH OVERSAMPLING -------\")\n",
    "pipeline = Pipeline([('smote', SMOTE(random_state=0)), ('classification', SVC(probability=True, random_state=0))])\n",
    "\n",
    "weights = list(np.linspace(0.2, 0.9, 5)) + ['minority']\n",
    "param_grid['smote__sampling_strategy'] = weights\n",
    "\n",
    "results_df = run_model(pipeline, param_grid, X_train, y_train, X_test_pred, \"SVM_Oversampling\", X_test=X_test, y_test=y_test)\n",
    "results_df.to_csv(\"./results/SVMWithSMOTE.csv\", index=None)"
   ]
  },
  {
   "cell_type": "markdown",
   "metadata": {},
   "source": [
    "# Light GBM"
   ]
  },
  {
   "cell_type": "code",
   "execution_count": 47,
   "metadata": {},
   "outputs": [
    {
     "name": "stdout",
     "output_type": "stream",
     "text": [
      "------- WITH UNDERSAMPLING -------\n",
      "Best: 0.880357 using {'classifier__learning_rate': 0.01, 'classifier__max_depth': 25, 'classifier__n_estimators': 110, 'classifier__num_leaves': 10, 'under__sampling_strategy': 0.2}\n",
      "----------------- Metrics: -----------------\n",
      "Mean Fit Time: 0.06725912456527168\n",
      "Mean Accuracy Score: 0.8153834541062802\n",
      "Mean Precision Score: 0.40653275014896745\n",
      "Mean Recall Score: 0.5577932098765432\n",
      "Mean Roc-Auc Score: 0.8436233741181658\n",
      "Mean F1 Score: 0.4182781891581771\n"
     ]
    },
    {
     "data": {
      "image/png": "[encoded data removed]",
      "text/plain": [
       "<Figure size 432x288 with 1 Axes>"
      ]
     },
     "metadata": {
      "needs_background": "light"
     },
     "output_type": "display_data"
    },
    {
     "data": {
      "image/png": "[encoded data removed]",
      "text/plain": [
       "<Figure size 432x288 with 1 Axes>"
      ]
     },
     "metadata": {
      "needs_background": "light"
     },
     "output_type": "display_data"
    }
   ],
   "source": [
    "# Load data\n",
    "if SAMPLING: \n",
    "  [X_train, X_test, X_test_pred, y_train, y_test] = load_data() \n",
    "  X_test = encode_df(X_test)\n",
    "else:\n",
    "  [X_train, X_test_pred, y_train] = load_data()\n",
    "\n",
    "# With Undersampling\n",
    "print(\"------- WITH UNDERSAMPLING -------\")\n",
    "pipeline = Pipeline([('under', RandomUnderSampler(random_state=0)), ('classifier', lgb.LGBMClassifier(random_state=0))])\n",
    "\n",
    "param_grid = {'under__sampling_strategy': [0.2, 0.25, 0.5, 0.75, 0.9, 'majority'],\n",
    "              'classifier__max_depth': [25, 50, 75],\n",
    "              'classifier__learning_rate' : [0.01, 0.05, 0.1],\n",
    "              'classifier__num_leaves': [int(x) for x in range(10, 100, 50)],\n",
    "              'classifier__n_estimators': [int(x) for x in range(10, 200, 50)],\n",
    "             }\n",
    "\n",
    "results_df = run_model(pipeline, param_grid, X_train, y_train, X_test_pred, \"LightGBM_Undersampling\", X_test=X_test, y_test=y_test)\n",
    "results_df.to_csv(\"./results/lightGBMUndersampling.csv\", index=None)"
   ]
  },
  {
   "cell_type": "code",
   "execution_count": null,
   "metadata": {},
   "outputs": [
    {
     "name": "stdout",
     "output_type": "stream",
     "text": [
      "------- WITHOUT OVERSAMPLING & UNDERSAMPLING -------\n",
      "Best: 0.885935 using {'classifier__learning_rate': 0.1, 'classifier__max_depth': 25, 'classifier__n_estimators': 10, 'classifier__num_leaves': 52}\n",
      "----------------- Metrics: -----------------\n",
      "Mean Fit Time: 0.06899740320664866\n",
      "Mean Accuracy Score: 0.8923261088709677\n",
      "Mean Precision Score: 0.5173578042328042\n",
      "Mean Recall Score: 0.2827777777777778\n",
      "Mean Roc-Auc Score: 0.8666468713256907\n",
      "Mean F1 Score: 0.345015532307199\n"
     ]
    },
    {
     "data": {
      "image/png": "[encoded data removed]",
      "text/plain": [
       "<Figure size 432x288 with 1 Axes>"
      ]
     },
     "metadata": {
      "needs_background": "light"
     },
     "output_type": "display_data"
    },
    {
     "data": {
      "image/png": "[encoded data removed]",
      "text/plain": [
       "<Figure size 432x288 with 1 Axes>"
      ]
     },
     "metadata": {
      "needs_background": "light"
     },
     "output_type": "display_data"
    }
   ],
   "source": [
    "# Without Oversampling & Undersampling\n",
    "print(\"------- WITHOUT OVERSAMPLING & UNDERSAMPLING -------\")\n",
    "pipeline = Pipeline([('classifier', lgb.LGBMClassifier(random_state=0))])\n",
    "\n",
    "param_grid = {'classifier__max_depth': [25, 50, 75],\n",
    "              'classifier__learning_rate' : [0.01, 0.05, 0.1],\n",
    "              'classifier__num_leaves': [int(x) for x in range(2, 100, 50)],\n",
    "              'classifier__n_estimators': [int(x) for x in range(10, 200, 50)],\n",
    "             }\n",
    "\n",
    "results_df = run_model(pipeline, param_grid, X_train, y_train, X_test_pred, \"LightGBM\", X_test=X_test, y_test=y_test)\n",
    "results_df.to_csv(\"./results/lightGBM.csv\", index=None)"
   ]
  },
  {
   "cell_type": "code",
   "execution_count": null,
   "metadata": {},
   "outputs": [
    {
     "name": "stdout",
     "output_type": "stream",
     "text": [
      "------- WITH OVERSAMPLING -------\n",
      "Best: 0.905589 using {'classifier__learning_rate': 0.01, 'classifier__max_depth': 25, 'classifier__n_estimators': 160, 'classifier__num_leaves': 52, 'smote__sampling_strategy': 0.9}\n",
      "----------------- Metrics: -----------------\n",
      "Mean Fit Time: 0.11328534299944654\n",
      "Mean Accuracy Score: 0.884348398297491\n",
      "Mean Precision Score: 0.6086296696809844\n",
      "Mean Recall Score: 0.48842592592592593\n",
      "Mean Roc-Auc Score: 0.8623934220679013\n",
      "Mean F1 Score: 0.49647856765060927\n"
     ]
    },
    {
     "data": {
      "image/png": "[encoded data removed]",
      "text/plain": [
       "<Figure size 432x288 with 1 Axes>"
      ]
     },
     "metadata": {
      "needs_background": "light"
     },
     "output_type": "display_data"
    },
    {
     "data": {
      "image/png": "[encoded data removed]",
      "text/plain": [
       "<Figure size 432x288 with 1 Axes>"
      ]
     },
     "metadata": {
      "needs_background": "light"
     },
     "output_type": "display_data"
    }
   ],
   "source": [
    "# With Oversampling\n",
    "print(\"------- WITH OVERSAMPLING -------\")\n",
    "pipeline = Pipeline([('smote', SMOTE(random_state=0)), ('classifier', lgb.LGBMClassifier(random_state=0))])\n",
    "\n",
    "weights = list(np.linspace(0.2, 0.9, 5)) + ['minority']\n",
    "param_grid['smote__sampling_strategy'] = weights\n",
    "\n",
    "results_df = run_model(pipeline, param_grid, X_train, y_train, X_test_pred, \"LightGBM_Oversampling\", X_test=X_test, y_test=y_test)\n",
    "results_df.to_csv(\"./results/lightGBMSMOTE.csv\", index=None)"
   ]
  },
  {
   "cell_type": "markdown",
   "metadata": {},
   "source": [
    "# Barplots of all algorithms"
   ]
  },
  {
   "cell_type": "code",
   "execution_count": null,
   "metadata": {},
   "outputs": [],
   "source": [
    "def algorithms_comparison_plot(algorithms, title, colors, selectedMetric):\n",
    "  values = [metrics[alg][selectedMetric] for alg in algorithms]\n",
    "\n",
    "  fig = plt.figure()\n",
    "\n",
    "  if len(colors) == 3:\n",
    "    ax = fig.add_axes([0,0,1.25,1])\n",
    "  else:\n",
    "    ax = fig.add_axes([0,0,1.75,1])\n",
    "\n",
    "  ax.bar(algorithms, values, color=colors)\n",
    "  plt.xlabel(\"\\n\\n\" + title, fontdict={\"weight\": \"bold\"})\n",
    "  plt.ylabel(\"\\n\\nValue\", fontdict={\"weight\": \"bold\"})\n",
    "  plt.show()"
   ]
  },
  {
   "cell_type": "markdown",
   "metadata": {},
   "source": [
    "# Logistic Regression"
   ]
  },
  {
   "cell_type": "markdown",
   "metadata": {},
   "source": [
    "### F1 Measure"
   ]
  },
  {
   "cell_type": "code",
   "execution_count": null,
   "metadata": {},
   "outputs": [
    {
     "data": {
      "image/png": "[encoded data removed]",
      "text/plain": [
       "<Figure size 432x288 with 1 Axes>"
      ]
     },
     "metadata": {
      "needs_background": "light"
     },
     "output_type": "display_data"
    }
   ],
   "source": [
    "algorithms_comparison_plot((\"LogisticRegression\", \"LogisticRegression_Oversampling\", \"LogisticRegression_Undersampling\"), \\\n",
    "  \"F1 Measure - Logistic Regression\", ['blue', 'red', 'black'], \"f1\")"
   ]
  },
  {
   "cell_type": "markdown",
   "metadata": {},
   "source": [
    "### Accuracy"
   ]
  },
  {
   "cell_type": "code",
   "execution_count": null,
   "metadata": {},
   "outputs": [
    {
     "data": {
      "image/png": "[encoded data removed]",
      "text/plain": [
       "<Figure size 432x288 with 1 Axes>"
      ]
     },
     "metadata": {
      "needs_background": "light"
     },
     "output_type": "display_data"
    }
   ],
   "source": [
    "algorithms_comparison_plot((\"LogisticRegression\", \"LogisticRegression_Oversampling\", \"LogisticRegression_Undersampling\"), \\\n",
    "  \"Accuracy - Logistic Regression\", ['blue', 'red', 'black'], \"accuracy\")"
   ]
  },
  {
   "cell_type": "markdown",
   "metadata": {},
   "source": [
    "### Precision"
   ]
  },
  {
   "cell_type": "code",
   "execution_count": null,
   "metadata": {},
   "outputs": [
    {
     "data": {
      "image/png": "[encoded data removed]",
      "text/plain": [
       "<Figure size 432x288 with 1 Axes>"
      ]
     },
     "metadata": {
      "needs_background": "light"
     },
     "output_type": "display_data"
    }
   ],
   "source": [
    "algorithms_comparison_plot((\"LogisticRegression\", \"LogisticRegression_Oversampling\", \"LogisticRegression_Undersampling\"), \\\n",
    "  \"Precision - Logistic Regression\", ['blue', 'red', 'black'], \"precision\")"
   ]
  },
  {
   "cell_type": "markdown",
   "metadata": {},
   "source": [
    "### Recall"
   ]
  },
  {
   "cell_type": "code",
   "execution_count": null,
   "metadata": {},
   "outputs": [
    {
     "data": {
      "image/png": "[encoded data removed]",
      "text/plain": [
       "<Figure size 432x288 with 1 Axes>"
      ]
     },
     "metadata": {
      "needs_background": "light"
     },
     "output_type": "display_data"
    }
   ],
   "source": [
    "algorithms_comparison_plot((\"LogisticRegression\", \"LogisticRegression_Oversampling\", \"LogisticRegression_Undersampling\"), \\\n",
    "  \"Recall - Logistic Regression\", ['blue', 'red', 'black'], \"recall\")"
   ]
  },
  {
   "cell_type": "markdown",
   "metadata": {},
   "source": [
    "### ROC-AUC"
   ]
  },
  {
   "cell_type": "code",
   "execution_count": null,
   "metadata": {},
   "outputs": [
    {
     "data": {
      "image/png": "[encoded data removed]",
      "text/plain": [
       "<Figure size 432x288 with 1 Axes>"
      ]
     },
     "metadata": {
      "needs_background": "light"
     },
     "output_type": "display_data"
    }
   ],
   "source": [
    "algorithms_comparison_plot((\"LogisticRegression\", \"LogisticRegression_Oversampling\", \"LogisticRegression_Undersampling\"), \\\n",
    "  \"ROC-AUC - Logistic Regression\", ['blue', 'red', 'black'], \"roc_auc\")"
   ]
  },
  {
   "cell_type": "markdown",
   "metadata": {},
   "source": [
    "# Random Forest"
   ]
  },
  {
   "cell_type": "markdown",
   "metadata": {},
   "source": [
    "### F1 Measure"
   ]
  },
  {
   "cell_type": "code",
   "execution_count": null,
   "metadata": {},
   "outputs": [
    {
     "data": {
      "image/png": "[encoded data removed]",
      "text/plain": [
       "<Figure size 432x288 with 1 Axes>"
      ]
     },
     "metadata": {
      "needs_background": "light"
     },
     "output_type": "display_data"
    }
   ],
   "source": [
    "algorithms_comparison_plot((\"RandomForest\", \"RandomForest_Oversampling\", \"RandomForest_Undersampling\"), \\\n",
    "  \"F1 Measure - Random Forest\", ['blue', 'red', 'black'], \"f1\")"
   ]
  },
  {
   "cell_type": "markdown",
   "metadata": {},
   "source": [
    "### Accuracy"
   ]
  },
  {
   "cell_type": "code",
   "execution_count": null,
   "metadata": {},
   "outputs": [
    {
     "data": {
      "image/png": "[encoded data removed]",
      "text/plain": [
       "<Figure size 432x288 with 1 Axes>"
      ]
     },
     "metadata": {
      "needs_background": "light"
     },
     "output_type": "display_data"
    }
   ],
   "source": [
    "algorithms_comparison_plot((\"RandomForest\", \"RandomForest_Oversampling\", \"RandomForest_Undersampling\"), \\\n",
    "  \"Accuracy - Random Forest\", ['blue', 'red', 'black'], \"accuracy\")"
   ]
  },
  {
   "cell_type": "markdown",
   "metadata": {},
   "source": [
    "### Precision"
   ]
  },
  {
   "cell_type": "code",
   "execution_count": null,
   "metadata": {},
   "outputs": [
    {
     "data": {
      "image/png": "[encoded data removed]",
      "text/plain": [
       "<Figure size 432x288 with 1 Axes>"
      ]
     },
     "metadata": {
      "needs_background": "light"
     },
     "output_type": "display_data"
    }
   ],
   "source": [
    "algorithms_comparison_plot((\"RandomForest\", \"RandomForest_Oversampling\", \"RandomForest_Undersampling\"), \\\n",
    "  \"Precision - Random Forest\", ['blue', 'red', 'black'], \"precision\")"
   ]
  },
  {
   "cell_type": "markdown",
   "metadata": {},
   "source": [
    "### Recall"
   ]
  },
  {
   "cell_type": "code",
   "execution_count": null,
   "metadata": {},
   "outputs": [
    {
     "data": {
      "image/png": "[encoded data removed]",
      "text/plain": [
       "<Figure size 432x288 with 1 Axes>"
      ]
     },
     "metadata": {
      "needs_background": "light"
     },
     "output_type": "display_data"
    }
   ],
   "source": [
    "algorithms_comparison_plot((\"RandomForest\", \"RandomForest_Oversampling\", \"RandomForest_Undersampling\"), \\\n",
    "  \"Recall - Random Forest\", ['blue', 'red', 'black'], \"recall\")"
   ]
  },
  {
   "cell_type": "markdown",
   "metadata": {},
   "source": [
    "### ROC-AUC"
   ]
  },
  {
   "cell_type": "code",
   "execution_count": null,
   "metadata": {},
   "outputs": [
    {
     "data": {
      "image/png": "[encoded data removed]",
      "text/plain": [
       "<Figure size 432x288 with 1 Axes>"
      ]
     },
     "metadata": {
      "needs_background": "light"
     },
     "output_type": "display_data"
    }
   ],
   "source": [
    "algorithms_comparison_plot((\"RandomForest\", \"RandomForest_Oversampling\", \"RandomForest_Undersampling\"), \\\n",
    "  \"ROC-AUC - Random Forest\", ['blue', 'red', 'black'], \"roc_auc\")"
   ]
  },
  {
   "cell_type": "markdown",
   "metadata": {},
   "source": [
    "# SVM"
   ]
  },
  {
   "cell_type": "markdown",
   "metadata": {},
   "source": [
    "### F1 Measure"
   ]
  },
  {
   "cell_type": "code",
   "execution_count": null,
   "metadata": {},
   "outputs": [
    {
     "data": {
      "image/png": "[encoded data removed]",
      "text/plain": [
       "<Figure size 432x288 with 1 Axes>"
      ]
     },
     "metadata": {
      "needs_background": "light"
     },
     "output_type": "display_data"
    }
   ],
   "source": [
    "algorithms_comparison_plot((\"SVM\", \"SVM_Oversampling\", \"SVM_Undersampling\"), \\\n",
    "  \"F1 Measure - SVM\", ['blue', 'red', 'black'], \"f1\")"
   ]
  },
  {
   "cell_type": "markdown",
   "metadata": {},
   "source": [
    "### Accuracy"
   ]
  },
  {
   "cell_type": "code",
   "execution_count": null,
   "metadata": {},
   "outputs": [
    {
     "data": {
      "image/png": "[encoded data removed]",
      "text/plain": [
       "<Figure size 432x288 with 1 Axes>"
      ]
     },
     "metadata": {
      "needs_background": "light"
     },
     "output_type": "display_data"
    }
   ],
   "source": [
    "algorithms_comparison_plot((\"SVM\", \"SVM_Oversampling\", \"SVM_Undersampling\"), \\\n",
    "  \"Accuracy - SVM\", ['blue', 'red', 'black'], \"accuracy\")"
   ]
  },
  {
   "cell_type": "markdown",
   "metadata": {},
   "source": [
    "### Precision"
   ]
  },
  {
   "cell_type": "code",
   "execution_count": null,
   "metadata": {},
   "outputs": [
    {
     "data": {
      "image/png": "[encoded data removed]",
      "text/plain": [
       "<Figure size 432x288 with 1 Axes>"
      ]
     },
     "metadata": {
      "needs_background": "light"
     },
     "output_type": "display_data"
    }
   ],
   "source": [
    "algorithms_comparison_plot((\"SVM\", \"SVM_Oversampling\", \"SVM_Undersampling\"), \\\n",
    "  \"Precision - SVM\", ['blue', 'red', 'black'], \"precision\")"
   ]
  },
  {
   "cell_type": "markdown",
   "metadata": {},
   "source": [
    "### Recall"
   ]
  },
  {
   "cell_type": "code",
   "execution_count": null,
   "metadata": {},
   "outputs": [
    {
     "data": {
      "image/png": "[encoded data removed]",
      "text/plain": [
       "<Figure size 432x288 with 1 Axes>"
      ]
     },
     "metadata": {
      "needs_background": "light"
     },
     "output_type": "display_data"
    }
   ],
   "source": [
    "algorithms_comparison_plot((\"SVM\", \"SVM_Oversampling\", \"SVM_Undersampling\"), \\\n",
    "  \"Recall - SVM\", ['blue', 'red', 'black'], \"recall\")"
   ]
  },
  {
   "cell_type": "markdown",
   "metadata": {},
   "source": [
    "### ROC-AUC"
   ]
  },
  {
   "cell_type": "code",
   "execution_count": null,
   "metadata": {},
   "outputs": [
    {
     "data": {
      "image/png": "[encoded data removed]",
      "text/plain": [
       "<Figure size 432x288 with 1 Axes>"
      ]
     },
     "metadata": {
      "needs_background": "light"
     },
     "output_type": "display_data"
    }
   ],
   "source": [
    "algorithms_comparison_plot((\"SVM\", \"SVM_Oversampling\", \"SVM_Undersampling\"), \\\n",
    "  \"ROC-AUC - SVM\", ['blue', 'red', 'black'], \"roc_auc\")"
   ]
  },
  {
   "cell_type": "markdown",
   "metadata": {},
   "source": [
    "# Light GBM"
   ]
  },
  {
   "cell_type": "markdown",
   "metadata": {},
   "source": [
    "### F1 Measure"
   ]
  },
  {
   "cell_type": "code",
   "execution_count": null,
   "metadata": {},
   "outputs": [
    {
     "data": {
      "image/png": "[encoded data removed]",
      "text/plain": [
       "<Figure size 432x288 with 1 Axes>"
      ]
     },
     "metadata": {
      "needs_background": "light"
     },
     "output_type": "display_data"
    }
   ],
   "source": [
    "algorithms_comparison_plot((\"LightGBM\", \"LightGBM_Oversampling\", \"LightGBM_Undersampling\"), \\\n",
    "  \"F1 Measure - Light GBM\", ['blue', 'red', 'black'], \"f1\")"
   ]
  },
  {
   "cell_type": "markdown",
   "metadata": {},
   "source": [
    "### Accuracy"
   ]
  },
  {
   "cell_type": "code",
   "execution_count": null,
   "metadata": {},
   "outputs": [
    {
     "data": {
      "image/png": "[encoded data removed]",
      "text/plain": [
       "<Figure size 432x288 with 1 Axes>"
      ]
     },
     "metadata": {
      "needs_background": "light"
     },
     "output_type": "display_data"
    }
   ],
   "source": [
    "algorithms_comparison_plot((\"LightGBM\", \"LightGBM_Oversampling\", \"LightGBM_Undersampling\"), \\\n",
    "  \"Accuracy - Light GBM\", ['blue', 'red', 'black'], \"accuracy\")"
   ]
  },
  {
   "cell_type": "markdown",
   "metadata": {},
   "source": [
    "### Precision"
   ]
  },
  {
   "cell_type": "code",
   "execution_count": null,
   "metadata": {},
   "outputs": [
    {
     "data": {
      "image/png": "[encoded data removed]",
      "text/plain": [
       "<Figure size 432x288 with 1 Axes>"
      ]
     },
     "metadata": {
      "needs_background": "light"
     },
     "output_type": "display_data"
    }
   ],
   "source": [
    "algorithms_comparison_plot((\"LightGBM\", \"LightGBM_Oversampling\", \"LightGBM_Undersampling\"), \\\n",
    "  \"Precision - Light GBM\", ['blue', 'red', 'black'], \"precision\")"
   ]
  },
  {
   "cell_type": "markdown",
   "metadata": {},
   "source": [
    "### Recall"
   ]
  },
  {
   "cell_type": "code",
   "execution_count": null,
   "metadata": {},
   "outputs": [
    {
     "data": {
      "image/png": "[encoded data removed]",
      "text/plain": [
       "<Figure size 432x288 with 1 Axes>"
      ]
     },
     "metadata": {
      "needs_background": "light"
     },
     "output_type": "display_data"
    }
   ],
   "source": [
    "algorithms_comparison_plot((\"LightGBM\", \"LightGBM_Oversampling\", \"LightGBM_Undersampling\"), \\\n",
    "  \"Recall - Light GBM\", ['blue', 'red', 'black'], \"recall\")"
   ]
  },
  {
   "cell_type": "markdown",
   "metadata": {},
   "source": [
    "### ROC-AUC"
   ]
  },
  {
   "cell_type": "code",
   "execution_count": null,
   "metadata": {},
   "outputs": [
    {
     "data": {
      "image/png": "[encoded data removed]",
      "text/plain": [
       "<Figure size 432x288 with 1 Axes>"
      ]
     },
     "metadata": {
      "needs_background": "light"
     },
     "output_type": "display_data"
    }
   ],
   "source": [
    "algorithms_comparison_plot((\"LightGBM\", \"LightGBM_Oversampling\", \"LightGBM_Undersampling\"), \\\n",
    "  \"ROC-AUC - Light GBM\", ['blue', 'red', 'black'], \"roc_auc\")"
   ]
  },
  {
   "cell_type": "markdown",
   "metadata": {},
   "source": [
    "# Comparisons between best algorithms"
   ]
  },
  {
   "cell_type": "code",
   "execution_count": null,
   "metadata": {},
   "outputs": [],
   "source": [
    "best_algorithms = (\"LogisticRegression_Oversampling\", \"RandomForest_Oversampling\", \"SVM_Undersampling\", \"LightGBM_Oversampling\")\n",
    "best_colors = ['blue', 'red', 'black', 'green']"
   ]
  },
  {
   "cell_type": "markdown",
   "metadata": {},
   "source": [
    "### Fit time"
   ]
  },
  {
   "cell_type": "code",
   "execution_count": null,
   "metadata": {},
   "outputs": [
    {
     "data": {
      "image/png": "[encoded data removed]",
      "text/plain": [
       "<Figure size 432x288 with 1 Axes>"
      ]
     },
     "metadata": {
      "needs_background": "light"
     },
     "output_type": "display_data"
    }
   ],
   "source": [
    "algorithms_comparison_plot(best_algorithms, \"Fit Time - Best Algorithms\", best_colors, \"fit_time\")"
   ]
  },
  {
   "cell_type": "markdown",
   "metadata": {},
   "source": [
    "### F1 Measure"
   ]
  },
  {
   "cell_type": "code",
   "execution_count": null,
   "metadata": {},
   "outputs": [
    {
     "data": {
      "image/png": "[encoded data removed]",
      "text/plain": [
       "<Figure size 432x288 with 1 Axes>"
      ]
     },
     "metadata": {
      "needs_background": "light"
     },
     "output_type": "display_data"
    }
   ],
   "source": [
    "algorithms_comparison_plot(best_algorithms, \"F1 Measure - Best Algorithms\", best_colors, \"f1\")"
   ]
  },
  {
   "cell_type": "markdown",
   "metadata": {},
   "source": [
    "### Accuracy"
   ]
  },
  {
   "cell_type": "code",
   "execution_count": null,
   "metadata": {},
   "outputs": [
    {
     "data": {
      "image/png": "[encoded data removed]",
      "text/plain": [
       "<Figure size 432x288 with 1 Axes>"
      ]
     },
     "metadata": {
      "needs_background": "light"
     },
     "output_type": "display_data"
    }
   ],
   "source": [
    "algorithms_comparison_plot(best_algorithms, \"Accuracy - Best Algorithms\", best_colors, \"accuracy\")"
   ]
  },
  {
   "cell_type": "markdown",
   "metadata": {},
   "source": [
    "### Precision"
   ]
  },
  {
   "cell_type": "code",
   "execution_count": null,
   "metadata": {},
   "outputs": [
    {
     "data": {
      "image/png": "[encoded data removed]",
      "text/plain": [
       "<Figure size 432x288 with 1 Axes>"
      ]
     },
     "metadata": {
      "needs_background": "light"
     },
     "output_type": "display_data"
    }
   ],
   "source": [
    "algorithms_comparison_plot(best_algorithms, \"Precision - Best Algorithms\", best_colors, \"precision\")"
   ]
  },
  {
   "cell_type": "markdown",
   "metadata": {},
   "source": [
    "### Recall"
   ]
  },
  {
   "cell_type": "code",
   "execution_count": null,
   "metadata": {},
   "outputs": [
    {
     "data": {
      "image/png": "[encoded data removed]",
      "text/plain": [
       "<Figure size 432x288 with 1 Axes>"
      ]
     },
     "metadata": {
      "needs_background": "light"
     },
     "output_type": "display_data"
    }
   ],
   "source": [
    "algorithms_comparison_plot(best_algorithms, \"Recall - Best Algorithms\", best_colors, \"recall\")"
   ]
  },
  {
   "cell_type": "markdown",
   "metadata": {},
   "source": [
    "### ROC-AUC"
   ]
  },
  {
   "cell_type": "code",
   "execution_count": null,
   "metadata": {},
   "outputs": [
    {
     "data": {
      "image/png": "[encoded data removed]",
      "text/plain": [
       "<Figure size 432x288 with 1 Axes>"
      ]
     },
     "metadata": {
      "needs_background": "light"
     },
     "output_type": "display_data"
    }
   ],
   "source": [
    "algorithms_comparison_plot(best_algorithms, \"ROC-AUC - Best Algorithms\", best_colors, \"roc_auc\")"
   ]
  },
  {
   "cell_type": "markdown",
   "metadata": {},
   "source": [
    "# ROC Curve - Best Algorithms"
   ]
  },
  {
   "cell_type": "code",
   "execution_count": null,
   "metadata": {},
   "outputs": [
    {
     "data": {
      "image/png": "[encoded data removed]",
      "text/plain": [
       "<Figure size 432x288 with 1 Axes>"
      ]
     },
     "metadata": {
      "needs_background": "light"
     },
     "output_type": "display_data"
    }
   ],
   "source": [
    "ax = None\n",
    "for algorithm in best_algorithms:\n",
    "  [estimator, X_train_plot, y_train_plot] = plots_data[algorithm]\n",
    "  if ax is None:\n",
    "    fig = RocCurveDisplay.from_estimator(estimator, X_train_plot, y_train_plot, name=algorithm)\n",
    "  else:\n",
    "    fig = RocCurveDisplay.from_estimator(estimator, X_train_plot, y_train_plot, name=algorithm, ax = fig.ax_)\n",
    "  ax = fig.ax_\n",
    "\n",
    "fig.figure_.suptitle(\"ROC Curve - Best Algorithms\")\n",
    "plt.show() "
   ]
  },
  {
   "cell_type": "markdown",
   "metadata": {},
   "source": [
    "# P-R Plot - Best Algorithms"
   ]
  },
  {
   "cell_type": "code",
   "execution_count": null,
   "metadata": {},
   "outputs": [
    {
     "data": {
      "image/png": "[encoded data removed]",
      "text/plain": [
       "<Figure size 432x288 with 1 Axes>"
      ]
     },
     "metadata": {
      "needs_background": "light"
     },
     "output_type": "display_data"
    }
   ],
   "source": [
    "ax = None\n",
    "for algorithm in best_algorithms:\n",
    "  [estimator, X_train_plot, y_train_plot] = plots_data[algorithm]\n",
    "  if ax is None:\n",
    "    fig = PrecisionRecallDisplay.from_estimator(estimator, X_train_plot, y_train_plot, name=algorithm)\n",
    "  else:\n",
    "    fig = PrecisionRecallDisplay.from_estimator(estimator, X_train_plot, y_train_plot, name=algorithm, ax = fig.ax_)\n",
    "  ax = fig.ax_\n",
    "\n",
    "fig.figure_.suptitle(\"P-R Plot - Best Algorithms\")\n",
    "plt.show() "
   ]
  },
  {
   "cell_type": "markdown",
   "metadata": {},
   "source": [
    "# Descriptive Models (Visualization)\n",
    "\n",
    "`https://towardsdatascience.com pca-using-python-scikit-learn-e653f8989e60`\n",
    "\n",
    "- Use StandardScaler\n",
    "\n",
    "- Apply PCA algorithm"
   ]
  },
  {
   "cell_type": "code",
   "execution_count": null,
   "metadata": {},
   "outputs": [
    {
     "data": {
      "application/vnd.plotly.v1+json": {
       "config": {
        "plotlyServerURL": "https://plot.ly"
       },
       "data": [
        {
         "hovertemplate": "0=%{x}<br>1=%{y}<br>color=%{marker.color}<extra></extra>",
         "legendgroup": "",
         "marker": {
          "color": [
           1,
           0,
           0,
           0,
           0,
           0,
           1,
           0,
           0,
           0,
           0,
           0,
           0,
           0,
           0,
           0,
           0,
           1,
           0,
           0,
           0,
           0,
           0,
           0,
           0,
           0,
           1,
           0,
           0,
           0,
           0,
           0,
           0,
           0,
           0,
           0,
           0,
           0,
           1,
           0,
           0,
           0,
           0,
           0,
           0,
           0,
           1,
           0,
           0,
           0,
           0,
           0,
           0,
           0,
           0,
           1,
           0,
           0,
           0,
           1,
           0,
           0,
           0,
           0,
           0,
           1,
           0,
           0,
           0,
           1,
           0,
           1,
           0,
           0,
           0,
           0,
           0,
           0,
           0,
           0,
           0,
           0,
           0,
           0,
           0,
           0,
           0,
           0,
           0,
           0,
           1,
           1,
           0,
           0,
           0,
           0,
           0,
           0,
           0,
           0,
           0,
           0,
           0,
           0,
           0,
           0,
           1,
           1,
           0,
           0,
           0,
           0,
           0,
           0,
           0,
           0,
           0,
           0,
           1,
           1,
           0,
           0,
           1,
           0,
           0,
           0,
           0,
           1,
           0,
           0,
           1,
           0,
           0,
           0,
           1,
           0,
           0,
           1,
           1,
           0,
           0,
           0,
           0,
           0,
           0,
           0,
           0,
           0,
           0,
           1,
           0,
           0,
           1,
           0,
           0,
           0,
           0,
           0,
           0,
           0,
           0,
           0,
           0,
           0,
           0,
           0,
           0,
           0,
           0,
           0,
           0,
           0,
           0,
           0,
           0,
           0,
           0,
           0,
           0,
           0,
           0,
           0,
           0,
           0,
           0,
           0,
           1,
           0,
           0,
           0,
           1,
           0,
           0,
           0,
           0,
           0,
           0,
           0,
           0,
           0,
           0,
           0,
           0,
           0,
           0,
           0,
           0,
           0,
           1,
           0,
           1,
           1,
           0,
           0,
           1,
           0,
           0,
           0,
           0,
           0,
           0,
           1,
           0,
           1,
           0,
           1,
           0,
           1,
           1,
           0,
           1,
           0,
           0,
           0,
           1,
           0,
           0,
           0,
           0,
           0,
           0,
           0,
           0,
           0,
           0,
           0,
           0,
           0,
           0,
           0,
           0,
           0,
           0,
           0,
           0,
           0,
           0,
           0,
           0,
           0,
           0,
           0,
           0,
           0,
           0,
           0,
           0,
           1,
           0,
           1,
           0,
           1,
           0,
           0,
           0,
           0,
           0,
           0,
           0,
           0,
           1,
           0,
           0,
           0,
           0,
           0,
           0,
           0,
           0,
           0,
           0,
           0,
           0,
           0,
           0,
           0,
           0,
           0,
           0,
           0,
           0,
           0,
           0,
           0,
           0,
           0,
           0,
           0,
           0,
           0,
           0,
           0,
           1,
           0,
           0,
           0
          ],
          "coloraxis": "coloraxis",
          "symbol": "circle"
         },
         "mode": "markers",
         "name": "",
         "orientation": "v",
         "showlegend": false,
         "type": "scatter",
         "x": [
          3.0361370527366316,
          -0.001275501058221827,
          0.9697507474974818,
          -0.9618315923886022,
          -1.8221235172121775,
          0.21494515347870485,
          1.2736887028822808,
          0.7128607944778173,
          1.7431399623176853,
          -0.058114949802246366,
          -2.1421929442730283,
          1.1621183138934088,
          0.9745455665904529,
          0.22775390260454462,
          -0.708185022337886,
          0.2554931874425986,
          4.041888912573031,
          4.415982497179621,
          -1.476597409905043,
          -1.4840398626233866,
          0.651320985262199,
          1.3758917055525632,
          4.190539241008538,
          -0.09171292171127018,
          0.18215447698477716,
          -1.4801060932426822,
          -1.5694169847675006,
          4.809936077728537,
          -0.7663321320404141,
          5.656866092515911,
          -0.4181835602467128,
          0.46108937698943153,
          1.4651185094891095,
          0.4215961607395746,
          0.8493701953734423,
          0.28679424265841436,
          -1.3942023675302528,
          -1.6604139513126834,
          4.297594826547333,
          0.3967239441872264,
          3.394725941302476,
          0.038079781497503094,
          -0.41767156738882677,
          -1.6076476954041046,
          -4.214232284907253,
          0.36245294341648054,
          0.6373393734882679,
          -0.20268789559427788,
          1.1216648560309976,
          -0.5644706255660876,
          -1.1630246522111973,
          -1.647899185866963,
          2.3245031888188263,
          0.22701061430676697,
          -2.0685776494852828,
          1.5853727595947593,
          2.2071191754507136,
          0.28842988220973415,
          5.515042435663424,
          -1.4947280525726496,
          -2.1486372229537976,
          -1.1287842620945308,
          -2.0680021251951164,
          -0.29439861062338174,
          -1.4337362715620032,
          1.2389666524420564,
          -0.25394261129438817,
          -2.7152549473244854,
          -0.2868280584581098,
          -0.39451783969140547,
          -0.9184731198364681,
          1.5879677114574646,
          -2.349336221658703,
          -0.6125288481438101,
          0.00817927309153127,
          -1.6844869008950045,
          -0.37142918973164546,
          2.405791925142129,
          0.8161597486494756,
          -2.846177854054662,
          4.415019103525185,
          -1.8892777686222957,
          2.008349278036839,
          0.7553502801169818,
          -4.368529397978769,
          -0.47132377633123196,
          -1.7873538144404346,
          0.11565605480727587,
          0.012199620913697695,
          -2.0000318960654555,
          3.144630145618076,
          0.7672594557849082,
          0.24344329126021383,
          -4.376091447628484,
          -2.2571707664901135,
          1.1251151892736544,
          2.1001949236329445,
          0.4702083629502733,
          2.116871205575955,
          -0.5841426636038624,
          -1.9542235728562025,
          -0.8394266591380016,
          -0.5339110832472512,
          -0.3100646306809112,
          -1.0421431560869976,
          1.5488018866528714,
          1.5829135333596567,
          1.4254001310661497,
          -4.554030485157743,
          1.2967642448051162,
          -1.5669581377455397,
          0.494500976833428,
          -1.7610490039611773,
          -0.724135988813121,
          0.313457186065187,
          -0.9323491922763675,
          -0.3173984617293325,
          7.76027541120412,
          1.1838866423742607,
          1.4459972413493727,
          -0.27700062691119565,
          -3.8525184082649537,
          -0.08716523698255894,
          0.45381436183950496,
          -4.634555449332813,
          0.47246591208509314,
          -1.5204698598551178,
          0.7085786363184811,
          -2.0746593733130996,
          -2.8153879999975358,
          2.17169725279269,
          -1.5092816638853863,
          -1.1513971576512485,
          0.45341543163439463,
          1.697233876670459,
          -3.3403333038785967,
          -1.6135461394257402,
          0.449109239298104,
          1.0778559326422161,
          2.2884346387497834,
          -1.276534362134248,
          -1.0759889277788646,
          2.390442616299234,
          0.31686733243615883,
          2.711035603665887,
          -1.4243309353654043,
          -0.3380488557187976,
          -0.9156482393254709,
          -1.8164063137839679,
          3.20587500896752,
          0.61255776148122,
          -1.6452504045064988,
          1.3840934640849085,
          -1.3363782635299806,
          -2.1953962696954394,
          -1.1392938753385986,
          -1.7819140016712725,
          -2.9500525841133514,
          1.3079376967719472,
          -0.741612225667179,
          3.6443871421250935,
          -1.4860200811582127,
          0.030513895916264803,
          2.4486131707487506,
          -1.1793455365804015,
          -1.4193346785495533,
          1.2687479163496864,
          0.756156166182426,
          0.03628745793691604,
          -1.1382801751547125,
          -0.21095593810476437,
          1.4153217685187525,
          -0.9882193051175389,
          0.5647961095191325,
          -0.4274660422156437,
          -2.6487895128397096,
          -1.7950365213226709,
          -1.0386205185335766,
          2.420598854319076,
          -1.1115558326729997,
          -4.444056506546186,
          -5.135199423950854,
          2.5414142480091466,
          -0.7365734010954769,
          -2.6999438341251123,
          0.0781443950877031,
          0.28258439537174596,
          -1.8370946556145582,
          0.0938141513554088,
          -2.401714007221625,
          3.668297221066705,
          0.5217627463402145,
          -2.653482161099102,
          -2.642488492866949,
          -0.36924298405665873,
          -0.7820340824857518,
          -0.7635634727392134,
          -0.9653646755226918,
          1.0930525395564723,
          -2.0099449107995278,
          0.3338195491517941,
          -1.8203235256333288,
          -1.5941397956846135,
          0.37718645277584956,
          -1.9268072538697871,
          0.16495405190535817,
          -0.4687558694791234,
          0.9170586832538723,
          1.4339712717788233,
          -4.442870352165554,
          8.15736208209837,
          6.012018517539007,
          -1.7813939188147552,
          -0.5267409300655793,
          1.153186634332785,
          -0.6918857408755877,
          0.5157428753177128,
          0.08994726183835182,
          0.606947970773864,
          -4.406577415947029,
          -1.760174541639766,
          5.003085221781139,
          -5.105695677312667,
          2.010268951589489,
          -1.4738843219238398,
          0.6296103822898643,
          0.12125737865115625,
          -0.9210655965748202,
          1.5953973600308167,
          -1.7895194721442067,
          1.0828282816812769,
          -4.027527485176603,
          0.9884235760102846,
          -1.8699652652064576,
          5.955684366862343,
          -2.441343740019149,
          -0.06348074737497633,
          -2.0140252765671,
          1.45944206286733,
          -1.6775148918909466,
          2.9811288322894574,
          -0.17442559131833857,
          -1.0036404258257572,
          -2.606639534643696,
          2.479704772359708,
          0.5421727439619644,
          4.983674627748908,
          -1.7487506876641137,
          -0.6907197627945582,
          -1.2694682555616497,
          -0.512692666883277,
          -0.8532566134320079,
          -0.7019295347115005,
          -2.1595784122006663,
          2.7007203886554785,
          0.7874373723841502,
          -0.04072541422989677,
          -0.045720152779540266,
          4.410422938492218,
          -2.127002800438406,
          -3.293336468116563,
          -3.1139437655614297,
          -0.13292266689464952,
          0.5100738403280655,
          -0.6584404398408951,
          -0.9383358769071289,
          3.868805350327073,
          1.7227600675882775,
          0.5056205994871098,
          1.516839508526836,
          0.3428908042751527,
          4.989083750987781,
          7.378832824189869,
          -0.7073477244756224,
          0.04703839529840767,
          -1.2086629180035582,
          1.6590739335050029,
          2.2639249472503087,
          -2.277015332922228,
          2.5208546978625073,
          2.9400258238619617,
          1.556353457425103,
          -4.241611228372954,
          0.4700850094189326,
          1.4383962860445054,
          1.0713294361477623,
          3.8000969522349908,
          -2.036125257116605,
          -0.33547190449316056,
          4.399688891179394,
          0.8273231403185449,
          0.41491170311694725,
          -2.774031899559109,
          -2.765924614974889,
          1.4796355394932568,
          -2.8756282169060663,
          1.0925396162904268,
          -0.7383823631780427,
          0.40240929699496947,
          0.14096502897609667,
          1.0573033102798408,
          -2.223840593583598,
          1.5508927596010775,
          -0.4451970745074734,
          -1.9695684183741904,
          1.9424147690921238,
          -1.704244743858599,
          -3.5750848692826906,
          -0.30052454956575236,
          0.2762121426025607,
          2.2786596346957606,
          -0.3069080742114344,
          0.9576246035710166,
          0.7794680747739813,
          0.5123863119112515,
          -1.9821808108231433
         ],
         "xaxis": "x",
         "y": [
          -0.749613739244994,
          -1.695048686965662,
          2.3749419678521124,
          1.721597068950587,
          2.391247096449241,
          0.28560025397076266,
          -1.6919030957687644,
          -0.2858175904087721,
          3.34721738604834,
          -0.03803626619458686,
          2.088526966840423,
          -0.9479933224965088,
          1.775060489460732,
          -1.6562238478233904,
          2.674983728403662,
          2.4559408775379463,
          1.6792710138647786,
          -0.0941114916470846,
          1.539296078595453,
          1.5322548175475497,
          -2.206747129510255,
          -1.5344080715851118,
          2.2310642360642707,
          -1.94116365711609,
          0.2632634473734112,
          1.3432196407083574,
          -2.0268913261789385,
          0.9052744587502641,
          -2.0430291340291244,
          2.680250136161802,
          -0.5481048248670619,
          -1.8283026885844378,
          -1.0709517804978506,
          -0.3644590941937023,
          -1.8385592752425783,
          -1.802341417039265,
          1.180847672645829,
          1.803384805793764,
          -0.17758512529701587,
          0.696542298153436,
          -0.8259486449980064,
          1.6127447629796468,
          -1.6655737100748231,
          1.2732877087633447,
          1.6792423390946514,
          -1.801816218572699,
          -1.6547564316472976,
          0.20627894846106204,
          -0.8912604326863313,
          -0.75008367483194,
          1.6290956534196557,
          2.3328562713919387,
          -0.5542392337853685,
          -0.5388819981721954,
          1.894800976515424,
          2.1512789196479365,
          -1.084422239151464,
          0.18309177945842092,
          1.9278259461158613,
          -3.0763533376410566,
          1.5677162132057088,
          2.0637622434336196,
          1.7871729815667425,
          -0.028758645160846478,
          -2.4722325114192913,
          0.4428647709873688,
          -1.5887138249636368,
          2.0026648566637184,
          -0.30501751444382674,
          -1.9921062751184386,
          -2.210682865744208,
          -2.516100878133636,
          1.3855278182471629,
          -0.6272683466743909,
          -0.19023492500641445,
          -0.7952169433937731,
          -1.824555394069272,
          -0.8205085220506464,
          -1.7297472801533464,
          2.4804734323410504,
          0.7130967042147939,
          1.8366382128048007,
          5.540868522197556,
          -1.8774379583527947,
          0.7580002587863491,
          -1.5530744516428574,
          2.0525657784762967,
          -1.5344901916996871,
          0.12473516562077552,
          -0.7697365481826344,
          -0.918072097757239,
          -2.4949286949157488,
          -1.700625176469048,
          1.145040366429414,
          -1.265549519171405,
          -1.2558383054234283,
          -0.9617732471753992,
          0.21985817079832984,
          3.52870264369067,
          -1.1836092685009538,
          -2.3927394737443355,
          -0.3925903831018148,
          -2.093194362622997,
          -0.922802674841554,
          -0.05998534073709039,
          -1.0401706370508514,
          0.27521779773536925,
          -2.713413778891333,
          0.9114304366413197,
          -1.550893312723632,
          1.5580494046786246,
          -0.07565105751057159,
          1.9651567339483171,
          -0.2206430275784002,
          -1.6912174703878964,
          -1.7122536309027594,
          0.16468467541761933,
          3.6206193566831457,
          -2.3354279635276565,
          -1.1392801956370653,
          -1.7912354549221816,
          1.5151225206103336,
          1.105740313670472,
          -1.7641982501493938,
          1.2066618706833114,
          -1.6920880873074033,
          -0.29757883682713027,
          0.3304012611606115,
          1.9367833022565073,
          1.9069989757261323,
          -2.1203335613391796,
          -1.2473496965692787,
          -0.1789348117036323,
          -0.5066488049661618,
          -2.358914270680778,
          1.9121417805188803,
          -1.1642750505334167,
          0.2854102553655989,
          -2.9547587451842654,
          -0.8192821654185445,
          -0.14184323527078924,
          -0.38765229291543024,
          -0.5918848024549556,
          0.3288367435616454,
          0.10874856830845749,
          -2.1417527839093085,
          -1.7534935422822642,
          -2.278347636127693,
          1.7951579718342519,
          0.7123779826404335,
          -0.10184193093734067,
          -1.0021046911126974,
          -2.4734773663547385,
          -2.006925194788838,
          2.0543520313149957,
          -0.6235491676975019,
          -0.28093286501638115,
          0.6747796113963789,
          -1.2359758311617088,
          0.18556205839204698,
          1.2329092557049894,
          -2.3647372776342515,
          -0.012568207599124777,
          0.7903984312029206,
          0.05102591214421089,
          2.1026297729349013,
          -1.4773965345635305,
          -0.18176308317629766,
          -1.5993493838492296,
          2.27837169324543,
          1.334563312834302,
          0.5990187782099896,
          -0.8529983757138764,
          0.6030066666205938,
          2.167994890613614,
          2.135378806472983,
          1.2396460524602504,
          -2.199027070865572,
          -0.18285162395475368,
          -0.7433058224782304,
          1.1762384046305063,
          0.7392923293454425,
          5.099650251400664,
          1.6293964507136154,
          1.0182428669257912,
          0.10902498579746547,
          -2.4724383663489933,
          2.0521402064763623,
          -2.019540766451255,
          1.3742676786628842,
          1.5106201480178691,
          -0.494381965109889,
          1.742847343489987,
          1.5688969078129271,
          -1.421635325706017,
          -1.9045727048003227,
          -1.9240540657494174,
          -2.276261992656807,
          -1.1183080025810916,
          1.3963668150771458,
          -1.3738424596700995,
          2.0001041743567183,
          -2.306432010190382,
          -2.0195551653571155,
          -0.7699021533980078,
          0.23070614128156705,
          0.2719960929196688,
          -2.0971526131607354,
          -1.7749637999285646,
          2.542554078158425,
          2.307411218177776,
          1.3496611629201896,
          1.2263252222988243,
          0.31009935618895285,
          -3.1210327680126344,
          -2.2686794612189676,
          -1.967583355262452,
          0.23256385087885653,
          -1.7444322490103499,
          1.7995113695482894,
          1.4431234936793391,
          4.978977139396478,
          1.6052668275395876,
          -0.7619395373493426,
          1.872048333900398,
          -1.542330942309622,
          -1.4276937731346138,
          2.8212851075602248,
          2.4333451769531016,
          -1.2510400239994044,
          2.04431149166386,
          1.5004232124212173,
          -1.471692837446494,
          1.8549073157079226,
          0.7492441375630674,
          1.8159782929407287,
          -1.4451099462299928,
          1.8952902880206064,
          -1.7160907454528227,
          -2.437572629365216,
          4.520570670319062,
          -1.5883645937063047,
          1.859371987872608,
          -1.2384221300012226,
          -0.172136475700097,
          -0.32242637485831,
          4.712416093304821,
          -2.2040908833855677,
          0.02875244517568933,
          -1.0847187329084946,
          -0.6774626138442557,
          -0.056061122339732844,
          -1.9485928756811788,
          -2.6799680527787775,
          -1.6992681688273836,
          2.817065687046107,
          0.04673590337653806,
          0.04267873227824235,
          1.468642237690353,
          -1.3737627803226722,
          1.266942185143558,
          1.431483847323661,
          -2.00860205269769,
          -1.7835790569262255,
          1.0951727390690438,
          1.4381113001229273,
          -0.6310805518428357,
          -2.099890302720546,
          0.27674622094900836,
          -1.1322857251007379,
          -0.5809020976905299,
          5.619806805482597,
          3.545045721614489,
          1.474601356201265,
          -0.6185154865141365,
          -2.337547701830746,
          -1.4038311325827422,
          -1.7402461381874426,
          -0.7056279444992092,
          -0.4750641426750839,
          -0.1364559438707375,
          0.5101772768188738,
          1.466613476749777,
          0.16207645295587647,
          -1.788918625980972,
          0.6683267553501556,
          1.6314038813583271,
          1.9692319448321942,
          -1.7867510238181346,
          1.75210637591078,
          -1.4203940508911157,
          -1.9784416052784217,
          1.8788424204912302,
          1.881681814118036,
          -2.1218659353760114,
          1.4011836959321495,
          -1.587118765739816,
          -1.9621978629432848,
          -1.7034257865725686,
          0.3446141165432562,
          -1.1799588500210203,
          1.8677734699790893,
          0.3240300178728932,
          -0.750015824694134,
          1.8572424886758525,
          -0.022266873524416024,
          1.5643203918718773,
          1.3783178769586357,
          -1.017639559893214,
          1.8839047523797898,
          -0.1360239668787557,
          -0.29363477636990054,
          -1.2801839778862512,
          -0.17378032289191805,
          -1.8008301018505575,
          -0.786124837065984
         ],
         "yaxis": "y"
        }
       ],
       "layout": {
        "coloraxis": {
         "colorbar": {
          "title": {
           "text": "color"
          }
         },
         "colorscale": [
          [
           0,
           "#0d0887"
          ],
          [
           0.1111111111111111,
           "#46039f"
          ],
          [
           0.2222222222222222,
           "#7201a8"
          ],
          [
           0.3333333333333333,
           "#9c179e"
          ],
          [
           0.4444444444444444,
           "#bd3786"
          ],
          [
           0.5555555555555556,
           "#d8576b"
          ],
          [
           0.6666666666666666,
           "#ed7953"
          ],
          [
           0.7777777777777778,
           "#fb9f3a"
          ],
          [
           0.8888888888888888,
           "#fdca26"
          ],
          [
           1,
           "#f0f921"
          ]
         ]
        },
        "legend": {
         "tracegroupgap": 0
        },
        "margin": {
         "t": 60
        },
        "template": {
         "data": {
          "bar": [
           {
            "error_x": {
             "color": "#2a3f5f"
            },
            "error_y": {
             "color": "#2a3f5f"
            },
            "marker": {
             "line": {
              "color": "#E5ECF6",
              "width": 0.5
             },
             "pattern": {
              "fillmode": "overlay",
              "size": 10,
              "solidity": 0.2
             }
            },
            "type": "bar"
           }
          ],
          "barpolar": [
           {
            "marker": {
             "line": {
              "color": "#E5ECF6",
              "width": 0.5
             },
             "pattern": {
              "fillmode": "overlay",
              "size": 10,
              "solidity": 0.2
             }
            },
            "type": "barpolar"
           }
          ],
          "carpet": [
           {
            "aaxis": {
             "endlinecolor": "#2a3f5f",
             "gridcolor": "white",
             "linecolor": "white",
             "minorgridcolor": "white",
             "startlinecolor": "#2a3f5f"
            },
            "baxis": {
             "endlinecolor": "#2a3f5f",
             "gridcolor": "white",
             "linecolor": "white",
             "minorgridcolor": "white",
             "startlinecolor": "#2a3f5f"
            },
            "type": "carpet"
           }
          ],
          "choropleth": [
           {
            "colorbar": {
             "outlinewidth": 0,
             "ticks": ""
            },
            "type": "choropleth"
           }
          ],
          "contour": [
           {
            "colorbar": {
             "outlinewidth": 0,
             "ticks": ""
            },
            "colorscale": [
             [
              0,
              "#0d0887"
             ],
             [
              0.1111111111111111,
              "#46039f"
             ],
             [
              0.2222222222222222,
              "#7201a8"
             ],
             [
              0.3333333333333333,
              "#9c179e"
             ],
             [
              0.4444444444444444,
              "#bd3786"
             ],
             [
              0.5555555555555556,
              "#d8576b"
             ],
             [
              0.6666666666666666,
              "#ed7953"
             ],
             [
              0.7777777777777778,
              "#fb9f3a"
             ],
             [
              0.8888888888888888,
              "#fdca26"
             ],
             [
              1,
              "#f0f921"
             ]
            ],
            "type": "contour"
           }
          ],
          "contourcarpet": [
           {
            "colorbar": {
             "outlinewidth": 0,
             "ticks": ""
            },
            "type": "contourcarpet"
           }
          ],
          "heatmap": [
           {
            "colorbar": {
             "outlinewidth": 0,
             "ticks": ""
            },
            "colorscale": [
             [
              0,
              "#0d0887"
             ],
             [
              0.1111111111111111,
              "#46039f"
             ],
             [
              0.2222222222222222,
              "#7201a8"
             ],
             [
              0.3333333333333333,
              "#9c179e"
             ],
             [
              0.4444444444444444,
              "#bd3786"
             ],
             [
              0.5555555555555556,
              "#d8576b"
             ],
             [
              0.6666666666666666,
              "#ed7953"
             ],
             [
              0.7777777777777778,
              "#fb9f3a"
             ],
             [
              0.8888888888888888,
              "#fdca26"
             ],
             [
              1,
              "#f0f921"
             ]
            ],
            "type": "heatmap"
           }
          ],
          "heatmapgl": [
           {
            "colorbar": {
             "outlinewidth": 0,
             "ticks": ""
            },
            "colorscale": [
             [
              0,
              "#0d0887"
             ],
             [
              0.1111111111111111,
              "#46039f"
             ],
             [
              0.2222222222222222,
              "#7201a8"
             ],
             [
              0.3333333333333333,
              "#9c179e"
             ],
             [
              0.4444444444444444,
              "#bd3786"
             ],
             [
              0.5555555555555556,
              "#d8576b"
             ],
             [
              0.6666666666666666,
              "#ed7953"
             ],
             [
              0.7777777777777778,
              "#fb9f3a"
             ],
             [
              0.8888888888888888,
              "#fdca26"
             ],
             [
              1,
              "#f0f921"
             ]
            ],
            "type": "heatmapgl"
           }
          ],
          "histogram": [
           {
            "marker": {
             "pattern": {
              "fillmode": "overlay",
              "size": 10,
              "solidity": 0.2
             }
            },
            "type": "histogram"
           }
          ],
          "histogram2d": [
           {
            "colorbar": {
             "outlinewidth": 0,
             "ticks": ""
            },
            "colorscale": [
             [
              0,
              "#0d0887"
             ],
             [
              0.1111111111111111,
              "#46039f"
             ],
             [
              0.2222222222222222,
              "#7201a8"
             ],
             [
              0.3333333333333333,
              "#9c179e"
             ],
             [
              0.4444444444444444,
              "#bd3786"
             ],
             [
              0.5555555555555556,
              "#d8576b"
             ],
             [
              0.6666666666666666,
              "#ed7953"
             ],
             [
              0.7777777777777778,
              "#fb9f3a"
             ],
             [
              0.8888888888888888,
              "#fdca26"
             ],
             [
              1,
              "#f0f921"
             ]
            ],
            "type": "histogram2d"
           }
          ],
          "histogram2dcontour": [
           {
            "colorbar": {
             "outlinewidth": 0,
             "ticks": ""
            },
            "colorscale": [
             [
              0,
              "#0d0887"
             ],
             [
              0.1111111111111111,
              "#46039f"
             ],
             [
              0.2222222222222222,
              "#7201a8"
             ],
             [
              0.3333333333333333,
              "#9c179e"
             ],
             [
              0.4444444444444444,
              "#bd3786"
             ],
             [
              0.5555555555555556,
              "#d8576b"
             ],
             [
              0.6666666666666666,
              "#ed7953"
             ],
             [
              0.7777777777777778,
              "#fb9f3a"
             ],
             [
              0.8888888888888888,
              "#fdca26"
             ],
             [
              1,
              "#f0f921"
             ]
            ],
            "type": "histogram2dcontour"
           }
          ],
          "mesh3d": [
           {
            "colorbar": {
             "outlinewidth": 0,
             "ticks": ""
            },
            "type": "mesh3d"
           }
          ],
          "parcoords": [
           {
            "line": {
             "colorbar": {
              "outlinewidth": 0,
              "ticks": ""
             }
            },
            "type": "parcoords"
           }
          ],
          "pie": [
           {
            "automargin": true,
            "type": "pie"
           }
          ],
          "scatter": [
           {
            "marker": {
             "colorbar": {
              "outlinewidth": 0,
              "ticks": ""
             }
            },
            "type": "scatter"
           }
          ],
          "scatter3d": [
           {
            "line": {
             "colorbar": {
              "outlinewidth": 0,
              "ticks": ""
             }
            },
            "marker": {
             "colorbar": {
              "outlinewidth": 0,
              "ticks": ""
             }
            },
            "type": "scatter3d"
           }
          ],
          "scattercarpet": [
           {
            "marker": {
             "colorbar": {
              "outlinewidth": 0,
              "ticks": ""
             }
            },
            "type": "scattercarpet"
           }
          ],
          "scattergeo": [
           {
            "marker": {
             "colorbar": {
              "outlinewidth": 0,
              "ticks": ""
             }
            },
            "type": "scattergeo"
           }
          ],
          "scattergl": [
           {
            "marker": {
             "colorbar": {
              "outlinewidth": 0,
              "ticks": ""
             }
            },
            "type": "scattergl"
           }
          ],
          "scattermapbox": [
           {
            "marker": {
             "colorbar": {
              "outlinewidth": 0,
              "ticks": ""
             }
            },
            "type": "scattermapbox"
           }
          ],
          "scatterpolar": [
           {
            "marker": {
             "colorbar": {
              "outlinewidth": 0,
              "ticks": ""
             }
            },
            "type": "scatterpolar"
           }
          ],
          "scatterpolargl": [
           {
            "marker": {
             "colorbar": {
              "outlinewidth": 0,
              "ticks": ""
             }
            },
            "type": "scatterpolargl"
           }
          ],
          "scatterternary": [
           {
            "marker": {
             "colorbar": {
              "outlinewidth": 0,
              "ticks": ""
             }
            },
            "type": "scatterternary"
           }
          ],
          "surface": [
           {
            "colorbar": {
             "outlinewidth": 0,
             "ticks": ""
            },
            "colorscale": [
             [
              0,
              "#0d0887"
             ],
             [
              0.1111111111111111,
              "#46039f"
             ],
             [
              0.2222222222222222,
              "#7201a8"
             ],
             [
              0.3333333333333333,
              "#9c179e"
             ],
             [
              0.4444444444444444,
              "#bd3786"
             ],
             [
              0.5555555555555556,
              "#d8576b"
             ],
             [
              0.6666666666666666,
              "#ed7953"
             ],
             [
              0.7777777777777778,
              "#fb9f3a"
             ],
             [
              0.8888888888888888,
              "#fdca26"
             ],
             [
              1,
              "#f0f921"
             ]
            ],
            "type": "surface"
           }
          ],
          "table": [
           {
            "cells": {
             "fill": {
              "color": "#EBF0F8"
             },
             "line": {
              "color": "white"
             }
            },
            "header": {
             "fill": {
              "color": "#C8D4E3"
             },
             "line": {
              "color": "white"
             }
            },
            "type": "table"
           }
          ]
         },
         "layout": {
          "annotationdefaults": {
           "arrowcolor": "#2a3f5f",
           "arrowhead": 0,
           "arrowwidth": 1
          },
          "autotypenumbers": "strict",
          "coloraxis": {
           "colorbar": {
            "outlinewidth": 0,
            "ticks": ""
           }
          },
          "colorscale": {
           "diverging": [
            [
             0,
             "#8e0152"
            ],
            [
             0.1,
             "#c51b7d"
            ],
            [
             0.2,
             "#de77ae"
            ],
            [
             0.3,
             "#f1b6da"
            ],
            [
             0.4,
             "#fde0ef"
            ],
            [
             0.5,
             "#f7f7f7"
            ],
            [
             0.6,
             "#e6f5d0"
            ],
            [
             0.7,
             "#b8e186"
            ],
            [
             0.8,
             "#7fbc41"
            ],
            [
             0.9,
             "#4d9221"
            ],
            [
             1,
             "#276419"
            ]
           ],
           "sequential": [
            [
             0,
             "#0d0887"
            ],
            [
             0.1111111111111111,
             "#46039f"
            ],
            [
             0.2222222222222222,
             "#7201a8"
            ],
            [
             0.3333333333333333,
             "#9c179e"
            ],
            [
             0.4444444444444444,
             "#bd3786"
            ],
            [
             0.5555555555555556,
             "#d8576b"
            ],
            [
             0.6666666666666666,
             "#ed7953"
            ],
            [
             0.7777777777777778,
             "#fb9f3a"
            ],
            [
             0.8888888888888888,
             "#fdca26"
            ],
            [
             1,
             "#f0f921"
            ]
           ],
           "sequentialminus": [
            [
             0,
             "#0d0887"
            ],
            [
             0.1111111111111111,
             "#46039f"
            ],
            [
             0.2222222222222222,
             "#7201a8"
            ],
            [
             0.3333333333333333,
             "#9c179e"
            ],
            [
             0.4444444444444444,
             "#bd3786"
            ],
            [
             0.5555555555555556,
             "#d8576b"
            ],
            [
             0.6666666666666666,
             "#ed7953"
            ],
            [
             0.7777777777777778,
             "#fb9f3a"
            ],
            [
             0.8888888888888888,
             "#fdca26"
            ],
            [
             1,
             "#f0f921"
            ]
           ]
          },
          "colorway": [
           "#636efa",
           "#EF553B",
           "#00cc96",
           "#ab63fa",
           "#FFA15A",
           "#19d3f3",
           "#FF6692",
           "#B6E880",
           "#FF97FF",
           "#FECB52"
          ],
          "font": {
           "color": "#2a3f5f"
          },
          "geo": {
           "bgcolor": "white",
           "lakecolor": "white",
           "landcolor": "#E5ECF6",
           "showlakes": true,
           "showland": true,
           "subunitcolor": "white"
          },
          "hoverlabel": {
           "align": "left"
          },
          "hovermode": "closest",
          "mapbox": {
           "style": "light"
          },
          "paper_bgcolor": "white",
          "plot_bgcolor": "#E5ECF6",
          "polar": {
           "angularaxis": {
            "gridcolor": "white",
            "linecolor": "white",
            "ticks": ""
           },
           "bgcolor": "#E5ECF6",
           "radialaxis": {
            "gridcolor": "white",
            "linecolor": "white",
            "ticks": ""
           }
          },
          "scene": {
           "xaxis": {
            "backgroundcolor": "#E5ECF6",
            "gridcolor": "white",
            "gridwidth": 2,
            "linecolor": "white",
            "showbackground": true,
            "ticks": "",
            "zerolinecolor": "white"
           },
           "yaxis": {
            "backgroundcolor": "#E5ECF6",
            "gridcolor": "white",
            "gridwidth": 2,
            "linecolor": "white",
            "showbackground": true,
            "ticks": "",
            "zerolinecolor": "white"
           },
           "zaxis": {
            "backgroundcolor": "#E5ECF6",
            "gridcolor": "white",
            "gridwidth": 2,
            "linecolor": "white",
            "showbackground": true,
            "ticks": "",
            "zerolinecolor": "white"
           }
          },
          "shapedefaults": {
           "line": {
            "color": "#2a3f5f"
           }
          },
          "ternary": {
           "aaxis": {
            "gridcolor": "white",
            "linecolor": "white",
            "ticks": ""
           },
           "baxis": {
            "gridcolor": "white",
            "linecolor": "white",
            "ticks": ""
           },
           "bgcolor": "#E5ECF6",
           "caxis": {
            "gridcolor": "white",
            "linecolor": "white",
            "ticks": ""
           }
          },
          "title": {
           "x": 0.05
          },
          "xaxis": {
           "automargin": true,
           "gridcolor": "white",
           "linecolor": "white",
           "ticks": "",
           "title": {
            "standoff": 15
           },
           "zerolinecolor": "white",
           "zerolinewidth": 2
          },
          "yaxis": {
           "automargin": true,
           "gridcolor": "white",
           "linecolor": "white",
           "ticks": "",
           "title": {
            "standoff": 15
           },
           "zerolinecolor": "white",
           "zerolinewidth": 2
          }
         }
        },
        "xaxis": {
         "anchor": "y",
         "domain": [
          0,
          1
         ],
         "title": {
          "text": "0"
         }
        },
        "yaxis": {
         "anchor": "x",
         "domain": [
          0,
          1
         ],
         "title": {
          "text": "1"
         }
        }
       }
      }
     },
     "metadata": {},
     "output_type": "display_data"
    }
   ],
   "source": [
    "SAMPLING = False\n",
    "[X_train, _, y_train] = load_data()\n",
    "\n",
    "pca = PCA(n_components=2)\n",
    "pipeline = Pipeline([('scaler', StandardScaler()), ('pca', pca)])\n",
    "components = pipeline.fit_transform(X_train)\n",
    "fig = px.scatter(components, x=0, y=1, color=y_train)\n",
    "fig.show()"
   ]
  },
  {
   "cell_type": "code",
   "execution_count": null,
   "metadata": {},
   "outputs": [
    {
     "data": {
      "application/vnd.plotly.v1+json": {
       "config": {
        "plotlyServerURL": "https://plot.ly"
       },
       "data": [
        {
         "hovertemplate": "PC 1=%{x}<br>PC 2=%{y}<br>PC 3=%{z}<br>color=%{marker.color}<extra></extra>",
         "legendgroup": "",
         "marker": {
          "color": [
           1,
           0,
           0,
           0,
           0,
           0,
           1,
           0,
           0,
           0,
           0,
           0,
           0,
           0,
           0,
           0,
           0,
           1,
           0,
           0,
           0,
           0,
           0,
           0,
           0,
           0,
           1,
           0,
           0,
           0,
           0,
           0,
           0,
           0,
           0,
           0,
           0,
           0,
           1,
           0,
           0,
           0,
           0,
           0,
           0,
           0,
           1,
           0,
           0,
           0,
           0,
           0,
           0,
           0,
           0,
           1,
           0,
           0,
           0,
           1,
           0,
           0,
           0,
           0,
           0,
           1,
           0,
           0,
           0,
           1,
           0,
           1,
           0,
           0,
           0,
           0,
           0,
           0,
           0,
           0,
           0,
           0,
           0,
           0,
           0,
           0,
           0,
           0,
           0,
           0,
           1,
           1,
           0,
           0,
           0,
           0,
           0,
           0,
           0,
           0,
           0,
           0,
           0,
           0,
           0,
           0,
           1,
           1,
           0,
           0,
           0,
           0,
           0,
           0,
           0,
           0,
           0,
           0,
           1,
           1,
           0,
           0,
           1,
           0,
           0,
           0,
           0,
           1,
           0,
           0,
           1,
           0,
           0,
           0,
           1,
           0,
           0,
           1,
           1,
           0,
           0,
           0,
           0,
           0,
           0,
           0,
           0,
           0,
           0,
           1,
           0,
           0,
           1,
           0,
           0,
           0,
           0,
           0,
           0,
           0,
           0,
           0,
           0,
           0,
           0,
           0,
           0,
           0,
           0,
           0,
           0,
           0,
           0,
           0,
           0,
           0,
           0,
           0,
           0,
           0,
           0,
           0,
           0,
           0,
           0,
           0,
           1,
           0,
           0,
           0,
           1,
           0,
           0,
           0,
           0,
           0,
           0,
           0,
           0,
           0,
           0,
           0,
           0,
           0,
           0,
           0,
           0,
           0,
           1,
           0,
           1,
           1,
           0,
           0,
           1,
           0,
           0,
           0,
           0,
           0,
           0,
           1,
           0,
           1,
           0,
           1,
           0,
           1,
           1,
           0,
           1,
           0,
           0,
           0,
           1,
           0,
           0,
           0,
           0,
           0,
           0,
           0,
           0,
           0,
           0,
           0,
           0,
           0,
           0,
           0,
           0,
           0,
           0,
           0,
           0,
           0,
           0,
           0,
           0,
           0,
           0,
           0,
           0,
           0,
           0,
           0,
           0,
           1,
           0,
           1,
           0,
           1,
           0,
           0,
           0,
           0,
           0,
           0,
           0,
           0,
           1,
           0,
           0,
           0,
           0,
           0,
           0,
           0,
           0,
           0,
           0,
           0,
           0,
           0,
           0,
           0,
           0,
           0,
           0,
           0,
           0,
           0,
           0,
           0,
           0,
           0,
           0,
           0,
           0,
           0,
           0,
           0,
           1,
           0,
           0,
           0
          ],
          "coloraxis": "coloraxis",
          "symbol": "circle"
         },
         "mode": "markers",
         "name": "",
         "scene": "scene",
         "showlegend": false,
         "type": "scatter3d",
         "x": [
          3.0361370527366316,
          -0.001275501058221827,
          0.9697507474974818,
          -0.9618315923886022,
          -1.8221235172121775,
          0.21494515347870485,
          1.2736887028822808,
          0.7128607944778173,
          1.7431399623176853,
          -0.058114949802246366,
          -2.1421929442730283,
          1.1621183138934088,
          0.9745455665904529,
          0.22775390260454462,
          -0.708185022337886,
          0.2554931874425986,
          4.041888912573031,
          4.415982497179621,
          -1.476597409905043,
          -1.4840398626233866,
          0.651320985262199,
          1.3758917055525632,
          4.190539241008538,
          -0.09171292171127018,
          0.18215447698477716,
          -1.4801060932426822,
          -1.5694169847675006,
          4.809936077728537,
          -0.7663321320404141,
          5.656866092515911,
          -0.4181835602467128,
          0.46108937698943153,
          1.4651185094891095,
          0.4215961607395746,
          0.8493701953734423,
          0.28679424265841436,
          -1.3942023675302528,
          -1.6604139513126834,
          4.297594826547333,
          0.3967239441872264,
          3.394725941302476,
          0.038079781497503094,
          -0.41767156738882677,
          -1.6076476954041046,
          -4.214232284907253,
          0.36245294341648054,
          0.6373393734882679,
          -0.20268789559427788,
          1.1216648560309976,
          -0.5644706255660876,
          -1.1630246522111973,
          -1.647899185866963,
          2.3245031888188263,
          0.22701061430676697,
          -2.0685776494852828,
          1.5853727595947593,
          2.2071191754507136,
          0.28842988220973415,
          5.515042435663424,
          -1.4947280525726496,
          -2.1486372229537976,
          -1.1287842620945308,
          -2.0680021251951164,
          -0.29439861062338174,
          -1.4337362715620032,
          1.2389666524420564,
          -0.25394261129438817,
          -2.7152549473244854,
          -0.2868280584581098,
          -0.39451783969140547,
          -0.9184731198364681,
          1.5879677114574646,
          -2.349336221658703,
          -0.6125288481438101,
          0.00817927309153127,
          -1.6844869008950045,
          -0.37142918973164546,
          2.405791925142129,
          0.8161597486494756,
          -2.846177854054662,
          4.415019103525185,
          -1.8892777686222957,
          2.008349278036839,
          0.7553502801169818,
          -4.368529397978769,
          -0.47132377633123196,
          -1.7873538144404346,
          0.11565605480727587,
          0.012199620913697695,
          -2.0000318960654555,
          3.144630145618076,
          0.7672594557849082,
          0.24344329126021383,
          -4.376091447628484,
          -2.2571707664901135,
          1.1251151892736544,
          2.1001949236329445,
          0.4702083629502733,
          2.116871205575955,
          -0.5841426636038624,
          -1.9542235728562025,
          -0.8394266591380016,
          -0.5339110832472512,
          -0.3100646306809112,
          -1.0421431560869976,
          1.5488018866528714,
          1.5829135333596567,
          1.4254001310661497,
          -4.554030485157743,
          1.2967642448051162,
          -1.5669581377455397,
          0.494500976833428,
          -1.7610490039611773,
          -0.724135988813121,
          0.313457186065187,
          -0.9323491922763675,
          -0.3173984617293325,
          7.76027541120412,
          1.1838866423742607,
          1.4459972413493727,
          -0.27700062691119565,
          -3.8525184082649537,
          -0.08716523698255894,
          0.45381436183950496,
          -4.634555449332813,
          0.47246591208509314,
          -1.5204698598551178,
          0.7085786363184811,
          -2.0746593733130996,
          -2.8153879999975358,
          2.17169725279269,
          -1.5092816638853863,
          -1.1513971576512485,
          0.45341543163439463,
          1.697233876670459,
          -3.3403333038785967,
          -1.6135461394257402,
          0.449109239298104,
          1.0778559326422161,
          2.2884346387497834,
          -1.276534362134248,
          -1.0759889277788646,
          2.390442616299234,
          0.31686733243615883,
          2.711035603665887,
          -1.4243309353654043,
          -0.3380488557187976,
          -0.9156482393254709,
          -1.8164063137839679,
          3.20587500896752,
          0.61255776148122,
          -1.6452504045064988,
          1.3840934640849085,
          -1.3363782635299806,
          -2.1953962696954394,
          -1.1392938753385986,
          -1.7819140016712725,
          -2.9500525841133514,
          1.3079376967719472,
          -0.741612225667179,
          3.6443871421250935,
          -1.4860200811582127,
          0.030513895916264803,
          2.4486131707487506,
          -1.1793455365804015,
          -1.4193346785495533,
          1.2687479163496864,
          0.756156166182426,
          0.03628745793691604,
          -1.1382801751547125,
          -0.21095593810476437,
          1.4153217685187525,
          -0.9882193051175389,
          0.5647961095191325,
          -0.4274660422156437,
          -2.6487895128397096,
          -1.7950365213226709,
          -1.0386205185335766,
          2.420598854319076,
          -1.1115558326729997,
          -4.444056506546186,
          -5.135199423950854,
          2.5414142480091466,
          -0.7365734010954769,
          -2.6999438341251123,
          0.0781443950877031,
          0.28258439537174596,
          -1.8370946556145582,
          0.0938141513554088,
          -2.401714007221625,
          3.668297221066705,
          0.5217627463402145,
          -2.653482161099102,
          -2.642488492866949,
          -0.36924298405665873,
          -0.7820340824857518,
          -0.7635634727392134,
          -0.9653646755226918,
          1.0930525395564723,
          -2.0099449107995278,
          0.3338195491517941,
          -1.8203235256333288,
          -1.5941397956846135,
          0.37718645277584956,
          -1.9268072538697871,
          0.16495405190535817,
          -0.4687558694791234,
          0.9170586832538723,
          1.4339712717788233,
          -4.442870352165554,
          8.15736208209837,
          6.012018517539007,
          -1.7813939188147552,
          -0.5267409300655793,
          1.153186634332785,
          -0.6918857408755877,
          0.5157428753177128,
          0.08994726183835182,
          0.606947970773864,
          -4.406577415947029,
          -1.760174541639766,
          5.003085221781139,
          -5.105695677312667,
          2.010268951589489,
          -1.4738843219238398,
          0.6296103822898643,
          0.12125737865115625,
          -0.9210655965748202,
          1.5953973600308167,
          -1.7895194721442067,
          1.0828282816812769,
          -4.027527485176603,
          0.9884235760102846,
          -1.8699652652064576,
          5.955684366862343,
          -2.441343740019149,
          -0.06348074737497633,
          -2.0140252765671,
          1.45944206286733,
          -1.6775148918909466,
          2.9811288322894574,
          -0.17442559131833857,
          -1.0036404258257572,
          -2.606639534643696,
          2.479704772359708,
          0.5421727439619644,
          4.983674627748908,
          -1.7487506876641137,
          -0.6907197627945582,
          -1.2694682555616497,
          -0.512692666883277,
          -0.8532566134320079,
          -0.7019295347115005,
          -2.1595784122006663,
          2.7007203886554785,
          0.7874373723841502,
          -0.04072541422989677,
          -0.045720152779540266,
          4.410422938492218,
          -2.127002800438406,
          -3.293336468116563,
          -3.1139437655614297,
          -0.13292266689464952,
          0.5100738403280655,
          -0.6584404398408951,
          -0.9383358769071289,
          3.868805350327073,
          1.7227600675882775,
          0.5056205994871098,
          1.516839508526836,
          0.3428908042751527,
          4.989083750987781,
          7.378832824189869,
          -0.7073477244756224,
          0.04703839529840767,
          -1.2086629180035582,
          1.6590739335050029,
          2.2639249472503087,
          -2.277015332922228,
          2.5208546978625073,
          2.9400258238619617,
          1.556353457425103,
          -4.241611228372954,
          0.4700850094189326,
          1.4383962860445054,
          1.0713294361477623,
          3.8000969522349908,
          -2.036125257116605,
          -0.33547190449316056,
          4.399688891179394,
          0.8273231403185449,
          0.41491170311694725,
          -2.774031899559109,
          -2.765924614974889,
          1.4796355394932568,
          -2.8756282169060663,
          1.0925396162904268,
          -0.7383823631780427,
          0.40240929699496947,
          0.14096502897609667,
          1.0573033102798408,
          -2.223840593583598,
          1.5508927596010775,
          -0.4451970745074734,
          -1.9695684183741904,
          1.9424147690921238,
          -1.704244743858599,
          -3.5750848692826906,
          -0.30052454956575236,
          0.2762121426025607,
          2.2786596346957606,
          -0.3069080742114344,
          0.9576246035710166,
          0.7794680747739813,
          0.5123863119112515,
          -1.9821808108231433
         ],
         "y": [
          -0.749613739244994,
          -1.695048686965662,
          2.3749419678521124,
          1.721597068950587,
          2.391247096449241,
          0.28560025397076266,
          -1.6919030957687644,
          -0.2858175904087721,
          3.34721738604834,
          -0.03803626619458686,
          2.088526966840423,
          -0.9479933224965088,
          1.775060489460732,
          -1.6562238478233904,
          2.674983728403662,
          2.4559408775379463,
          1.6792710138647786,
          -0.0941114916470846,
          1.539296078595453,
          1.5322548175475497,
          -2.206747129510255,
          -1.5344080715851118,
          2.2310642360642707,
          -1.94116365711609,
          0.2632634473734112,
          1.3432196407083574,
          -2.0268913261789385,
          0.9052744587502641,
          -2.0430291340291244,
          2.680250136161802,
          -0.5481048248670619,
          -1.8283026885844378,
          -1.0709517804978506,
          -0.3644590941937023,
          -1.8385592752425783,
          -1.802341417039265,
          1.180847672645829,
          1.803384805793764,
          -0.17758512529701587,
          0.696542298153436,
          -0.8259486449980064,
          1.6127447629796468,
          -1.6655737100748231,
          1.2732877087633447,
          1.6792423390946514,
          -1.801816218572699,
          -1.6547564316472976,
          0.20627894846106204,
          -0.8912604326863313,
          -0.75008367483194,
          1.6290956534196557,
          2.3328562713919387,
          -0.5542392337853685,
          -0.5388819981721954,
          1.894800976515424,
          2.1512789196479365,
          -1.084422239151464,
          0.18309177945842092,
          1.9278259461158613,
          -3.0763533376410566,
          1.5677162132057088,
          2.0637622434336196,
          1.7871729815667425,
          -0.028758645160846478,
          -2.4722325114192913,
          0.4428647709873688,
          -1.5887138249636368,
          2.0026648566637184,
          -0.30501751444382674,
          -1.9921062751184386,
          -2.210682865744208,
          -2.516100878133636,
          1.3855278182471629,
          -0.6272683466743909,
          -0.19023492500641445,
          -0.7952169433937731,
          -1.824555394069272,
          -0.8205085220506464,
          -1.7297472801533464,
          2.4804734323410504,
          0.7130967042147939,
          1.8366382128048007,
          5.540868522197556,
          -1.8774379583527947,
          0.7580002587863491,
          -1.5530744516428574,
          2.0525657784762967,
          -1.5344901916996871,
          0.12473516562077552,
          -0.7697365481826344,
          -0.918072097757239,
          -2.4949286949157488,
          -1.700625176469048,
          1.145040366429414,
          -1.265549519171405,
          -1.2558383054234283,
          -0.9617732471753992,
          0.21985817079832984,
          3.52870264369067,
          -1.1836092685009538,
          -2.3927394737443355,
          -0.3925903831018148,
          -2.093194362622997,
          -0.922802674841554,
          -0.05998534073709039,
          -1.0401706370508514,
          0.27521779773536925,
          -2.713413778891333,
          0.9114304366413197,
          -1.550893312723632,
          1.5580494046786246,
          -0.07565105751057159,
          1.9651567339483171,
          -0.2206430275784002,
          -1.6912174703878964,
          -1.7122536309027594,
          0.16468467541761933,
          3.6206193566831457,
          -2.3354279635276565,
          -1.1392801956370653,
          -1.7912354549221816,
          1.5151225206103336,
          1.105740313670472,
          -1.7641982501493938,
          1.2066618706833114,
          -1.6920880873074033,
          -0.29757883682713027,
          0.3304012611606115,
          1.9367833022565073,
          1.9069989757261323,
          -2.1203335613391796,
          -1.2473496965692787,
          -0.1789348117036323,
          -0.5066488049661618,
          -2.358914270680778,
          1.9121417805188803,
          -1.1642750505334167,
          0.2854102553655989,
          -2.9547587451842654,
          -0.8192821654185445,
          -0.14184323527078924,
          -0.38765229291543024,
          -0.5918848024549556,
          0.3288367435616454,
          0.10874856830845749,
          -2.1417527839093085,
          -1.7534935422822642,
          -2.278347636127693,
          1.7951579718342519,
          0.7123779826404335,
          -0.10184193093734067,
          -1.0021046911126974,
          -2.4734773663547385,
          -2.006925194788838,
          2.0543520313149957,
          -0.6235491676975019,
          -0.28093286501638115,
          0.6747796113963789,
          -1.2359758311617088,
          0.18556205839204698,
          1.2329092557049894,
          -2.3647372776342515,
          -0.012568207599124777,
          0.7903984312029206,
          0.05102591214421089,
          2.1026297729349013,
          -1.4773965345635305,
          -0.18176308317629766,
          -1.5993493838492296,
          2.27837169324543,
          1.334563312834302,
          0.5990187782099896,
          -0.8529983757138764,
          0.6030066666205938,
          2.167994890613614,
          2.135378806472983,
          1.2396460524602504,
          -2.199027070865572,
          -0.18285162395475368,
          -0.7433058224782304,
          1.1762384046305063,
          0.7392923293454425,
          5.099650251400664,
          1.6293964507136154,
          1.0182428669257912,
          0.10902498579746547,
          -2.4724383663489933,
          2.0521402064763623,
          -2.019540766451255,
          1.3742676786628842,
          1.5106201480178691,
          -0.494381965109889,
          1.742847343489987,
          1.5688969078129271,
          -1.421635325706017,
          -1.9045727048003227,
          -1.9240540657494174,
          -2.276261992656807,
          -1.1183080025810916,
          1.3963668150771458,
          -1.3738424596700995,
          2.0001041743567183,
          -2.306432010190382,
          -2.0195551653571155,
          -0.7699021533980078,
          0.23070614128156705,
          0.2719960929196688,
          -2.0971526131607354,
          -1.7749637999285646,
          2.542554078158425,
          2.307411218177776,
          1.3496611629201896,
          1.2263252222988243,
          0.31009935618895285,
          -3.1210327680126344,
          -2.2686794612189676,
          -1.967583355262452,
          0.23256385087885653,
          -1.7444322490103499,
          1.7995113695482894,
          1.4431234936793391,
          4.978977139396478,
          1.6052668275395876,
          -0.7619395373493426,
          1.872048333900398,
          -1.542330942309622,
          -1.4276937731346138,
          2.8212851075602248,
          2.4333451769531016,
          -1.2510400239994044,
          2.04431149166386,
          1.5004232124212173,
          -1.471692837446494,
          1.8549073157079226,
          0.7492441375630674,
          1.8159782929407287,
          -1.4451099462299928,
          1.8952902880206064,
          -1.7160907454528227,
          -2.437572629365216,
          4.520570670319062,
          -1.5883645937063047,
          1.859371987872608,
          -1.2384221300012226,
          -0.172136475700097,
          -0.32242637485831,
          4.712416093304821,
          -2.2040908833855677,
          0.02875244517568933,
          -1.0847187329084946,
          -0.6774626138442557,
          -0.056061122339732844,
          -1.9485928756811788,
          -2.6799680527787775,
          -1.6992681688273836,
          2.817065687046107,
          0.04673590337653806,
          0.04267873227824235,
          1.468642237690353,
          -1.3737627803226722,
          1.266942185143558,
          1.431483847323661,
          -2.00860205269769,
          -1.7835790569262255,
          1.0951727390690438,
          1.4381113001229273,
          -0.6310805518428357,
          -2.099890302720546,
          0.27674622094900836,
          -1.1322857251007379,
          -0.5809020976905299,
          5.619806805482597,
          3.545045721614489,
          1.474601356201265,
          -0.6185154865141365,
          -2.337547701830746,
          -1.4038311325827422,
          -1.7402461381874426,
          -0.7056279444992092,
          -0.4750641426750839,
          -0.1364559438707375,
          0.5101772768188738,
          1.466613476749777,
          0.16207645295587647,
          -1.788918625980972,
          0.6683267553501556,
          1.6314038813583271,
          1.9692319448321942,
          -1.7867510238181346,
          1.75210637591078,
          -1.4203940508911157,
          -1.9784416052784217,
          1.8788424204912302,
          1.881681814118036,
          -2.1218659353760114,
          1.4011836959321495,
          -1.587118765739816,
          -1.9621978629432848,
          -1.7034257865725686,
          0.3446141165432562,
          -1.1799588500210203,
          1.8677734699790893,
          0.3240300178728932,
          -0.750015824694134,
          1.8572424886758525,
          -0.022266873524416024,
          1.5643203918718773,
          1.3783178769586357,
          -1.017639559893214,
          1.8839047523797898,
          -0.1360239668787557,
          -0.29363477636990054,
          -1.2801839778862512,
          -0.17378032289191805,
          -1.8008301018505575,
          -0.786124837065984
         ],
         "z": [
          -2.457080749398678,
          -0.15355736420610022,
          -1.4062217308227782,
          0.49449493527611593,
          0.9254890767172577,
          -2.0702294267338743,
          1.0601742452444989,
          0.9606554984603999,
          0.467076388904713,
          -0.7319326235446527,
          4.077088907397868,
          -0.4045179388169045,
          -0.3236512984820316,
          0.5458801552629561,
          0.884661011644001,
          -0.8154281272198873,
          -1.0040378559624776,
          0.9213627383416806,
          -1.399343713006861,
          -1.3466021013454077,
          1.6483816797732715,
          1.8774252935214346,
          -1.0902968175521282,
          0.015481474691390005,
          -2.0315415611134475,
          -1.1977073969658167,
          0.7788082304749107,
          0.7189449782592702,
          -0.24275691719458434,
          0.44512982818662766,
          -0.4603872384724393,
          1.9212178319308766,
          -0.5102171285125404,
          -0.6314846856500372,
          1.7195380773836402,
          1.9280116488780175,
          -1.6678862190978425,
          1.054566442116754,
          -0.11292214869194313,
          -1.7284604642792296,
          1.7953019914108317,
          -1.010609858453583,
          -0.730129124669034,
          3.9593570015555684,
          0.597784784840805,
          2.891184347862297,
          0.0018742647514249228,
          -2.212214953797043,
          1.7472209748049186,
          -1.3829970349397362,
          0.791251414521284,
          0.15115603452266302,
          0.2809187877372078,
          0.10284084648007233,
          1.9686155422638176,
          -1.5317616110448553,
          0.14978488228789755,
          -0.5597639461241612,
          -0.29469375959258226,
          -3.4296602881134266,
          -0.8588399186468962,
          0.7916647492049941,
          -0.8725643344815056,
          -1.7391492449901487,
          0.7586984399754666,
          -2.1536571527512343,
          -1.15950797592661,
          2.9890997068273224,
          -0.8501522571968051,
          0.6772600086671468,
          -0.4046744552392818,
          0.20277171582854758,
          -1.2891763457655923,
          -1.1192273545068925,
          -1.2939201514317251,
          -1.40497006828174,
          0.708367586829541,
          1.0023046139049003,
          0.8779376537609204,
          -0.19011686544532141,
          -0.32342542615650294,
          1.0060513999155858,
          3.376003077419495,
          0.733187234615084,
          2.0567948234236497,
          -0.27079572771522786,
          1.071476255181809,
          -1.3131337134205856,
          -1.9969712984214028,
          -2.374137039448939,
          -2.31286564068683,
          -3.4727495266690442,
          1.0464224548789745,
          0.9600469091652721,
          -1.2290830685437617,
          -0.5696326086440598,
          0.5083155677330112,
          -0.1243329426934608,
          1.0328850396574925,
          0.052130743207319793,
          2.5643772567118717,
          -1.0742993462981072,
          0.00234420667151833,
          -0.683254090645026,
          -2.607318713363354,
          0.8209138661452972,
          -1.6163554762253518,
          -0.8550744305383768,
          0.655743433368723,
          0.989995749012209,
          -1.5349783678022901,
          -1.1114126037954462,
          1.7178701489272512,
          -0.31432475964160245,
          2.6947716831723465,
          -2.4966413504274287,
          -2.1119869060050704,
          0.07983933864389284,
          -2.2795334230145143,
          2.0595262478555596,
          0.6029209817146872,
          -1.970338569339016,
          -1.3572165597401207,
          2.1504065567901947,
          0.5191492761485238,
          2.6886672507493565,
          -2.892398126431138,
          -2.1572201934807844,
          2.1789132137707012,
          -0.24249499088975995,
          -1.6861729491704556,
          -0.8259373311794378,
          -2.280318690855569,
          -0.11452492467786249,
          -0.39906978851037717,
          0.4236640772725718,
          -0.895431814619313,
          -1.0626997240376967,
          -0.135226299301413,
          -0.6070514323501264,
          -2.2796165064748086,
          -1.418725562042646,
          1.8572075172334561,
          -2.3800550437687287,
          -0.49187505935612924,
          -0.315651386100183,
          1.1397222507763787,
          0.5128484734345186,
          1.0166331542453533,
          -0.3159869499671542,
          -0.729547857972847,
          -0.5032707483756672,
          -0.4012055331022404,
          1.2024895568138305,
          2.575263836842692,
          -1.3908874895807533,
          -2.1455642063841336,
          -2.9202116578864845,
          1.6600010642786458,
          -1.7516110181349307,
          -0.5248501537640511,
          -0.1513052903468879,
          -1.0742049506524471,
          -0.8578289411843171,
          -2.4744319749802153,
          0.49444401791603854,
          0.13652287043952735,
          -0.265239230246441,
          0.06769427198709638,
          1.2195680141215621,
          -0.6929505876074511,
          -0.46425448051697477,
          -0.5952586341453662,
          -1.5579376619893686,
          -0.4433928882694421,
          0.5737064485903794,
          -0.8814934345694923,
          1.208519887043812,
          -0.4986030699088085,
          -0.732933276593434,
          0.5965776685761108,
          1.7024254535136822,
          0.32739813020720915,
          -0.1323489892086096,
          -0.7667972800674746,
          -1.3383057373705853,
          3.0585125979905774,
          1.8202480371147074,
          4.911337929843529,
          -0.34686299519520425,
          -0.9836449225311107,
          0.4997471472341744,
          -0.30782901085722525,
          -0.11468503065286345,
          -1.217768994912188,
          -0.5798190984950414,
          -0.30051607183414236,
          1.3469779742567747,
          1.8349916621163032,
          -0.7021397526965324,
          -0.010928440166151028,
          1.2986584583254246,
          2.8159256067146448,
          2.03677588823541,
          -1.8697523693922964,
          -1.7581791315639208,
          -2.1757881500240743,
          1.2113567046815268,
          -2.0355187453539725,
          1.7009534653447544,
          1.5184505449212793,
          1.4053944676381018,
          -1.7429851793698077,
          -2.328988145928991,
          -0.9232801159985974,
          2.2118169226431736,
          1.6086599331939928,
          -1.5459905979765263,
          0.9194908317842814,
          1.677776530847735,
          -1.0574718453889471,
          -0.8379761161432919,
          1.6088548464401726,
          -2.8186790718657875,
          0.1775462237250793,
          -0.36157145362840487,
          -0.3822303305713608,
          1.2066402245990417,
          -0.9417559876464782,
          -0.5676643633518538,
          -1.381819776771202,
          -0.015031754011965952,
          -0.6105553712834897,
          -0.7564663347524682,
          0.1069651836073009,
          2.6399749487876454,
          -1.4101077978485097,
          3.2862473618666908,
          2.7955991019175115,
          1.6643835428699714,
          0.7157372624275193,
          0.4109236754279577,
          2.3763765764150597,
          -1.0175593981934197,
          -0.003921660766530379,
          -0.03587355156329019,
          0.24198348452218005,
          1.4070165127846814,
          -2.3818780754236424,
          0.7315733243543353,
          -0.9690637046530252,
          -2.274027717095653,
          -0.38867749633790144,
          -0.1743246272846418,
          1.5800904720736233,
          1.6179832436204054,
          -0.8086718149533877,
          -0.775810517294182,
          1.6765465096838086,
          -0.6699269275862647,
          -0.045170269891495286,
          -0.8363620276458269,
          1.8997070030968404,
          4.350355908670931,
          -1.5179204863745825,
          0.6243451990606785,
          2.4138519128284943,
          -1.9342747517343857,
          -2.4913073784011344,
          -0.9736348113458535,
          0.6130495568546365,
          0.21315831870123444,
          1.3871599140518638,
          -0.06851710168043307,
          -0.5231393298323496,
          0.12272044740280834,
          3.0237273319007296,
          1.6198764578125873,
          -1.9369008462633392,
          -0.5302195058005945,
          0.05722175015815103,
          -1.014738051527809,
          0.4687528569891879,
          -1.8792036061486783,
          0.2758868720695033,
          -1.4403461615823772,
          -0.22665335028335426,
          2.811347040745176,
          -0.6086345154756503,
          -1.1829161081367112,
          1.5594481298210727,
          1.3033753545277087,
          1.7050018770593793,
          1.6317004035737466,
          0.8013587567603568,
          -0.6371473684173773,
          2.9894477394593117,
          3.5201036313268155,
          0.7829648723949251,
          -2.0805318630482224,
          -0.8765861311914197,
          -0.6270809401563652,
          -0.6522621708417442,
          -1.0017396651412862,
          3.84037434700428,
          0.4619303414257269,
          -1.550066793580393,
          -1.2053691379876406,
          -0.41225322586033725,
          -0.6415043672534163,
          2.1854939809666045,
          -0.42282214769698734,
          2.036038182423089,
          -0.5071611883699664,
          1.2440251240603355,
          -1.7581542950221152
         ]
        }
       ],
       "layout": {
        "coloraxis": {
         "colorbar": {
          "title": {
           "text": "color"
          }
         },
         "colorscale": [
          [
           0,
           "#0d0887"
          ],
          [
           0.1111111111111111,
           "#46039f"
          ],
          [
           0.2222222222222222,
           "#7201a8"
          ],
          [
           0.3333333333333333,
           "#9c179e"
          ],
          [
           0.4444444444444444,
           "#bd3786"
          ],
          [
           0.5555555555555556,
           "#d8576b"
          ],
          [
           0.6666666666666666,
           "#ed7953"
          ],
          [
           0.7777777777777778,
           "#fb9f3a"
          ],
          [
           0.8888888888888888,
           "#fdca26"
          ],
          [
           1,
           "#f0f921"
          ]
         ]
        },
        "legend": {
         "tracegroupgap": 0
        },
        "scene": {
         "domain": {
          "x": [
           0,
           1
          ],
          "y": [
           0,
           1
          ]
         },
         "xaxis": {
          "title": {
           "text": "PC 1"
          }
         },
         "yaxis": {
          "title": {
           "text": "PC 2"
          }
         },
         "zaxis": {
          "title": {
           "text": "PC 3"
          }
         }
        },
        "template": {
         "data": {
          "bar": [
           {
            "error_x": {
             "color": "#2a3f5f"
            },
            "error_y": {
             "color": "#2a3f5f"
            },
            "marker": {
             "line": {
              "color": "#E5ECF6",
              "width": 0.5
             },
             "pattern": {
              "fillmode": "overlay",
              "size": 10,
              "solidity": 0.2
             }
            },
            "type": "bar"
           }
          ],
          "barpolar": [
           {
            "marker": {
             "line": {
              "color": "#E5ECF6",
              "width": 0.5
             },
             "pattern": {
              "fillmode": "overlay",
              "size": 10,
              "solidity": 0.2
             }
            },
            "type": "barpolar"
           }
          ],
          "carpet": [
           {
            "aaxis": {
             "endlinecolor": "#2a3f5f",
             "gridcolor": "white",
             "linecolor": "white",
             "minorgridcolor": "white",
             "startlinecolor": "#2a3f5f"
            },
            "baxis": {
             "endlinecolor": "#2a3f5f",
             "gridcolor": "white",
             "linecolor": "white",
             "minorgridcolor": "white",
             "startlinecolor": "#2a3f5f"
            },
            "type": "carpet"
           }
          ],
          "choropleth": [
           {
            "colorbar": {
             "outlinewidth": 0,
             "ticks": ""
            },
            "type": "choropleth"
           }
          ],
          "contour": [
           {
            "colorbar": {
             "outlinewidth": 0,
             "ticks": ""
            },
            "colorscale": [
             [
              0,
              "#0d0887"
             ],
             [
              0.1111111111111111,
              "#46039f"
             ],
             [
              0.2222222222222222,
              "#7201a8"
             ],
             [
              0.3333333333333333,
              "#9c179e"
             ],
             [
              0.4444444444444444,
              "#bd3786"
             ],
             [
              0.5555555555555556,
              "#d8576b"
             ],
             [
              0.6666666666666666,
              "#ed7953"
             ],
             [
              0.7777777777777778,
              "#fb9f3a"
             ],
             [
              0.8888888888888888,
              "#fdca26"
             ],
             [
              1,
              "#f0f921"
             ]
            ],
            "type": "contour"
           }
          ],
          "contourcarpet": [
           {
            "colorbar": {
             "outlinewidth": 0,
             "ticks": ""
            },
            "type": "contourcarpet"
           }
          ],
          "heatmap": [
           {
            "colorbar": {
             "outlinewidth": 0,
             "ticks": ""
            },
            "colorscale": [
             [
              0,
              "#0d0887"
             ],
             [
              0.1111111111111111,
              "#46039f"
             ],
             [
              0.2222222222222222,
              "#7201a8"
             ],
             [
              0.3333333333333333,
              "#9c179e"
             ],
             [
              0.4444444444444444,
              "#bd3786"
             ],
             [
              0.5555555555555556,
              "#d8576b"
             ],
             [
              0.6666666666666666,
              "#ed7953"
             ],
             [
              0.7777777777777778,
              "#fb9f3a"
             ],
             [
              0.8888888888888888,
              "#fdca26"
             ],
             [
              1,
              "#f0f921"
             ]
            ],
            "type": "heatmap"
           }
          ],
          "heatmapgl": [
           {
            "colorbar": {
             "outlinewidth": 0,
             "ticks": ""
            },
            "colorscale": [
             [
              0,
              "#0d0887"
             ],
             [
              0.1111111111111111,
              "#46039f"
             ],
             [
              0.2222222222222222,
              "#7201a8"
             ],
             [
              0.3333333333333333,
              "#9c179e"
             ],
             [
              0.4444444444444444,
              "#bd3786"
             ],
             [
              0.5555555555555556,
              "#d8576b"
             ],
             [
              0.6666666666666666,
              "#ed7953"
             ],
             [
              0.7777777777777778,
              "#fb9f3a"
             ],
             [
              0.8888888888888888,
              "#fdca26"
             ],
             [
              1,
              "#f0f921"
             ]
            ],
            "type": "heatmapgl"
           }
          ],
          "histogram": [
           {
            "marker": {
             "pattern": {
              "fillmode": "overlay",
              "size": 10,
              "solidity": 0.2
             }
            },
            "type": "histogram"
           }
          ],
          "histogram2d": [
           {
            "colorbar": {
             "outlinewidth": 0,
             "ticks": ""
            },
            "colorscale": [
             [
              0,
              "#0d0887"
             ],
             [
              0.1111111111111111,
              "#46039f"
             ],
             [
              0.2222222222222222,
              "#7201a8"
             ],
             [
              0.3333333333333333,
              "#9c179e"
             ],
             [
              0.4444444444444444,
              "#bd3786"
             ],
             [
              0.5555555555555556,
              "#d8576b"
             ],
             [
              0.6666666666666666,
              "#ed7953"
             ],
             [
              0.7777777777777778,
              "#fb9f3a"
             ],
             [
              0.8888888888888888,
              "#fdca26"
             ],
             [
              1,
              "#f0f921"
             ]
            ],
            "type": "histogram2d"
           }
          ],
          "histogram2dcontour": [
           {
            "colorbar": {
             "outlinewidth": 0,
             "ticks": ""
            },
            "colorscale": [
             [
              0,
              "#0d0887"
             ],
             [
              0.1111111111111111,
              "#46039f"
             ],
             [
              0.2222222222222222,
              "#7201a8"
             ],
             [
              0.3333333333333333,
              "#9c179e"
             ],
             [
              0.4444444444444444,
              "#bd3786"
             ],
             [
              0.5555555555555556,
              "#d8576b"
             ],
             [
              0.6666666666666666,
              "#ed7953"
             ],
             [
              0.7777777777777778,
              "#fb9f3a"
             ],
             [
              0.8888888888888888,
              "#fdca26"
             ],
             [
              1,
              "#f0f921"
             ]
            ],
            "type": "histogram2dcontour"
           }
          ],
          "mesh3d": [
           {
            "colorbar": {
             "outlinewidth": 0,
             "ticks": ""
            },
            "type": "mesh3d"
           }
          ],
          "parcoords": [
           {
            "line": {
             "colorbar": {
              "outlinewidth": 0,
              "ticks": ""
             }
            },
            "type": "parcoords"
           }
          ],
          "pie": [
           {
            "automargin": true,
            "type": "pie"
           }
          ],
          "scatter": [
           {
            "marker": {
             "colorbar": {
              "outlinewidth": 0,
              "ticks": ""
             }
            },
            "type": "scatter"
           }
          ],
          "scatter3d": [
           {
            "line": {
             "colorbar": {
              "outlinewidth": 0,
              "ticks": ""
             }
            },
            "marker": {
             "colorbar": {
              "outlinewidth": 0,
              "ticks": ""
             }
            },
            "type": "scatter3d"
           }
          ],
          "scattercarpet": [
           {
            "marker": {
             "colorbar": {
              "outlinewidth": 0,
              "ticks": ""
             }
            },
            "type": "scattercarpet"
           }
          ],
          "scattergeo": [
           {
            "marker": {
             "colorbar": {
              "outlinewidth": 0,
              "ticks": ""
             }
            },
            "type": "scattergeo"
           }
          ],
          "scattergl": [
           {
            "marker": {
             "colorbar": {
              "outlinewidth": 0,
              "ticks": ""
             }
            },
            "type": "scattergl"
           }
          ],
          "scattermapbox": [
           {
            "marker": {
             "colorbar": {
              "outlinewidth": 0,
              "ticks": ""
             }
            },
            "type": "scattermapbox"
           }
          ],
          "scatterpolar": [
           {
            "marker": {
             "colorbar": {
              "outlinewidth": 0,
              "ticks": ""
             }
            },
            "type": "scatterpolar"
           }
          ],
          "scatterpolargl": [
           {
            "marker": {
             "colorbar": {
              "outlinewidth": 0,
              "ticks": ""
             }
            },
            "type": "scatterpolargl"
           }
          ],
          "scatterternary": [
           {
            "marker": {
             "colorbar": {
              "outlinewidth": 0,
              "ticks": ""
             }
            },
            "type": "scatterternary"
           }
          ],
          "surface": [
           {
            "colorbar": {
             "outlinewidth": 0,
             "ticks": ""
            },
            "colorscale": [
             [
              0,
              "#0d0887"
             ],
             [
              0.1111111111111111,
              "#46039f"
             ],
             [
              0.2222222222222222,
              "#7201a8"
             ],
             [
              0.3333333333333333,
              "#9c179e"
             ],
             [
              0.4444444444444444,
              "#bd3786"
             ],
             [
              0.5555555555555556,
              "#d8576b"
             ],
             [
              0.6666666666666666,
              "#ed7953"
             ],
             [
              0.7777777777777778,
              "#fb9f3a"
             ],
             [
              0.8888888888888888,
              "#fdca26"
             ],
             [
              1,
              "#f0f921"
             ]
            ],
            "type": "surface"
           }
          ],
          "table": [
           {
            "cells": {
             "fill": {
              "color": "#EBF0F8"
             },
             "line": {
              "color": "white"
             }
            },
            "header": {
             "fill": {
              "color": "#C8D4E3"
             },
             "line": {
              "color": "white"
             }
            },
            "type": "table"
           }
          ]
         },
         "layout": {
          "annotationdefaults": {
           "arrowcolor": "#2a3f5f",
           "arrowhead": 0,
           "arrowwidth": 1
          },
          "autotypenumbers": "strict",
          "coloraxis": {
           "colorbar": {
            "outlinewidth": 0,
            "ticks": ""
           }
          },
          "colorscale": {
           "diverging": [
            [
             0,
             "#8e0152"
            ],
            [
             0.1,
             "#c51b7d"
            ],
            [
             0.2,
             "#de77ae"
            ],
            [
             0.3,
             "#f1b6da"
            ],
            [
             0.4,
             "#fde0ef"
            ],
            [
             0.5,
             "#f7f7f7"
            ],
            [
             0.6,
             "#e6f5d0"
            ],
            [
             0.7,
             "#b8e186"
            ],
            [
             0.8,
             "#7fbc41"
            ],
            [
             0.9,
             "#4d9221"
            ],
            [
             1,
             "#276419"
            ]
           ],
           "sequential": [
            [
             0,
             "#0d0887"
            ],
            [
             0.1111111111111111,
             "#46039f"
            ],
            [
             0.2222222222222222,
             "#7201a8"
            ],
            [
             0.3333333333333333,
             "#9c179e"
            ],
            [
             0.4444444444444444,
             "#bd3786"
            ],
            [
             0.5555555555555556,
             "#d8576b"
            ],
            [
             0.6666666666666666,
             "#ed7953"
            ],
            [
             0.7777777777777778,
             "#fb9f3a"
            ],
            [
             0.8888888888888888,
             "#fdca26"
            ],
            [
             1,
             "#f0f921"
            ]
           ],
           "sequentialminus": [
            [
             0,
             "#0d0887"
            ],
            [
             0.1111111111111111,
             "#46039f"
            ],
            [
             0.2222222222222222,
             "#7201a8"
            ],
            [
             0.3333333333333333,
             "#9c179e"
            ],
            [
             0.4444444444444444,
             "#bd3786"
            ],
            [
             0.5555555555555556,
             "#d8576b"
            ],
            [
             0.6666666666666666,
             "#ed7953"
            ],
            [
             0.7777777777777778,
             "#fb9f3a"
            ],
            [
             0.8888888888888888,
             "#fdca26"
            ],
            [
             1,
             "#f0f921"
            ]
           ]
          },
          "colorway": [
           "#636efa",
           "#EF553B",
           "#00cc96",
           "#ab63fa",
           "#FFA15A",
           "#19d3f3",
           "#FF6692",
           "#B6E880",
           "#FF97FF",
           "#FECB52"
          ],
          "font": {
           "color": "#2a3f5f"
          },
          "geo": {
           "bgcolor": "white",
           "lakecolor": "white",
           "landcolor": "#E5ECF6",
           "showlakes": true,
           "showland": true,
           "subunitcolor": "white"
          },
          "hoverlabel": {
           "align": "left"
          },
          "hovermode": "closest",
          "mapbox": {
           "style": "light"
          },
          "paper_bgcolor": "white",
          "plot_bgcolor": "#E5ECF6",
          "polar": {
           "angularaxis": {
            "gridcolor": "white",
            "linecolor": "white",
            "ticks": ""
           },
           "bgcolor": "#E5ECF6",
           "radialaxis": {
            "gridcolor": "white",
            "linecolor": "white",
            "ticks": ""
           }
          },
          "scene": {
           "xaxis": {
            "backgroundcolor": "#E5ECF6",
            "gridcolor": "white",
            "gridwidth": 2,
            "linecolor": "white",
            "showbackground": true,
            "ticks": "",
            "zerolinecolor": "white"
           },
           "yaxis": {
            "backgroundcolor": "#E5ECF6",
            "gridcolor": "white",
            "gridwidth": 2,
            "linecolor": "white",
            "showbackground": true,
            "ticks": "",
            "zerolinecolor": "white"
           },
           "zaxis": {
            "backgroundcolor": "#E5ECF6",
            "gridcolor": "white",
            "gridwidth": 2,
            "linecolor": "white",
            "showbackground": true,
            "ticks": "",
            "zerolinecolor": "white"
           }
          },
          "shapedefaults": {
           "line": {
            "color": "#2a3f5f"
           }
          },
          "ternary": {
           "aaxis": {
            "gridcolor": "white",
            "linecolor": "white",
            "ticks": ""
           },
           "baxis": {
            "gridcolor": "white",
            "linecolor": "white",
            "ticks": ""
           },
           "bgcolor": "#E5ECF6",
           "caxis": {
            "gridcolor": "white",
            "linecolor": "white",
            "ticks": ""
           }
          },
          "title": {
           "x": 0.05
          },
          "xaxis": {
           "automargin": true,
           "gridcolor": "white",
           "linecolor": "white",
           "ticks": "",
           "title": {
            "standoff": 15
           },
           "zerolinecolor": "white",
           "zerolinewidth": 2
          },
          "yaxis": {
           "automargin": true,
           "gridcolor": "white",
           "linecolor": "white",
           "ticks": "",
           "title": {
            "standoff": 15
           },
           "zerolinecolor": "white",
           "zerolinewidth": 2
          }
         }
        },
        "title": {
         "text": "Total Explained Variance: 58.60%"
        }
       }
      }
     },
     "metadata": {},
     "output_type": "display_data"
    }
   ],
   "source": [
    "[X_train, _, y_train] = load_data()\n",
    "\n",
    "pca = PCA(n_components=3)\n",
    "pipeline = Pipeline([('scaler', StandardScaler()), ('pca', pca)])\n",
    "components = pipeline.fit_transform(X_train)\n",
    "\n",
    "total_var = pca.explained_variance_ratio_.sum() * 100\n",
    "\n",
    "fig = px.scatter_3d(\n",
    "    components, x=0, y=1, z=2, color=y_train,\n",
    "    title=f'Total Explained Variance: {total_var:.2f}%',\n",
    "    labels={'0': 'PC 1', '1': 'PC 2', '2': 'PC 3'}\n",
    ")\n",
    "fig.show()"
   ]
  },
  {
   "cell_type": "code",
   "execution_count": null,
   "metadata": {},
   "outputs": [
    {
     "data": {
      "application/vnd.plotly.v1+json": {
       "config": {
        "plotlyServerURL": "https://plot.ly"
       },
       "data": [
        {
         "diagonal": {
          "visible": false
         },
         "dimensions": [
          {
           "axis": {
            "matches": true
           },
           "label": "PC1 (27.8%)",
           "values": [
            3.0361370527366316,
            -0.001275501058221827,
            0.9697507474974818,
            -0.9618315923886022,
            -1.8221235172121775,
            0.21494515347870485,
            1.2736887028822808,
            0.7128607944778173,
            1.7431399623176853,
            -0.058114949802246366,
            -2.1421929442730283,
            1.1621183138934088,
            0.9745455665904529,
            0.22775390260454462,
            -0.708185022337886,
            0.2554931874425986,
            4.041888912573031,
            4.415982497179621,
            -1.476597409905043,
            -1.4840398626233866,
            0.651320985262199,
            1.3758917055525632,
            4.190539241008538,
            -0.09171292171127018,
            0.18215447698477716,
            -1.4801060932426822,
            -1.5694169847675006,
            4.809936077728537,
            -0.7663321320404141,
            5.656866092515911,
            -0.4181835602467128,
            0.46108937698943153,
            1.4651185094891095,
            0.4215961607395746,
            0.8493701953734423,
            0.28679424265841436,
            -1.3942023675302528,
            -1.6604139513126834,
            4.297594826547333,
            0.3967239441872264,
            3.394725941302476,
            0.038079781497503094,
            -0.41767156738882677,
            -1.6076476954041046,
            -4.214232284907253,
            0.36245294341648054,
            0.6373393734882679,
            -0.20268789559427788,
            1.1216648560309976,
            -0.5644706255660876,
            -1.1630246522111973,
            -1.647899185866963,
            2.3245031888188263,
            0.22701061430676697,
            -2.0685776494852828,
            1.5853727595947593,
            2.2071191754507136,
            0.28842988220973415,
            5.515042435663424,
            -1.4947280525726496,
            -2.1486372229537976,
            -1.1287842620945308,
            -2.0680021251951164,
            -0.29439861062338174,
            -1.4337362715620032,
            1.2389666524420564,
            -0.25394261129438817,
            -2.7152549473244854,
            -0.2868280584581098,
            -0.39451783969140547,
            -0.9184731198364681,
            1.5879677114574646,
            -2.349336221658703,
            -0.6125288481438101,
            0.00817927309153127,
            -1.6844869008950045,
            -0.37142918973164546,
            2.405791925142129,
            0.8161597486494756,
            -2.846177854054662,
            4.415019103525185,
            -1.8892777686222957,
            2.008349278036839,
            0.7553502801169818,
            -4.368529397978769,
            -0.47132377633123196,
            -1.7873538144404346,
            0.11565605480727587,
            0.012199620913697695,
            -2.0000318960654555,
            3.144630145618076,
            0.7672594557849082,
            0.24344329126021383,
            -4.376091447628484,
            -2.2571707664901135,
            1.1251151892736544,
            2.1001949236329445,
            0.4702083629502733,
            2.116871205575955,
            -0.5841426636038624,
            -1.9542235728562025,
            -0.8394266591380016,
            -0.5339110832472512,
            -0.3100646306809112,
            -1.0421431560869976,
            1.5488018866528714,
            1.5829135333596567,
            1.4254001310661497,
            -4.554030485157743,
            1.2967642448051162,
            -1.5669581377455397,
            0.494500976833428,
            -1.7610490039611773,
            -0.724135988813121,
            0.313457186065187,
            -0.9323491922763675,
            -0.3173984617293325,
            7.76027541120412,
            1.1838866423742607,
            1.4459972413493727,
            -0.27700062691119565,
            -3.8525184082649537,
            -0.08716523698255894,
            0.45381436183950496,
            -4.634555449332813,
            0.47246591208509314,
            -1.5204698598551178,
            0.7085786363184811,
            -2.0746593733130996,
            -2.8153879999975358,
            2.17169725279269,
            -1.5092816638853863,
            -1.1513971576512485,
            0.45341543163439463,
            1.697233876670459,
            -3.3403333038785967,
            -1.6135461394257402,
            0.449109239298104,
            1.0778559326422161,
            2.2884346387497834,
            -1.276534362134248,
            -1.0759889277788646,
            2.390442616299234,
            0.31686733243615883,
            2.711035603665887,
            -1.4243309353654043,
            -0.3380488557187976,
            -0.9156482393254709,
            -1.8164063137839679,
            3.20587500896752,
            0.61255776148122,
            -1.6452504045064988,
            1.3840934640849085,
            -1.3363782635299806,
            -2.1953962696954394,
            -1.1392938753385986,
            -1.7819140016712725,
            -2.9500525841133514,
            1.3079376967719472,
            -0.741612225667179,
            3.6443871421250935,
            -1.4860200811582127,
            0.030513895916264803,
            2.4486131707487506,
            -1.1793455365804015,
            -1.4193346785495533,
            1.2687479163496864,
            0.756156166182426,
            0.03628745793691604,
            -1.1382801751547125,
            -0.21095593810476437,
            1.4153217685187525,
            -0.9882193051175389,
            0.5647961095191325,
            -0.4274660422156437,
            -2.6487895128397096,
            -1.7950365213226709,
            -1.0386205185335766,
            2.420598854319076,
            -1.1115558326729997,
            -4.444056506546186,
            -5.135199423950854,
            2.5414142480091466,
            -0.7365734010954769,
            -2.6999438341251123,
            0.0781443950877031,
            0.28258439537174596,
            -1.8370946556145582,
            0.0938141513554088,
            -2.401714007221625,
            3.668297221066705,
            0.5217627463402145,
            -2.653482161099102,
            -2.642488492866949,
            -0.36924298405665873,
            -0.7820340824857518,
            -0.7635634727392134,
            -0.9653646755226918,
            1.0930525395564723,
            -2.0099449107995278,
            0.3338195491517941,
            -1.8203235256333288,
            -1.5941397956846135,
            0.37718645277584956,
            -1.9268072538697871,
            0.16495405190535817,
            -0.4687558694791234,
            0.9170586832538723,
            1.4339712717788233,
            -4.442870352165554,
            8.15736208209837,
            6.012018517539007,
            -1.7813939188147552,
            -0.5267409300655793,
            1.153186634332785,
            -0.6918857408755877,
            0.5157428753177128,
            0.08994726183835182,
            0.606947970773864,
            -4.406577415947029,
            -1.760174541639766,
            5.003085221781139,
            -5.105695677312667,
            2.010268951589489,
            -1.4738843219238398,
            0.6296103822898643,
            0.12125737865115625,
            -0.9210655965748202,
            1.5953973600308167,
            -1.7895194721442067,
            1.0828282816812769,
            -4.027527485176603,
            0.9884235760102846,
            -1.8699652652064576,
            5.955684366862343,
            -2.441343740019149,
            -0.06348074737497633,
            -2.0140252765671,
            1.45944206286733,
            -1.6775148918909466,
            2.9811288322894574,
            -0.17442559131833857,
            -1.0036404258257572,
            -2.606639534643696,
            2.479704772359708,
            0.5421727439619644,
            4.983674627748908,
            -1.7487506876641137,
            -0.6907197627945582,
            -1.2694682555616497,
            -0.512692666883277,
            -0.8532566134320079,
            -0.7019295347115005,
            -2.1595784122006663,
            2.7007203886554785,
            0.7874373723841502,
            -0.04072541422989677,
            -0.045720152779540266,
            4.410422938492218,
            -2.127002800438406,
            -3.293336468116563,
            -3.1139437655614297,
            -0.13292266689464952,
            0.5100738403280655,
            -0.6584404398408951,
            -0.9383358769071289,
            3.868805350327073,
            1.7227600675882775,
            0.5056205994871098,
            1.516839508526836,
            0.3428908042751527,
            4.989083750987781,
            7.378832824189869,
            -0.7073477244756224,
            0.04703839529840767,
            -1.2086629180035582,
            1.6590739335050029,
            2.2639249472503087,
            -2.277015332922228,
            2.5208546978625073,
            2.9400258238619617,
            1.556353457425103,
            -4.241611228372954,
            0.4700850094189326,
            1.4383962860445054,
            1.0713294361477623,
            3.8000969522349908,
            -2.036125257116605,
            -0.33547190449316056,
            4.399688891179394,
            0.8273231403185449,
            0.41491170311694725,
            -2.774031899559109,
            -2.765924614974889,
            1.4796355394932568,
            -2.8756282169060663,
            1.0925396162904268,
            -0.7383823631780427,
            0.40240929699496947,
            0.14096502897609667,
            1.0573033102798408,
            -2.223840593583598,
            1.5508927596010775,
            -0.4451970745074734,
            -1.9695684183741904,
            1.9424147690921238,
            -1.704244743858599,
            -3.5750848692826906,
            -0.30052454956575236,
            0.2762121426025607,
            2.2786596346957606,
            -0.3069080742114344,
            0.9576246035710166,
            0.7794680747739813,
            0.5123863119112515,
            -1.9821808108231433
           ]
          },
          {
           "axis": {
            "matches": true
           },
           "label": "PC2 (17.3%)",
           "values": [
            -0.749613739244994,
            -1.695048686965662,
            2.3749419678521124,
            1.721597068950587,
            2.391247096449241,
            0.28560025397076266,
            -1.6919030957687644,
            -0.2858175904087721,
            3.34721738604834,
            -0.03803626619458686,
            2.088526966840423,
            -0.9479933224965088,
            1.775060489460732,
            -1.6562238478233904,
            2.674983728403662,
            2.4559408775379463,
            1.6792710138647786,
            -0.0941114916470846,
            1.539296078595453,
            1.5322548175475497,
            -2.206747129510255,
            -1.5344080715851118,
            2.2310642360642707,
            -1.94116365711609,
            0.2632634473734112,
            1.3432196407083574,
            -2.0268913261789385,
            0.9052744587502641,
            -2.0430291340291244,
            2.680250136161802,
            -0.5481048248670619,
            -1.8283026885844378,
            -1.0709517804978506,
            -0.3644590941937023,
            -1.8385592752425783,
            -1.802341417039265,
            1.180847672645829,
            1.803384805793764,
            -0.17758512529701587,
            0.696542298153436,
            -0.8259486449980064,
            1.6127447629796468,
            -1.6655737100748231,
            1.2732877087633447,
            1.6792423390946514,
            -1.801816218572699,
            -1.6547564316472976,
            0.20627894846106204,
            -0.8912604326863313,
            -0.75008367483194,
            1.6290956534196557,
            2.3328562713919387,
            -0.5542392337853685,
            -0.5388819981721954,
            1.894800976515424,
            2.1512789196479365,
            -1.084422239151464,
            0.18309177945842092,
            1.9278259461158613,
            -3.0763533376410566,
            1.5677162132057088,
            2.0637622434336196,
            1.7871729815667425,
            -0.028758645160846478,
            -2.4722325114192913,
            0.4428647709873688,
            -1.5887138249636368,
            2.0026648566637184,
            -0.30501751444382674,
            -1.9921062751184386,
            -2.210682865744208,
            -2.516100878133636,
            1.3855278182471629,
            -0.6272683466743909,
            -0.19023492500641445,
            -0.7952169433937731,
            -1.824555394069272,
            -0.8205085220506464,
            -1.7297472801533464,
            2.4804734323410504,
            0.7130967042147939,
            1.8366382128048007,
            5.540868522197556,
            -1.8774379583527947,
            0.7580002587863491,
            -1.5530744516428574,
            2.0525657784762967,
            -1.5344901916996871,
            0.12473516562077552,
            -0.7697365481826344,
            -0.918072097757239,
            -2.4949286949157488,
            -1.700625176469048,
            1.145040366429414,
            -1.265549519171405,
            -1.2558383054234283,
            -0.9617732471753992,
            0.21985817079832984,
            3.52870264369067,
            -1.1836092685009538,
            -2.3927394737443355,
            -0.3925903831018148,
            -2.093194362622997,
            -0.922802674841554,
            -0.05998534073709039,
            -1.0401706370508514,
            0.27521779773536925,
            -2.713413778891333,
            0.9114304366413197,
            -1.550893312723632,
            1.5580494046786246,
            -0.07565105751057159,
            1.9651567339483171,
            -0.2206430275784002,
            -1.6912174703878964,
            -1.7122536309027594,
            0.16468467541761933,
            3.6206193566831457,
            -2.3354279635276565,
            -1.1392801956370653,
            -1.7912354549221816,
            1.5151225206103336,
            1.105740313670472,
            -1.7641982501493938,
            1.2066618706833114,
            -1.6920880873074033,
            -0.29757883682713027,
            0.3304012611606115,
            1.9367833022565073,
            1.9069989757261323,
            -2.1203335613391796,
            -1.2473496965692787,
            -0.1789348117036323,
            -0.5066488049661618,
            -2.358914270680778,
            1.9121417805188803,
            -1.1642750505334167,
            0.2854102553655989,
            -2.9547587451842654,
            -0.8192821654185445,
            -0.14184323527078924,
            -0.38765229291543024,
            -0.5918848024549556,
            0.3288367435616454,
            0.10874856830845749,
            -2.1417527839093085,
            -1.7534935422822642,
            -2.278347636127693,
            1.7951579718342519,
            0.7123779826404335,
            -0.10184193093734067,
            -1.0021046911126974,
            -2.4734773663547385,
            -2.006925194788838,
            2.0543520313149957,
            -0.6235491676975019,
            -0.28093286501638115,
            0.6747796113963789,
            -1.2359758311617088,
            0.18556205839204698,
            1.2329092557049894,
            -2.3647372776342515,
            -0.012568207599124777,
            0.7903984312029206,
            0.05102591214421089,
            2.1026297729349013,
            -1.4773965345635305,
            -0.18176308317629766,
            -1.5993493838492296,
            2.27837169324543,
            1.334563312834302,
            0.5990187782099896,
            -0.8529983757138764,
            0.6030066666205938,
            2.167994890613614,
            2.135378806472983,
            1.2396460524602504,
            -2.199027070865572,
            -0.18285162395475368,
            -0.7433058224782304,
            1.1762384046305063,
            0.7392923293454425,
            5.099650251400664,
            1.6293964507136154,
            1.0182428669257912,
            0.10902498579746547,
            -2.4724383663489933,
            2.0521402064763623,
            -2.019540766451255,
            1.3742676786628842,
            1.5106201480178691,
            -0.494381965109889,
            1.742847343489987,
            1.5688969078129271,
            -1.421635325706017,
            -1.9045727048003227,
            -1.9240540657494174,
            -2.276261992656807,
            -1.1183080025810916,
            1.3963668150771458,
            -1.3738424596700995,
            2.0001041743567183,
            -2.306432010190382,
            -2.0195551653571155,
            -0.7699021533980078,
            0.23070614128156705,
            0.2719960929196688,
            -2.0971526131607354,
            -1.7749637999285646,
            2.542554078158425,
            2.307411218177776,
            1.3496611629201896,
            1.2263252222988243,
            0.31009935618895285,
            -3.1210327680126344,
            -2.2686794612189676,
            -1.967583355262452,
            0.23256385087885653,
            -1.7444322490103499,
            1.7995113695482894,
            1.4431234936793391,
            4.978977139396478,
            1.6052668275395876,
            -0.7619395373493426,
            1.872048333900398,
            -1.542330942309622,
            -1.4276937731346138,
            2.8212851075602248,
            2.4333451769531016,
            -1.2510400239994044,
            2.04431149166386,
            1.5004232124212173,
            -1.471692837446494,
            1.8549073157079226,
            0.7492441375630674,
            1.8159782929407287,
            -1.4451099462299928,
            1.8952902880206064,
            -1.7160907454528227,
            -2.437572629365216,
            4.520570670319062,
            -1.5883645937063047,
            1.859371987872608,
            -1.2384221300012226,
            -0.172136475700097,
            -0.32242637485831,
            4.712416093304821,
            -2.2040908833855677,
            0.02875244517568933,
            -1.0847187329084946,
            -0.6774626138442557,
            -0.056061122339732844,
            -1.9485928756811788,
            -2.6799680527787775,
            -1.6992681688273836,
            2.817065687046107,
            0.04673590337653806,
            0.04267873227824235,
            1.468642237690353,
            -1.3737627803226722,
            1.266942185143558,
            1.431483847323661,
            -2.00860205269769,
            -1.7835790569262255,
            1.0951727390690438,
            1.4381113001229273,
            -0.6310805518428357,
            -2.099890302720546,
            0.27674622094900836,
            -1.1322857251007379,
            -0.5809020976905299,
            5.619806805482597,
            3.545045721614489,
            1.474601356201265,
            -0.6185154865141365,
            -2.337547701830746,
            -1.4038311325827422,
            -1.7402461381874426,
            -0.7056279444992092,
            -0.4750641426750839,
            -0.1364559438707375,
            0.5101772768188738,
            1.466613476749777,
            0.16207645295587647,
            -1.788918625980972,
            0.6683267553501556,
            1.6314038813583271,
            1.9692319448321942,
            -1.7867510238181346,
            1.75210637591078,
            -1.4203940508911157,
            -1.9784416052784217,
            1.8788424204912302,
            1.881681814118036,
            -2.1218659353760114,
            1.4011836959321495,
            -1.587118765739816,
            -1.9621978629432848,
            -1.7034257865725686,
            0.3446141165432562,
            -1.1799588500210203,
            1.8677734699790893,
            0.3240300178728932,
            -0.750015824694134,
            1.8572424886758525,
            -0.022266873524416024,
            1.5643203918718773,
            1.3783178769586357,
            -1.017639559893214,
            1.8839047523797898,
            -0.1360239668787557,
            -0.29363477636990054,
            -1.2801839778862512,
            -0.17378032289191805,
            -1.8008301018505575,
            -0.786124837065984
           ]
          },
          {
           "axis": {
            "matches": true
           },
           "label": "PC3 (13.5%)",
           "values": [
            -2.457080749398678,
            -0.15355736420610022,
            -1.4062217308227782,
            0.49449493527611593,
            0.9254890767172577,
            -2.0702294267338743,
            1.0601742452444989,
            0.9606554984603999,
            0.467076388904713,
            -0.7319326235446527,
            4.077088907397868,
            -0.4045179388169045,
            -0.3236512984820316,
            0.5458801552629561,
            0.884661011644001,
            -0.8154281272198873,
            -1.0040378559624776,
            0.9213627383416806,
            -1.399343713006861,
            -1.3466021013454077,
            1.6483816797732715,
            1.8774252935214346,
            -1.0902968175521282,
            0.015481474691390005,
            -2.0315415611134475,
            -1.1977073969658167,
            0.7788082304749107,
            0.7189449782592702,
            -0.24275691719458434,
            0.44512982818662766,
            -0.4603872384724393,
            1.9212178319308766,
            -0.5102171285125404,
            -0.6314846856500372,
            1.7195380773836402,
            1.9280116488780175,
            -1.6678862190978425,
            1.054566442116754,
            -0.11292214869194313,
            -1.7284604642792296,
            1.7953019914108317,
            -1.010609858453583,
            -0.730129124669034,
            3.9593570015555684,
            0.597784784840805,
            2.891184347862297,
            0.0018742647514249228,
            -2.212214953797043,
            1.7472209748049186,
            -1.3829970349397362,
            0.791251414521284,
            0.15115603452266302,
            0.2809187877372078,
            0.10284084648007233,
            1.9686155422638176,
            -1.5317616110448553,
            0.14978488228789755,
            -0.5597639461241612,
            -0.29469375959258226,
            -3.4296602881134266,
            -0.8588399186468962,
            0.7916647492049941,
            -0.8725643344815056,
            -1.7391492449901487,
            0.7586984399754666,
            -2.1536571527512343,
            -1.15950797592661,
            2.9890997068273224,
            -0.8501522571968051,
            0.6772600086671468,
            -0.4046744552392818,
            0.20277171582854758,
            -1.2891763457655923,
            -1.1192273545068925,
            -1.2939201514317251,
            -1.40497006828174,
            0.708367586829541,
            1.0023046139049003,
            0.8779376537609204,
            -0.19011686544532141,
            -0.32342542615650294,
            1.0060513999155858,
            3.376003077419495,
            0.733187234615084,
            2.0567948234236497,
            -0.27079572771522786,
            1.071476255181809,
            -1.3131337134205856,
            -1.9969712984214028,
            -2.374137039448939,
            -2.31286564068683,
            -3.4727495266690442,
            1.0464224548789745,
            0.9600469091652721,
            -1.2290830685437617,
            -0.5696326086440598,
            0.5083155677330112,
            -0.1243329426934608,
            1.0328850396574925,
            0.052130743207319793,
            2.5643772567118717,
            -1.0742993462981072,
            0.00234420667151833,
            -0.683254090645026,
            -2.607318713363354,
            0.8209138661452972,
            -1.6163554762253518,
            -0.8550744305383768,
            0.655743433368723,
            0.989995749012209,
            -1.5349783678022901,
            -1.1114126037954462,
            1.7178701489272512,
            -0.31432475964160245,
            2.6947716831723465,
            -2.4966413504274287,
            -2.1119869060050704,
            0.07983933864389284,
            -2.2795334230145143,
            2.0595262478555596,
            0.6029209817146872,
            -1.970338569339016,
            -1.3572165597401207,
            2.1504065567901947,
            0.5191492761485238,
            2.6886672507493565,
            -2.892398126431138,
            -2.1572201934807844,
            2.1789132137707012,
            -0.24249499088975995,
            -1.6861729491704556,
            -0.8259373311794378,
            -2.280318690855569,
            -0.11452492467786249,
            -0.39906978851037717,
            0.4236640772725718,
            -0.895431814619313,
            -1.0626997240376967,
            -0.135226299301413,
            -0.6070514323501264,
            -2.2796165064748086,
            -1.418725562042646,
            1.8572075172334561,
            -2.3800550437687287,
            -0.49187505935612924,
            -0.315651386100183,
            1.1397222507763787,
            0.5128484734345186,
            1.0166331542453533,
            -0.3159869499671542,
            -0.729547857972847,
            -0.5032707483756672,
            -0.4012055331022404,
            1.2024895568138305,
            2.575263836842692,
            -1.3908874895807533,
            -2.1455642063841336,
            -2.9202116578864845,
            1.6600010642786458,
            -1.7516110181349307,
            -0.5248501537640511,
            -0.1513052903468879,
            -1.0742049506524471,
            -0.8578289411843171,
            -2.4744319749802153,
            0.49444401791603854,
            0.13652287043952735,
            -0.265239230246441,
            0.06769427198709638,
            1.2195680141215621,
            -0.6929505876074511,
            -0.46425448051697477,
            -0.5952586341453662,
            -1.5579376619893686,
            -0.4433928882694421,
            0.5737064485903794,
            -0.8814934345694923,
            1.208519887043812,
            -0.4986030699088085,
            -0.732933276593434,
            0.5965776685761108,
            1.7024254535136822,
            0.32739813020720915,
            -0.1323489892086096,
            -0.7667972800674746,
            -1.3383057373705853,
            3.0585125979905774,
            1.8202480371147074,
            4.911337929843529,
            -0.34686299519520425,
            -0.9836449225311107,
            0.4997471472341744,
            -0.30782901085722525,
            -0.11468503065286345,
            -1.217768994912188,
            -0.5798190984950414,
            -0.30051607183414236,
            1.3469779742567747,
            1.8349916621163032,
            -0.7021397526965324,
            -0.010928440166151028,
            1.2986584583254246,
            2.8159256067146448,
            2.03677588823541,
            -1.8697523693922964,
            -1.7581791315639208,
            -2.1757881500240743,
            1.2113567046815268,
            -2.0355187453539725,
            1.7009534653447544,
            1.5184505449212793,
            1.4053944676381018,
            -1.7429851793698077,
            -2.328988145928991,
            -0.9232801159985974,
            2.2118169226431736,
            1.6086599331939928,
            -1.5459905979765263,
            0.9194908317842814,
            1.677776530847735,
            -1.0574718453889471,
            -0.8379761161432919,
            1.6088548464401726,
            -2.8186790718657875,
            0.1775462237250793,
            -0.36157145362840487,
            -0.3822303305713608,
            1.2066402245990417,
            -0.9417559876464782,
            -0.5676643633518538,
            -1.381819776771202,
            -0.015031754011965952,
            -0.6105553712834897,
            -0.7564663347524682,
            0.1069651836073009,
            2.6399749487876454,
            -1.4101077978485097,
            3.2862473618666908,
            2.7955991019175115,
            1.6643835428699714,
            0.7157372624275193,
            0.4109236754279577,
            2.3763765764150597,
            -1.0175593981934197,
            -0.003921660766530379,
            -0.03587355156329019,
            0.24198348452218005,
            1.4070165127846814,
            -2.3818780754236424,
            0.7315733243543353,
            -0.9690637046530252,
            -2.274027717095653,
            -0.38867749633790144,
            -0.1743246272846418,
            1.5800904720736233,
            1.6179832436204054,
            -0.8086718149533877,
            -0.775810517294182,
            1.6765465096838086,
            -0.6699269275862647,
            -0.045170269891495286,
            -0.8363620276458269,
            1.8997070030968404,
            4.350355908670931,
            -1.5179204863745825,
            0.6243451990606785,
            2.4138519128284943,
            -1.9342747517343857,
            -2.4913073784011344,
            -0.9736348113458535,
            0.6130495568546365,
            0.21315831870123444,
            1.3871599140518638,
            -0.06851710168043307,
            -0.5231393298323496,
            0.12272044740280834,
            3.0237273319007296,
            1.6198764578125873,
            -1.9369008462633392,
            -0.5302195058005945,
            0.05722175015815103,
            -1.014738051527809,
            0.4687528569891879,
            -1.8792036061486783,
            0.2758868720695033,
            -1.4403461615823772,
            -0.22665335028335426,
            2.811347040745176,
            -0.6086345154756503,
            -1.1829161081367112,
            1.5594481298210727,
            1.3033753545277087,
            1.7050018770593793,
            1.6317004035737466,
            0.8013587567603568,
            -0.6371473684173773,
            2.9894477394593117,
            3.5201036313268155,
            0.7829648723949251,
            -2.0805318630482224,
            -0.8765861311914197,
            -0.6270809401563652,
            -0.6522621708417442,
            -1.0017396651412862,
            3.84037434700428,
            0.4619303414257269,
            -1.550066793580393,
            -1.2053691379876406,
            -0.41225322586033725,
            -0.6415043672534163,
            2.1854939809666045,
            -0.42282214769698734,
            2.036038182423089,
            -0.5071611883699664,
            1.2440251240603355,
            -1.7581542950221152
           ]
          },
          {
           "axis": {
            "matches": true
           },
           "label": "PC4 (9.8%)",
           "values": [
            -0.10647804602744187,
            0.531049526147255,
            -0.41901178328497163,
            -0.12168914902686431,
            -0.6040974953957069,
            -0.07446472530304149,
            -0.2360804273357115,
            1.8692619056215585,
            -0.8430033580218889,
            0.4663399134665283,
            -1.6852553515302755,
            -0.9435003821324163,
            -1.3914047230442517,
            1.867854534146815,
            0.4984443945113865,
            -0.27984573633370274,
            -0.09022157549384972,
            0.6269573724469741,
            -0.2250549485942134,
            -0.22202339604904084,
            -0.6633229720366012,
            -0.3013523724292866,
            0.1048944638478835,
            0.5576157314613178,
            -0.159628944025347,
            -0.9365585827451336,
            1.5104188322454417,
            1.453861185204408,
            0.71433966372623,
            2.1680608337153626,
            0.035825776325658094,
            -0.40428258036000597,
            -0.9072208221878462,
            -0.07564570394025874,
            -0.5482271750992835,
            -0.367680215396527,
            0.1155856904438819,
            -1.8452533500210409,
            0.39722992660168044,
            0.4191456576075893,
            -0.007548171214520658,
            -1.4264878889624497,
            0.946538345803124,
            -1.2085693411612783,
            -0.07844491271427759,
            -0.24768188484339354,
            -0.6262459007671162,
            -0.1911118793807166,
            -0.6069072950696714,
            0.14774957891251225,
            -1.8215969176535733,
            -0.7091790293638707,
            -0.855367285955327,
            -1.0261692798299846,
            -1.7451052389300155,
            -1.7178943973345122,
            -0.7110863368272474,
            -1.0181431276968171,
            1.3256429669124383,
            -0.33089977509433394,
            -0.41030496220385565,
            -1.7700450301634514,
            0.4274595329707325,
            -0.077089713881276,
            1.301478329408768,
            -1.167117657375348,
            2.021906481569113,
            -1.9183864642681554,
            0.5428130918008417,
            0.8440223380121455,
            0.6841381348829831,
            -2.918230617146716,
            0.10392678392332377,
            0.4399422075774535,
            0.06517390917770832,
            0.4388058582424087,
            0.52485344659024,
            -0.6974795941639834,
            0.2030711097737455,
            1.628768346913342,
            -0.18321006313569455,
            -2.1627678429978885,
            2.9341056410370263,
            -0.663301295607609,
            0.625427110579011,
            1.874459661156978,
            -1.8109059968217327,
            1.432481002054413,
            0.520010710376074,
            1.1532561728400337,
            -0.2085543531366971,
            -1.5559946827947495,
            0.6883804163057596,
            0.3570487333655336,
            1.3374868181651283,
            -0.7678170697189942,
            -0.44181396452280153,
            -1.0248373934670945,
            -1.1141732569090956,
            0.73371562068112,
            1.6438066579633817,
            0.22941713216378498,
            0.5034241517673722,
            0.4519840581958162,
            0.18357127374445348,
            -0.6420820398805794,
            -1.0449893340513432,
            -3.4858251292713827,
            1.3403640160400447,
            -0.423237733118416,
            -0.8178488758745759,
            -1.1233770544815542,
            -2.043990396571504,
            0.3024730259811322,
            -0.28265185992474745,
            1.4532780374513028,
            0.27793617745127036,
            2.8223635140205103,
            -3.7377941620381256,
            -0.6001580230967484,
            0.498630746305694,
            4.900021588941329,
            -1.6835793407026969,
            -0.5486401029698617,
            0.31439251983242866,
            -0.2915968102309557,
            0.6501365526639256,
            -1.1584469638126103,
            -1.787497068238912,
            -0.13909954141518374,
            -2.9641248816878405,
            0.5607248688281361,
            1.000049511049953,
            -1.113627273979251,
            -2.8772054789769643,
            1.035114248691818,
            1.4019374565443068,
            -1.2371190373217529,
            -2.8515496466309336,
            -0.6363821324559198,
            0.9364927608947856,
            0.6706972996367611,
            0.8793254179745631,
            -0.0013459592539092355,
            -0.7752851458812293,
            1.0786640025740295,
            1.5791433932726089,
            1.0408661027103454,
            -1.9748667632199841,
            0.016640481824514157,
            -1.1810937396769767,
            0.7878434271135586,
            -2.7869555217439204,
            1.2803141780549416,
            -0.7064263318062818,
            0.49129768923713785,
            0.5107024427698647,
            1.5303309309612443,
            0.40827898918048017,
            0.6948365362905025,
            0.28047413207340044,
            2.608576050517415,
            0.29784690198276814,
            0.8865884761272809,
            0.506328563152907,
            -0.001622478174963134,
            -0.40717687816020603,
            0.06708275203686473,
            1.1116001054205624,
            -1.1103892810602758,
            -1.3931389563461674,
            -1.1651023877406923,
            0.7256000847776585,
            0.02909671885910625,
            -0.7451125389368709,
            0.5932002446042731,
            -0.16372464436507342,
            2.1673127573560103,
            -0.43880396038821545,
            1.2599093814105622,
            0.5361262259809452,
            1.960685048013296,
            2.416924159615203,
            -1.717558583219172,
            -0.3250999674822058,
            0.007459757619517793,
            0.6605659129358449,
            -1.951798904759551,
            -0.10965109450862306,
            -0.1366151042516187,
            0.33527369793778045,
            0.09205161262535945,
            -0.4055938800789053,
            -0.38294051985254846,
            1.2630147379521923,
            2.537171084170707,
            2.5717317789865097,
            1.395894891116781,
            -0.4366438048494776,
            -0.10581801953649977,
            0.48033179207606097,
            -2.0262936277301593,
            0.9161798636780895,
            -0.6560828183467584,
            0.8890655397220292,
            -0.24914720944899066,
            0.6236597872140297,
            -0.480319411722835,
            -3.0249437937917505,
            3.908926028026179,
            4.409796095123824,
            2.6964033633778834,
            -0.42236549660131456,
            0.5210382638089398,
            -3.6323420580389354,
            0.523354790383889,
            -0.31440770388029765,
            -0.15665701084422184,
            0.2001007346381993,
            0.7402270661614504,
            -0.5273311650395903,
            0.61663065364299,
            1.5083448468388614,
            -4.265566357642835,
            -0.09584426427542576,
            -0.7275857072274946,
            2.221007978237586,
            -1.8389056657959286,
            -1.4189215315228432,
            0.5285439936319174,
            -1.497935435219575,
            -0.11838540665948338,
            -0.9353366283253399,
            0.6310975828931541,
            2.300381531376554,
            -1.929035251561612,
            0.49185126314618544,
            -1.8609878085270208,
            -0.39940201367659556,
            1.1591892051426615,
            0.36445399082463636,
            0.9766509106380691,
            -1.6724115435241875,
            1.291813620077396,
            -0.5145437870969076,
            -1.0549287524846978,
            1.211084550814885,
            2.073385372586379,
            -0.1186600613599067,
            0.7029515880601019,
            0.7547378931534211,
            0.16828344301747258,
            2.0343594426177867,
            1.52319527540229,
            -0.21006399373521642,
            -1.1311422057184333,
            0.008515295913978645,
            0.010391190043184806,
            1.360219777328685,
            0.6487122887065631,
            1.194580147062751,
            -0.03396965812360545,
            0.9567081805418624,
            -0.14268791610067136,
            0.404845923961963,
            -1.7110242024647901,
            0.43973686875899853,
            -3.7035392969313157,
            -0.1416223914055683,
            -0.8743823114804748,
            0.6354568175911586,
            1.715000977844283,
            3.9244224907762453,
            -1.6916494548324477,
            0.3814212303994262,
            0.6289275350742659,
            -0.15414403859332917,
            0.013954047808695505,
            1.2981396398188523,
            -0.8092776408913882,
            -0.6701397487932806,
            -0.9314697494161882,
            1.1906295396641244,
            -0.34524189929186927,
            -0.693009631189736,
            0.014183275820836538,
            0.6512530745531249,
            -1.8719219406149115,
            0.656324017681202,
            0.5823127917847312,
            -0.4681720109466415,
            -0.6620189661183888,
            -1.285067603524754,
            -1.2910107192949898,
            -0.5574854160723981,
            -0.5680756989592699,
            -0.38352092082164907,
            1.5115277812081045,
            0.5686145624196555,
            0.05314401003657474,
            0.4384181973567807,
            0.6648332021486679,
            0.9709575788087771,
            1.1119423238138306,
            -1.578228066369754,
            -0.6962322461828594,
            -0.27872389060063696,
            0.2822547959275897,
            0.12462130549056075,
            -1.734778562528307,
            -0.48736026527573467,
            0.21741421132762667,
            -0.4062854148977943,
            0.16842355079020266,
            -0.4543987457666496,
            0.7702897875088538
           ]
          }
         ],
         "hovertemplate": "%{xaxis.title.text}=%{x}<br>%{yaxis.title.text}=%{y}<br>color=%{marker.color}<extra></extra>",
         "legendgroup": "",
         "marker": {
          "color": [
           1,
           0,
           0,
           0,
           0,
           0,
           1,
           0,
           0,
           0,
           0,
           0,
           0,
           0,
           0,
           0,
           0,
           1,
           0,
           0,
           0,
           0,
           0,
           0,
           0,
           0,
           1,
           0,
           0,
           0,
           0,
           0,
           0,
           0,
           0,
           0,
           0,
           0,
           1,
           0,
           0,
           0,
           0,
           0,
           0,
           0,
           1,
           0,
           0,
           0,
           0,
           0,
           0,
           0,
           0,
           1,
           0,
           0,
           0,
           1,
           0,
           0,
           0,
           0,
           0,
           1,
           0,
           0,
           0,
           1,
           0,
           1,
           0,
           0,
           0,
           0,
           0,
           0,
           0,
           0,
           0,
           0,
           0,
           0,
           0,
           0,
           0,
           0,
           0,
           0,
           1,
           1,
           0,
           0,
           0,
           0,
           0,
           0,
           0,
           0,
           0,
           0,
           0,
           0,
           0,
           0,
           1,
           1,
           0,
           0,
           0,
           0,
           0,
           0,
           0,
           0,
           0,
           0,
           1,
           1,
           0,
           0,
           1,
           0,
           0,
           0,
           0,
           1,
           0,
           0,
           1,
           0,
           0,
           0,
           1,
           0,
           0,
           1,
           1,
           0,
           0,
           0,
           0,
           0,
           0,
           0,
           0,
           0,
           0,
           1,
           0,
           0,
           1,
           0,
           0,
           0,
           0,
           0,
           0,
           0,
           0,
           0,
           0,
           0,
           0,
           0,
           0,
           0,
           0,
           0,
           0,
           0,
           0,
           0,
           0,
           0,
           0,
           0,
           0,
           0,
           0,
           0,
           0,
           0,
           0,
           0,
           1,
           0,
           0,
           0,
           1,
           0,
           0,
           0,
           0,
           0,
           0,
           0,
           0,
           0,
           0,
           0,
           0,
           0,
           0,
           0,
           0,
           0,
           1,
           0,
           1,
           1,
           0,
           0,
           1,
           0,
           0,
           0,
           0,
           0,
           0,
           1,
           0,
           1,
           0,
           1,
           0,
           1,
           1,
           0,
           1,
           0,
           0,
           0,
           1,
           0,
           0,
           0,
           0,
           0,
           0,
           0,
           0,
           0,
           0,
           0,
           0,
           0,
           0,
           0,
           0,
           0,
           0,
           0,
           0,
           0,
           0,
           0,
           0,
           0,
           0,
           0,
           0,
           0,
           0,
           0,
           0,
           1,
           0,
           1,
           0,
           1,
           0,
           0,
           0,
           0,
           0,
           0,
           0,
           0,
           1,
           0,
           0,
           0,
           0,
           0,
           0,
           0,
           0,
           0,
           0,
           0,
           0,
           0,
           0,
           0,
           0,
           0,
           0,
           0,
           0,
           0,
           0,
           0,
           0,
           0,
           0,
           0,
           0,
           0,
           0,
           0,
           1,
           0,
           0,
           0
          ],
          "coloraxis": "coloraxis",
          "symbol": "circle"
         },
         "name": "",
         "showlegend": false,
         "type": "splom"
        }
       ],
       "layout": {
        "coloraxis": {
         "colorbar": {
          "title": {
           "text": "color"
          }
         },
         "colorscale": [
          [
           0,
           "#0d0887"
          ],
          [
           0.1111111111111111,
           "#46039f"
          ],
          [
           0.2222222222222222,
           "#7201a8"
          ],
          [
           0.3333333333333333,
           "#9c179e"
          ],
          [
           0.4444444444444444,
           "#bd3786"
          ],
          [
           0.5555555555555556,
           "#d8576b"
          ],
          [
           0.6666666666666666,
           "#ed7953"
          ],
          [
           0.7777777777777778,
           "#fb9f3a"
          ],
          [
           0.8888888888888888,
           "#fdca26"
          ],
          [
           1,
           "#f0f921"
          ]
         ]
        },
        "dragmode": "select",
        "legend": {
         "tracegroupgap": 0
        },
        "margin": {
         "t": 60
        },
        "template": {
         "data": {
          "bar": [
           {
            "error_x": {
             "color": "#2a3f5f"
            },
            "error_y": {
             "color": "#2a3f5f"
            },
            "marker": {
             "line": {
              "color": "#E5ECF6",
              "width": 0.5
             },
             "pattern": {
              "fillmode": "overlay",
              "size": 10,
              "solidity": 0.2
             }
            },
            "type": "bar"
           }
          ],
          "barpolar": [
           {
            "marker": {
             "line": {
              "color": "#E5ECF6",
              "width": 0.5
             },
             "pattern": {
              "fillmode": "overlay",
              "size": 10,
              "solidity": 0.2
             }
            },
            "type": "barpolar"
           }
          ],
          "carpet": [
           {
            "aaxis": {
             "endlinecolor": "#2a3f5f",
             "gridcolor": "white",
             "linecolor": "white",
             "minorgridcolor": "white",
             "startlinecolor": "#2a3f5f"
            },
            "baxis": {
             "endlinecolor": "#2a3f5f",
             "gridcolor": "white",
             "linecolor": "white",
             "minorgridcolor": "white",
             "startlinecolor": "#2a3f5f"
            },
            "type": "carpet"
           }
          ],
          "choropleth": [
           {
            "colorbar": {
             "outlinewidth": 0,
             "ticks": ""
            },
            "type": "choropleth"
           }
          ],
          "contour": [
           {
            "colorbar": {
             "outlinewidth": 0,
             "ticks": ""
            },
            "colorscale": [
             [
              0,
              "#0d0887"
             ],
             [
              0.1111111111111111,
              "#46039f"
             ],
             [
              0.2222222222222222,
              "#7201a8"
             ],
             [
              0.3333333333333333,
              "#9c179e"
             ],
             [
              0.4444444444444444,
              "#bd3786"
             ],
             [
              0.5555555555555556,
              "#d8576b"
             ],
             [
              0.6666666666666666,
              "#ed7953"
             ],
             [
              0.7777777777777778,
              "#fb9f3a"
             ],
             [
              0.8888888888888888,
              "#fdca26"
             ],
             [
              1,
              "#f0f921"
             ]
            ],
            "type": "contour"
           }
          ],
          "contourcarpet": [
           {
            "colorbar": {
             "outlinewidth": 0,
             "ticks": ""
            },
            "type": "contourcarpet"
           }
          ],
          "heatmap": [
           {
            "colorbar": {
             "outlinewidth": 0,
             "ticks": ""
            },
            "colorscale": [
             [
              0,
              "#0d0887"
             ],
             [
              0.1111111111111111,
              "#46039f"
             ],
             [
              0.2222222222222222,
              "#7201a8"
             ],
             [
              0.3333333333333333,
              "#9c179e"
             ],
             [
              0.4444444444444444,
              "#bd3786"
             ],
             [
              0.5555555555555556,
              "#d8576b"
             ],
             [
              0.6666666666666666,
              "#ed7953"
             ],
             [
              0.7777777777777778,
              "#fb9f3a"
             ],
             [
              0.8888888888888888,
              "#fdca26"
             ],
             [
              1,
              "#f0f921"
             ]
            ],
            "type": "heatmap"
           }
          ],
          "heatmapgl": [
           {
            "colorbar": {
             "outlinewidth": 0,
             "ticks": ""
            },
            "colorscale": [
             [
              0,
              "#0d0887"
             ],
             [
              0.1111111111111111,
              "#46039f"
             ],
             [
              0.2222222222222222,
              "#7201a8"
             ],
             [
              0.3333333333333333,
              "#9c179e"
             ],
             [
              0.4444444444444444,
              "#bd3786"
             ],
             [
              0.5555555555555556,
              "#d8576b"
             ],
             [
              0.6666666666666666,
              "#ed7953"
             ],
             [
              0.7777777777777778,
              "#fb9f3a"
             ],
             [
              0.8888888888888888,
              "#fdca26"
             ],
             [
              1,
              "#f0f921"
             ]
            ],
            "type": "heatmapgl"
           }
          ],
          "histogram": [
           {
            "marker": {
             "pattern": {
              "fillmode": "overlay",
              "size": 10,
              "solidity": 0.2
             }
            },
            "type": "histogram"
           }
          ],
          "histogram2d": [
           {
            "colorbar": {
             "outlinewidth": 0,
             "ticks": ""
            },
            "colorscale": [
             [
              0,
              "#0d0887"
             ],
             [
              0.1111111111111111,
              "#46039f"
             ],
             [
              0.2222222222222222,
              "#7201a8"
             ],
             [
              0.3333333333333333,
              "#9c179e"
             ],
             [
              0.4444444444444444,
              "#bd3786"
             ],
             [
              0.5555555555555556,
              "#d8576b"
             ],
             [
              0.6666666666666666,
              "#ed7953"
             ],
             [
              0.7777777777777778,
              "#fb9f3a"
             ],
             [
              0.8888888888888888,
              "#fdca26"
             ],
             [
              1,
              "#f0f921"
             ]
            ],
            "type": "histogram2d"
           }
          ],
          "histogram2dcontour": [
           {
            "colorbar": {
             "outlinewidth": 0,
             "ticks": ""
            },
            "colorscale": [
             [
              0,
              "#0d0887"
             ],
             [
              0.1111111111111111,
              "#46039f"
             ],
             [
              0.2222222222222222,
              "#7201a8"
             ],
             [
              0.3333333333333333,
              "#9c179e"
             ],
             [
              0.4444444444444444,
              "#bd3786"
             ],
             [
              0.5555555555555556,
              "#d8576b"
             ],
             [
              0.6666666666666666,
              "#ed7953"
             ],
             [
              0.7777777777777778,
              "#fb9f3a"
             ],
             [
              0.8888888888888888,
              "#fdca26"
             ],
             [
              1,
              "#f0f921"
             ]
            ],
            "type": "histogram2dcontour"
           }
          ],
          "mesh3d": [
           {
            "colorbar": {
             "outlinewidth": 0,
             "ticks": ""
            },
            "type": "mesh3d"
           }
          ],
          "parcoords": [
           {
            "line": {
             "colorbar": {
              "outlinewidth": 0,
              "ticks": ""
             }
            },
            "type": "parcoords"
           }
          ],
          "pie": [
           {
            "automargin": true,
            "type": "pie"
           }
          ],
          "scatter": [
           {
            "marker": {
             "colorbar": {
              "outlinewidth": 0,
              "ticks": ""
             }
            },
            "type": "scatter"
           }
          ],
          "scatter3d": [
           {
            "line": {
             "colorbar": {
              "outlinewidth": 0,
              "ticks": ""
             }
            },
            "marker": {
             "colorbar": {
              "outlinewidth": 0,
              "ticks": ""
             }
            },
            "type": "scatter3d"
           }
          ],
          "scattercarpet": [
           {
            "marker": {
             "colorbar": {
              "outlinewidth": 0,
              "ticks": ""
             }
            },
            "type": "scattercarpet"
           }
          ],
          "scattergeo": [
           {
            "marker": {
             "colorbar": {
              "outlinewidth": 0,
              "ticks": ""
             }
            },
            "type": "scattergeo"
           }
          ],
          "scattergl": [
           {
            "marker": {
             "colorbar": {
              "outlinewidth": 0,
              "ticks": ""
             }
            },
            "type": "scattergl"
           }
          ],
          "scattermapbox": [
           {
            "marker": {
             "colorbar": {
              "outlinewidth": 0,
              "ticks": ""
             }
            },
            "type": "scattermapbox"
           }
          ],
          "scatterpolar": [
           {
            "marker": {
             "colorbar": {
              "outlinewidth": 0,
              "ticks": ""
             }
            },
            "type": "scatterpolar"
           }
          ],
          "scatterpolargl": [
           {
            "marker": {
             "colorbar": {
              "outlinewidth": 0,
              "ticks": ""
             }
            },
            "type": "scatterpolargl"
           }
          ],
          "scatterternary": [
           {
            "marker": {
             "colorbar": {
              "outlinewidth": 0,
              "ticks": ""
             }
            },
            "type": "scatterternary"
           }
          ],
          "surface": [
           {
            "colorbar": {
             "outlinewidth": 0,
             "ticks": ""
            },
            "colorscale": [
             [
              0,
              "#0d0887"
             ],
             [
              0.1111111111111111,
              "#46039f"
             ],
             [
              0.2222222222222222,
              "#7201a8"
             ],
             [
              0.3333333333333333,
              "#9c179e"
             ],
             [
              0.4444444444444444,
              "#bd3786"
             ],
             [
              0.5555555555555556,
              "#d8576b"
             ],
             [
              0.6666666666666666,
              "#ed7953"
             ],
             [
              0.7777777777777778,
              "#fb9f3a"
             ],
             [
              0.8888888888888888,
              "#fdca26"
             ],
             [
              1,
              "#f0f921"
             ]
            ],
            "type": "surface"
           }
          ],
          "table": [
           {
            "cells": {
             "fill": {
              "color": "#EBF0F8"
             },
             "line": {
              "color": "white"
             }
            },
            "header": {
             "fill": {
              "color": "#C8D4E3"
             },
             "line": {
              "color": "white"
             }
            },
            "type": "table"
           }
          ]
         },
         "layout": {
          "annotationdefaults": {
           "arrowcolor": "#2a3f5f",
           "arrowhead": 0,
           "arrowwidth": 1
          },
          "autotypenumbers": "strict",
          "coloraxis": {
           "colorbar": {
            "outlinewidth": 0,
            "ticks": ""
           }
          },
          "colorscale": {
           "diverging": [
            [
             0,
             "#8e0152"
            ],
            [
             0.1,
             "#c51b7d"
            ],
            [
             0.2,
             "#de77ae"
            ],
            [
             0.3,
             "#f1b6da"
            ],
            [
             0.4,
             "#fde0ef"
            ],
            [
             0.5,
             "#f7f7f7"
            ],
            [
             0.6,
             "#e6f5d0"
            ],
            [
             0.7,
             "#b8e186"
            ],
            [
             0.8,
             "#7fbc41"
            ],
            [
             0.9,
             "#4d9221"
            ],
            [
             1,
             "#276419"
            ]
           ],
           "sequential": [
            [
             0,
             "#0d0887"
            ],
            [
             0.1111111111111111,
             "#46039f"
            ],
            [
             0.2222222222222222,
             "#7201a8"
            ],
            [
             0.3333333333333333,
             "#9c179e"
            ],
            [
             0.4444444444444444,
             "#bd3786"
            ],
            [
             0.5555555555555556,
             "#d8576b"
            ],
            [
             0.6666666666666666,
             "#ed7953"
            ],
            [
             0.7777777777777778,
             "#fb9f3a"
            ],
            [
             0.8888888888888888,
             "#fdca26"
            ],
            [
             1,
             "#f0f921"
            ]
           ],
           "sequentialminus": [
            [
             0,
             "#0d0887"
            ],
            [
             0.1111111111111111,
             "#46039f"
            ],
            [
             0.2222222222222222,
             "#7201a8"
            ],
            [
             0.3333333333333333,
             "#9c179e"
            ],
            [
             0.4444444444444444,
             "#bd3786"
            ],
            [
             0.5555555555555556,
             "#d8576b"
            ],
            [
             0.6666666666666666,
             "#ed7953"
            ],
            [
             0.7777777777777778,
             "#fb9f3a"
            ],
            [
             0.8888888888888888,
             "#fdca26"
            ],
            [
             1,
             "#f0f921"
            ]
           ]
          },
          "colorway": [
           "#636efa",
           "#EF553B",
           "#00cc96",
           "#ab63fa",
           "#FFA15A",
           "#19d3f3",
           "#FF6692",
           "#B6E880",
           "#FF97FF",
           "#FECB52"
          ],
          "font": {
           "color": "#2a3f5f"
          },
          "geo": {
           "bgcolor": "white",
           "lakecolor": "white",
           "landcolor": "#E5ECF6",
           "showlakes": true,
           "showland": true,
           "subunitcolor": "white"
          },
          "hoverlabel": {
           "align": "left"
          },
          "hovermode": "closest",
          "mapbox": {
           "style": "light"
          },
          "paper_bgcolor": "white",
          "plot_bgcolor": "#E5ECF6",
          "polar": {
           "angularaxis": {
            "gridcolor": "white",
            "linecolor": "white",
            "ticks": ""
           },
           "bgcolor": "#E5ECF6",
           "radialaxis": {
            "gridcolor": "white",
            "linecolor": "white",
            "ticks": ""
           }
          },
          "scene": {
           "xaxis": {
            "backgroundcolor": "#E5ECF6",
            "gridcolor": "white",
            "gridwidth": 2,
            "linecolor": "white",
            "showbackground": true,
            "ticks": "",
            "zerolinecolor": "white"
           },
           "yaxis": {
            "backgroundcolor": "#E5ECF6",
            "gridcolor": "white",
            "gridwidth": 2,
            "linecolor": "white",
            "showbackground": true,
            "ticks": "",
            "zerolinecolor": "white"
           },
           "zaxis": {
            "backgroundcolor": "#E5ECF6",
            "gridcolor": "white",
            "gridwidth": 2,
            "linecolor": "white",
            "showbackground": true,
            "ticks": "",
            "zerolinecolor": "white"
           }
          },
          "shapedefaults": {
           "line": {
            "color": "#2a3f5f"
           }
          },
          "ternary": {
           "aaxis": {
            "gridcolor": "white",
            "linecolor": "white",
            "ticks": ""
           },
           "baxis": {
            "gridcolor": "white",
            "linecolor": "white",
            "ticks": ""
           },
           "bgcolor": "#E5ECF6",
           "caxis": {
            "gridcolor": "white",
            "linecolor": "white",
            "ticks": ""
           }
          },
          "title": {
           "x": 0.05
          },
          "xaxis": {
           "automargin": true,
           "gridcolor": "white",
           "linecolor": "white",
           "ticks": "",
           "title": {
            "standoff": 15
           },
           "zerolinecolor": "white",
           "zerolinewidth": 2
          },
          "yaxis": {
           "automargin": true,
           "gridcolor": "white",
           "linecolor": "white",
           "ticks": "",
           "title": {
            "standoff": 15
           },
           "zerolinecolor": "white",
           "zerolinewidth": 2
          }
         }
        }
       }
      }
     },
     "metadata": {},
     "output_type": "display_data"
    }
   ],
   "source": [
    "[X_train, _, y_train] = load_data()\n",
    "\n",
    "n_components = 4\n",
    "pca = PCA(n_components)\n",
    "pipeline = Pipeline([('scaler', StandardScaler()), ('pca', pca)])\n",
    "components = pipeline.fit_transform(X_train)\n",
    "labels = {\n",
    "    str(i): f\"PC{i+1} ({var:.1f}%)\"\n",
    "    for i, var in enumerate(pca.explained_variance_ratio_ * 100)\n",
    "}\n",
    "\n",
    "fig = px.scatter_matrix(\n",
    "    components,\n",
    "    labels=labels,\n",
    "    dimensions=range(n_components),\n",
    "    color=y_train\n",
    ")\n",
    "fig.update_traces(diagonal_visible=False)\n",
    "fig.show()"
   ]
  },
  {
   "cell_type": "code",
   "execution_count": null,
   "metadata": {},
   "outputs": [
    {
     "data": {
      "image/png": "[encoded data removed]",
      "text/plain": [
       "<Figure size 432x288 with 1 Axes>"
      ]
     },
     "metadata": {
      "needs_background": "light"
     },
     "output_type": "display_data"
    }
   ],
   "source": [
    "# https://jakevdp.github.io/PythonDataScienceHandbook/05.09-principal-component-analysis.html\n",
    "[X_train, _, y_train] = load_data()\n",
    "\n",
    "pca = PCA()\n",
    "pipeline = Pipeline([('scaler', StandardScaler()), ('pca', pca)])\n",
    "components = pipeline.fit(X_train)\n",
    "plt.plot(np.cumsum(pca.explained_variance_ratio_))\n",
    "plt.xlabel('number of components')\n",
    "plt.ylabel('cumulative explained variance')\n",
    "plt.show()"
   ]
  },
  {
   "cell_type": "markdown",
   "metadata": {},
   "source": [
    "A vital part of using PCA in practice is the ability to estimate how many components are needed to describe the data. This can be determined by looking at the cumulative explained variance ratio as a function of the number of components:\n",
    "\n",
    "This curve quantifies how much of the total, 17-dimensional variance is contained within the first N components. For example, we see that with the digits the first 4 components contain approximately 75% of the variance, while you need around 12 components to describe close to 100% of the variance.\n",
    "\n",
    "Here we see that our two-dimensional projection loses a lot of information (as measured by the explained variance) and that we'd need about 7 components to retain 90% of the variance. Looking at this plot for a high-dimensional dataset can help understand the level of redundancy present in multiple observations."
   ]
  }
 ],
 "metadata": {
  "interpreter": {
   "hash": "916dbcbb3f70747c44a77c7bcd40155683ae19c65e1c03b4aa3499c5328201f1"
  },
  "kernelspec": {
   "display_name": "Python 3.8.10 64-bit",
   "language": "python",
   "name": "python3"
  },
  "language_info": {
   "codemirror_mode": {
    "name": "ipython",
    "version": 3
   },
   "file_extension": ".py",
   "mimetype": "text/x-python",
   "name": "python",
   "nbconvert_exporter": "python",
   "pygments_lexer": "ipython3",
   "version": "3.9.2"
  },
  "orig_nbformat": 4
 },
 "nbformat": 4,
 "nbformat_minor": 2
}
